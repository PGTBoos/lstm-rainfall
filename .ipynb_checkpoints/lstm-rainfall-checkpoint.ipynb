{
 "cells": [
  {
   "cell_type": "markdown",
   "metadata": {},
   "source": [
    "## Python version"
   ]
  },
  {
   "cell_type": "code",
   "execution_count": 1,
   "metadata": {},
   "outputs": [
    {
     "name": "stdout",
     "output_type": "stream",
     "text": [
      "3.6.5\n"
     ]
    }
   ],
   "source": [
    "from platform import python_version\n",
    "print(python_version())"
   ]
  },
  {
   "cell_type": "markdown",
   "metadata": {},
   "source": [
    "## Import Libraries"
   ]
  },
  {
   "cell_type": "code",
   "execution_count": 2,
   "metadata": {},
   "outputs": [
    {
     "name": "stderr",
     "output_type": "stream",
     "text": [
      "/home/michael/anaconda3/lib/python3.6/site-packages/tensorflow/python/framework/dtypes.py:523: FutureWarning: Passing (type, 1) or '1type' as a synonym of type is deprecated; in a future version of numpy, it will be understood as (type, (1,)) / '(1,)type'.\n",
      "  _np_qint8 = np.dtype([(\"qint8\", np.int8, 1)])\n",
      "/home/michael/anaconda3/lib/python3.6/site-packages/tensorflow/python/framework/dtypes.py:524: FutureWarning: Passing (type, 1) or '1type' as a synonym of type is deprecated; in a future version of numpy, it will be understood as (type, (1,)) / '(1,)type'.\n",
      "  _np_quint8 = np.dtype([(\"quint8\", np.uint8, 1)])\n",
      "/home/michael/anaconda3/lib/python3.6/site-packages/tensorflow/python/framework/dtypes.py:525: FutureWarning: Passing (type, 1) or '1type' as a synonym of type is deprecated; in a future version of numpy, it will be understood as (type, (1,)) / '(1,)type'.\n",
      "  _np_qint16 = np.dtype([(\"qint16\", np.int16, 1)])\n",
      "/home/michael/anaconda3/lib/python3.6/site-packages/tensorflow/python/framework/dtypes.py:526: FutureWarning: Passing (type, 1) or '1type' as a synonym of type is deprecated; in a future version of numpy, it will be understood as (type, (1,)) / '(1,)type'.\n",
      "  _np_quint16 = np.dtype([(\"quint16\", np.uint16, 1)])\n",
      "/home/michael/anaconda3/lib/python3.6/site-packages/tensorflow/python/framework/dtypes.py:527: FutureWarning: Passing (type, 1) or '1type' as a synonym of type is deprecated; in a future version of numpy, it will be understood as (type, (1,)) / '(1,)type'.\n",
      "  _np_qint32 = np.dtype([(\"qint32\", np.int32, 1)])\n",
      "/home/michael/anaconda3/lib/python3.6/site-packages/tensorflow/python/framework/dtypes.py:532: FutureWarning: Passing (type, 1) or '1type' as a synonym of type is deprecated; in a future version of numpy, it will be understood as (type, (1,)) / '(1,)type'.\n",
      "  np_resource = np.dtype([(\"resource\", np.ubyte, 1)])\n",
      "/home/michael/anaconda3/lib/python3.6/site-packages/tensorboard/compat/tensorflow_stub/dtypes.py:541: FutureWarning: Passing (type, 1) or '1type' as a synonym of type is deprecated; in a future version of numpy, it will be understood as (type, (1,)) / '(1,)type'.\n",
      "  _np_qint8 = np.dtype([(\"qint8\", np.int8, 1)])\n",
      "/home/michael/anaconda3/lib/python3.6/site-packages/tensorboard/compat/tensorflow_stub/dtypes.py:542: FutureWarning: Passing (type, 1) or '1type' as a synonym of type is deprecated; in a future version of numpy, it will be understood as (type, (1,)) / '(1,)type'.\n",
      "  _np_quint8 = np.dtype([(\"quint8\", np.uint8, 1)])\n",
      "/home/michael/anaconda3/lib/python3.6/site-packages/tensorboard/compat/tensorflow_stub/dtypes.py:543: FutureWarning: Passing (type, 1) or '1type' as a synonym of type is deprecated; in a future version of numpy, it will be understood as (type, (1,)) / '(1,)type'.\n",
      "  _np_qint16 = np.dtype([(\"qint16\", np.int16, 1)])\n",
      "/home/michael/anaconda3/lib/python3.6/site-packages/tensorboard/compat/tensorflow_stub/dtypes.py:544: FutureWarning: Passing (type, 1) or '1type' as a synonym of type is deprecated; in a future version of numpy, it will be understood as (type, (1,)) / '(1,)type'.\n",
      "  _np_quint16 = np.dtype([(\"quint16\", np.uint16, 1)])\n",
      "/home/michael/anaconda3/lib/python3.6/site-packages/tensorboard/compat/tensorflow_stub/dtypes.py:545: FutureWarning: Passing (type, 1) or '1type' as a synonym of type is deprecated; in a future version of numpy, it will be understood as (type, (1,)) / '(1,)type'.\n",
      "  _np_qint32 = np.dtype([(\"qint32\", np.int32, 1)])\n",
      "/home/michael/anaconda3/lib/python3.6/site-packages/tensorboard/compat/tensorflow_stub/dtypes.py:550: FutureWarning: Passing (type, 1) or '1type' as a synonym of type is deprecated; in a future version of numpy, it will be understood as (type, (1,)) / '(1,)type'.\n",
      "  np_resource = np.dtype([(\"resource\", np.ubyte, 1)])\n"
     ]
    }
   ],
   "source": [
    "import tensorflow\n",
    "tensorflow.random.set_seed(1234)"
   ]
  },
  {
   "cell_type": "code",
   "execution_count": 3,
   "metadata": {},
   "outputs": [
    {
     "name": "stderr",
     "output_type": "stream",
     "text": [
      "/home/michael/anaconda3/lib/python3.6/site-packages/statsmodels/tools/_testing.py:19: FutureWarning: pandas.util.testing is deprecated. Use the functions in the public API at pandas.testing instead.\n",
      "  import pandas.util.testing as tm\n"
     ]
    }
   ],
   "source": [
    "import numpy as np\n",
    "from numpy.random import seed\n",
    "seed(1)\n",
    "\n",
    "import os\n",
    "import csv\n",
    "import random\n",
    "import statsmodels.api as sm\n",
    "import statsmodels.formula.api as smf\n",
    "import pandas as pd\n",
    "from sklearn.model_selection import train_test_split\n",
    "from sklearn.linear_model import LogisticRegression\n",
    "from sklearn.ensemble import ExtraTreesClassifier\n",
    "from sklearn.preprocessing import MinMaxScaler"
   ]
  },
  {
   "cell_type": "markdown",
   "metadata": {},
   "source": [
    "## Import Data"
   ]
  },
  {
   "cell_type": "code",
   "execution_count": 4,
   "metadata": {},
   "outputs": [
    {
     "data": {
      "text/html": [
       "<div>\n",
       "<style scoped>\n",
       "    .dataframe tbody tr th:only-of-type {\n",
       "        vertical-align: middle;\n",
       "    }\n",
       "\n",
       "    .dataframe tbody tr th {\n",
       "        vertical-align: top;\n",
       "    }\n",
       "\n",
       "    .dataframe thead th {\n",
       "        text-align: right;\n",
       "    }\n",
       "</style>\n",
       "<table border=\"1\" class=\"dataframe\">\n",
       "  <thead>\n",
       "    <tr style=\"text-align: right;\">\n",
       "      <th></th>\n",
       "      <th>year</th>\n",
       "      <th>month</th>\n",
       "      <th>rain</th>\n",
       "    </tr>\n",
       "  </thead>\n",
       "  <tbody>\n",
       "    <tr>\n",
       "      <th>0</th>\n",
       "      <td>1959</td>\n",
       "      <td>11</td>\n",
       "      <td>193.0</td>\n",
       "    </tr>\n",
       "    <tr>\n",
       "      <th>1</th>\n",
       "      <td>1959</td>\n",
       "      <td>12</td>\n",
       "      <td>295.4</td>\n",
       "    </tr>\n",
       "    <tr>\n",
       "      <th>2</th>\n",
       "      <td>1960</td>\n",
       "      <td>1</td>\n",
       "      <td>127.9</td>\n",
       "    </tr>\n",
       "    <tr>\n",
       "      <th>3</th>\n",
       "      <td>1960</td>\n",
       "      <td>2</td>\n",
       "      <td>106.1</td>\n",
       "    </tr>\n",
       "    <tr>\n",
       "      <th>4</th>\n",
       "      <td>1960</td>\n",
       "      <td>3</td>\n",
       "      <td>53.9</td>\n",
       "    </tr>\n",
       "    <tr>\n",
       "      <th>...</th>\n",
       "      <td>...</td>\n",
       "      <td>...</td>\n",
       "      <td>...</td>\n",
       "    </tr>\n",
       "    <tr>\n",
       "      <th>717</th>\n",
       "      <td>2019</td>\n",
       "      <td>8</td>\n",
       "      <td>221.9</td>\n",
       "    </tr>\n",
       "    <tr>\n",
       "      <th>718</th>\n",
       "      <td>2019</td>\n",
       "      <td>9</td>\n",
       "      <td>166.3</td>\n",
       "    </tr>\n",
       "    <tr>\n",
       "      <th>719</th>\n",
       "      <td>2019</td>\n",
       "      <td>10</td>\n",
       "      <td>152.0</td>\n",
       "    </tr>\n",
       "    <tr>\n",
       "      <th>720</th>\n",
       "      <td>2019</td>\n",
       "      <td>11</td>\n",
       "      <td>142.5</td>\n",
       "    </tr>\n",
       "    <tr>\n",
       "      <th>721</th>\n",
       "      <td>2019</td>\n",
       "      <td>12</td>\n",
       "      <td>217.3</td>\n",
       "    </tr>\n",
       "  </tbody>\n",
       "</table>\n",
       "<p>722 rows × 3 columns</p>\n",
       "</div>"
      ],
      "text/plain": [
       "     year  month   rain\n",
       "0    1959     11  193.0\n",
       "1    1959     12  295.4\n",
       "2    1960      1  127.9\n",
       "3    1960      2  106.1\n",
       "4    1960      3   53.9\n",
       "..    ...    ...    ...\n",
       "717  2019      8  221.9\n",
       "718  2019      9  166.3\n",
       "719  2019     10  152.0\n",
       "720  2019     11  142.5\n",
       "721  2019     12  217.3\n",
       "\n",
       "[722 rows x 3 columns]"
      ]
     },
     "execution_count": 4,
     "metadata": {},
     "output_type": "execute_result"
    }
   ],
   "source": [
    "mydata=pd.read_csv(\"mly833.csv\")\n",
    "mydata"
   ]
  },
  {
   "cell_type": "code",
   "execution_count": 5,
   "metadata": {},
   "outputs": [
    {
     "data": {
      "text/plain": [
       "0      193.0\n",
       "1      295.4\n",
       "2      127.9\n",
       "3      106.1\n",
       "4       53.9\n",
       "       ...  \n",
       "717    221.9\n",
       "718    166.3\n",
       "719    152.0\n",
       "720    142.5\n",
       "721    217.3\n",
       "Name: rain, Length: 722, dtype: float64"
      ]
     },
     "execution_count": 5,
     "metadata": {},
     "output_type": "execute_result"
    }
   ],
   "source": [
    "tseries=mydata['rain']\n",
    "tseries"
   ]
  },
  {
   "cell_type": "code",
   "execution_count": 6,
   "metadata": {},
   "outputs": [
    {
     "data": {
      "text/plain": [
       "pandas.core.series.Series"
      ]
     },
     "execution_count": 6,
     "metadata": {},
     "output_type": "execute_result"
    }
   ],
   "source": [
    "type(tseries)"
   ]
  },
  {
   "cell_type": "markdown",
   "metadata": {},
   "source": [
    "### Ljung-Box Test"
   ]
  },
  {
   "cell_type": "code",
   "execution_count": 7,
   "metadata": {},
   "outputs": [
    {
     "data": {
      "text/plain": [
       "(array([78.09028704]), array([1.18734005e-12]))"
      ]
     },
     "execution_count": 7,
     "metadata": {},
     "output_type": "execute_result"
    }
   ],
   "source": [
    "# https://www.statsmodels.org/stable/generated/statsmodels.stats.diagnostic.acorr_ljungbox.html\n",
    "res = sm.tsa.ARMA(tseries, (1,1)).fit(disp=-1)\n",
    "sm.stats.acorr_ljungbox(res.resid, lags=[10])"
   ]
  },
  {
   "cell_type": "markdown",
   "metadata": {},
   "source": [
    "### Dickey-Fuller Test"
   ]
  },
  {
   "cell_type": "code",
   "execution_count": 8,
   "metadata": {},
   "outputs": [
    {
     "name": "stdout",
     "output_type": "stream",
     "text": [
      "ADF Statistic: -5.927739\n",
      "p-value: 0.000000\n",
      "Critical Values:\n",
      "\t1%: -3.440\n",
      "\t5%: -2.866\n",
      "\t10%: -2.569\n"
     ]
    }
   ],
   "source": [
    "from statsmodels.tsa.stattools import adfuller\n",
    "result = adfuller(tseries)\n",
    "print('ADF Statistic: %f' % result[0])\n",
    "print('p-value: %f' % result[1])\n",
    "print('Critical Values:')\n",
    "for key, value in result[4].items():\n",
    "    print('\\t%s: %.3f' % (key, value))"
   ]
  },
  {
   "cell_type": "code",
   "execution_count": 9,
   "metadata": {},
   "outputs": [
    {
     "data": {
      "image/png": "[encoded data removed]",
      "text/plain": [
       "<Figure size 432x288 with 1 Axes>"
      ]
     },
     "metadata": {
      "needs_background": "light"
     },
     "output_type": "display_data"
    }
   ],
   "source": [
    "import matplotlib.pyplot as plt\n",
    "plt.plot(tseries)\n",
    "plt.tick_params(\n",
    "    axis='x',          # changes apply to the x-axis\n",
    "    which='both',      # both major and minor ticks are affected\n",
    "    bottom=False,      # ticks along the bottom edge are off\n",
    "    top=False,         # ticks along the top edge are off\n",
    "    labelbottom=False) # labels along the bottom edge are off\n",
    "plt.ylabel('Rainfall')\n",
    "plt.title(\"Rainfall\")\n",
    "plt.show()"
   ]
  },
  {
   "cell_type": "code",
   "execution_count": 10,
   "metadata": {},
   "outputs": [
    {
     "data": {
      "text/html": [
       "<div>\n",
       "<style scoped>\n",
       "    .dataframe tbody tr th:only-of-type {\n",
       "        vertical-align: middle;\n",
       "    }\n",
       "\n",
       "    .dataframe tbody tr th {\n",
       "        vertical-align: top;\n",
       "    }\n",
       "\n",
       "    .dataframe thead th {\n",
       "        text-align: right;\n",
       "    }\n",
       "</style>\n",
       "<table border=\"1\" class=\"dataframe\">\n",
       "  <thead>\n",
       "    <tr style=\"text-align: right;\">\n",
       "      <th></th>\n",
       "      <th>rain</th>\n",
       "    </tr>\n",
       "  </thead>\n",
       "  <tbody>\n",
       "    <tr>\n",
       "      <th>0</th>\n",
       "      <td>193.0</td>\n",
       "    </tr>\n",
       "    <tr>\n",
       "      <th>1</th>\n",
       "      <td>295.4</td>\n",
       "    </tr>\n",
       "    <tr>\n",
       "      <th>2</th>\n",
       "      <td>127.9</td>\n",
       "    </tr>\n",
       "    <tr>\n",
       "      <th>3</th>\n",
       "      <td>106.1</td>\n",
       "    </tr>\n",
       "    <tr>\n",
       "      <th>4</th>\n",
       "      <td>53.9</td>\n",
       "    </tr>\n",
       "    <tr>\n",
       "      <th>...</th>\n",
       "      <td>...</td>\n",
       "    </tr>\n",
       "    <tr>\n",
       "      <th>717</th>\n",
       "      <td>221.9</td>\n",
       "    </tr>\n",
       "    <tr>\n",
       "      <th>718</th>\n",
       "      <td>166.3</td>\n",
       "    </tr>\n",
       "    <tr>\n",
       "      <th>719</th>\n",
       "      <td>152.0</td>\n",
       "    </tr>\n",
       "    <tr>\n",
       "      <th>720</th>\n",
       "      <td>142.5</td>\n",
       "    </tr>\n",
       "    <tr>\n",
       "      <th>721</th>\n",
       "      <td>217.3</td>\n",
       "    </tr>\n",
       "  </tbody>\n",
       "</table>\n",
       "<p>722 rows × 1 columns</p>\n",
       "</div>"
      ],
      "text/plain": [
       "      rain\n",
       "0    193.0\n",
       "1    295.4\n",
       "2    127.9\n",
       "3    106.1\n",
       "4     53.9\n",
       "..     ...\n",
       "717  221.9\n",
       "718  166.3\n",
       "719  152.0\n",
       "720  142.5\n",
       "721  217.3\n",
       "\n",
       "[722 rows x 1 columns]"
      ]
     },
     "execution_count": 10,
     "metadata": {},
     "output_type": "execute_result"
    }
   ],
   "source": [
    "df=pd.DataFrame(tseries)\n",
    "df"
   ]
  },
  {
   "cell_type": "code",
   "execution_count": 11,
   "metadata": {},
   "outputs": [],
   "source": [
    "df = df[:712]"
   ]
  },
  {
   "cell_type": "code",
   "execution_count": 12,
   "metadata": {},
   "outputs": [
    {
     "data": {
      "text/html": [
       "<div>\n",
       "<style scoped>\n",
       "    .dataframe tbody tr th:only-of-type {\n",
       "        vertical-align: middle;\n",
       "    }\n",
       "\n",
       "    .dataframe tbody tr th {\n",
       "        vertical-align: top;\n",
       "    }\n",
       "\n",
       "    .dataframe thead th {\n",
       "        text-align: right;\n",
       "    }\n",
       "</style>\n",
       "<table border=\"1\" class=\"dataframe\">\n",
       "  <thead>\n",
       "    <tr style=\"text-align: right;\">\n",
       "      <th></th>\n",
       "      <th>rain</th>\n",
       "    </tr>\n",
       "  </thead>\n",
       "  <tbody>\n",
       "    <tr>\n",
       "      <th>0</th>\n",
       "      <td>193.0</td>\n",
       "    </tr>\n",
       "    <tr>\n",
       "      <th>1</th>\n",
       "      <td>295.4</td>\n",
       "    </tr>\n",
       "    <tr>\n",
       "      <th>2</th>\n",
       "      <td>127.9</td>\n",
       "    </tr>\n",
       "    <tr>\n",
       "      <th>3</th>\n",
       "      <td>106.1</td>\n",
       "    </tr>\n",
       "    <tr>\n",
       "      <th>4</th>\n",
       "      <td>53.9</td>\n",
       "    </tr>\n",
       "    <tr>\n",
       "      <th>...</th>\n",
       "      <td>...</td>\n",
       "    </tr>\n",
       "    <tr>\n",
       "      <th>707</th>\n",
       "      <td>131.2</td>\n",
       "    </tr>\n",
       "    <tr>\n",
       "      <th>708</th>\n",
       "      <td>150.6</td>\n",
       "    </tr>\n",
       "    <tr>\n",
       "      <th>709</th>\n",
       "      <td>189.1</td>\n",
       "    </tr>\n",
       "    <tr>\n",
       "      <th>710</th>\n",
       "      <td>139.1</td>\n",
       "    </tr>\n",
       "    <tr>\n",
       "      <th>711</th>\n",
       "      <td>107.9</td>\n",
       "    </tr>\n",
       "  </tbody>\n",
       "</table>\n",
       "<p>712 rows × 1 columns</p>\n",
       "</div>"
      ],
      "text/plain": [
       "      rain\n",
       "0    193.0\n",
       "1    295.4\n",
       "2    127.9\n",
       "3    106.1\n",
       "4     53.9\n",
       "..     ...\n",
       "707  131.2\n",
       "708  150.6\n",
       "709  189.1\n",
       "710  139.1\n",
       "711  107.9\n",
       "\n",
       "[712 rows x 1 columns]"
      ]
     },
     "execution_count": 12,
     "metadata": {},
     "output_type": "execute_result"
    }
   ],
   "source": [
    "df"
   ]
  },
  {
   "cell_type": "markdown",
   "metadata": {},
   "source": [
    "### Form dataset matrix"
   ]
  },
  {
   "cell_type": "code",
   "execution_count": 13,
   "metadata": {},
   "outputs": [],
   "source": [
    "def create_dataset(df, previous=1):\n",
    "    dataX, dataY = [], []\n",
    "    for i in range(len(df)-previous-1):\n",
    "        a = df[i:(i+previous), 0]\n",
    "        dataX.append(a)\n",
    "        dataY.append(df[i + previous, 0])\n",
    "    return np.array(dataX), np.array(dataY)"
   ]
  },
  {
   "cell_type": "code",
   "execution_count": 14,
   "metadata": {},
   "outputs": [
    {
     "data": {
      "text/html": [
       "<div>\n",
       "<style scoped>\n",
       "    .dataframe tbody tr th:only-of-type {\n",
       "        vertical-align: middle;\n",
       "    }\n",
       "\n",
       "    .dataframe tbody tr th {\n",
       "        vertical-align: top;\n",
       "    }\n",
       "\n",
       "    .dataframe thead th {\n",
       "        text-align: right;\n",
       "    }\n",
       "</style>\n",
       "<table border=\"1\" class=\"dataframe\">\n",
       "  <thead>\n",
       "    <tr style=\"text-align: right;\">\n",
       "      <th></th>\n",
       "      <th>rain</th>\n",
       "    </tr>\n",
       "  </thead>\n",
       "  <tbody>\n",
       "    <tr>\n",
       "      <th>0</th>\n",
       "      <td>193.0</td>\n",
       "    </tr>\n",
       "    <tr>\n",
       "      <th>1</th>\n",
       "      <td>295.4</td>\n",
       "    </tr>\n",
       "    <tr>\n",
       "      <th>2</th>\n",
       "      <td>127.9</td>\n",
       "    </tr>\n",
       "    <tr>\n",
       "      <th>3</th>\n",
       "      <td>106.1</td>\n",
       "    </tr>\n",
       "    <tr>\n",
       "      <th>4</th>\n",
       "      <td>53.9</td>\n",
       "    </tr>\n",
       "    <tr>\n",
       "      <th>...</th>\n",
       "      <td>...</td>\n",
       "    </tr>\n",
       "    <tr>\n",
       "      <th>707</th>\n",
       "      <td>131.2</td>\n",
       "    </tr>\n",
       "    <tr>\n",
       "      <th>708</th>\n",
       "      <td>150.6</td>\n",
       "    </tr>\n",
       "    <tr>\n",
       "      <th>709</th>\n",
       "      <td>189.1</td>\n",
       "    </tr>\n",
       "    <tr>\n",
       "      <th>710</th>\n",
       "      <td>139.1</td>\n",
       "    </tr>\n",
       "    <tr>\n",
       "      <th>711</th>\n",
       "      <td>107.9</td>\n",
       "    </tr>\n",
       "  </tbody>\n",
       "</table>\n",
       "<p>712 rows × 1 columns</p>\n",
       "</div>"
      ],
      "text/plain": [
       "      rain\n",
       "0    193.0\n",
       "1    295.4\n",
       "2    127.9\n",
       "3    106.1\n",
       "4     53.9\n",
       "..     ...\n",
       "707  131.2\n",
       "708  150.6\n",
       "709  189.1\n",
       "710  139.1\n",
       "711  107.9\n",
       "\n",
       "[712 rows x 1 columns]"
      ]
     },
     "execution_count": 14,
     "metadata": {},
     "output_type": "execute_result"
    }
   ],
   "source": [
    "df"
   ]
  },
  {
   "cell_type": "markdown",
   "metadata": {},
   "source": [
    "## Normalize dataset with MinMaxScaler"
   ]
  },
  {
   "cell_type": "code",
   "execution_count": 15,
   "metadata": {},
   "outputs": [
    {
     "data": {
      "text/plain": [
       "array([[0.53242707],\n",
       "       [0.82242991],\n",
       "       [0.34806004],\n",
       "       [0.28632116],\n",
       "       [0.13848768],\n",
       "       [0.34494477],\n",
       "       [0.14811668],\n",
       "       [0.33050127],\n",
       "       [0.39139054],\n",
       "       [0.31067686],\n",
       "       [0.31634098],\n",
       "       [0.19003115],\n",
       "       [0.62390258],\n",
       "       [0.5865194 ],\n",
       "       [0.54007363],\n",
       "       [0.36731804],\n",
       "       [0.13055792],\n",
       "       [0.25828377],\n",
       "       [0.16737468],\n",
       "       [0.24468989],\n",
       "       [0.48937978],\n",
       "       [0.44038516],\n",
       "       [0.4709714 ],\n",
       "       [0.57320872],\n",
       "       [0.37751345],\n",
       "       [0.39025772],\n",
       "       [0.58850184],\n",
       "       [0.34211272],\n",
       "       [0.35032569],\n",
       "       [0.3268196 ],\n",
       "       [0.1922968 ],\n",
       "       [0.23760974],\n",
       "       [0.20504106],\n",
       "       [0.44916454],\n",
       "       [0.47352025],\n",
       "       [0.25403568],\n",
       "       [0.42367601],\n",
       "       [0.50438969],\n",
       "       [0.05947324],\n",
       "       [0.11894647],\n",
       "       [0.42877372],\n",
       "       [0.26649674],\n",
       "       [0.3367318 ],\n",
       "       [0.25630133],\n",
       "       [0.27131124],\n",
       "       [0.32427074],\n",
       "       [0.36731804],\n",
       "       [0.42962334],\n",
       "       [0.62956669],\n",
       "       [0.13622203],\n",
       "       [0.23647692],\n",
       "       [0.09742283],\n",
       "       [0.24214104],\n",
       "       [0.2163693 ],\n",
       "       [0.31804022],\n",
       "       [0.23251204],\n",
       "       [0.28745398],\n",
       "       [0.37751345],\n",
       "       [0.57377513],\n",
       "       [0.51203625],\n",
       "       [0.42622487],\n",
       "       [0.57094308],\n",
       "       [0.70943076],\n",
       "       [0.04672897],\n",
       "       [0.32540357],\n",
       "       [0.4372699 ],\n",
       "       [0.2452563 ],\n",
       "       [0.41857831],\n",
       "       [0.19484565],\n",
       "       [0.32455395],\n",
       "       [0.42537525],\n",
       "       [0.45341263],\n",
       "       [0.50297366],\n",
       "       [0.62560181],\n",
       "       [0.2883036 ],\n",
       "       [0.39790428],\n",
       "       [0.37156613],\n",
       "       [0.3171906 ],\n",
       "       [0.43500425],\n",
       "       [0.33814783],\n",
       "       [0.21580289],\n",
       "       [0.19342962],\n",
       "       [0.28462192],\n",
       "       [0.2931181 ],\n",
       "       [0.41716228],\n",
       "       [0.95497026],\n",
       "       [0.2931181 ],\n",
       "       [0.32936845],\n",
       "       [0.43642028],\n",
       "       [0.23421127],\n",
       "       [0.3171906 ],\n",
       "       [0.15802889],\n",
       "       [0.32115548],\n",
       "       [0.27329368],\n",
       "       [0.51090343],\n",
       "       [0.71990937],\n",
       "       [0.43302181],\n",
       "       [0.38232795],\n",
       "       [0.60379496],\n",
       "       [0.12800906],\n",
       "       [0.36788445],\n",
       "       [0.16765789],\n",
       "       [0.23449448],\n",
       "       [0.17133956],\n",
       "       [0.13055792],\n",
       "       [0.44066837],\n",
       "       [0.45284622],\n",
       "       [0.50580572],\n",
       "       [0.45001416],\n",
       "       [0.40894931],\n",
       "       [0.46049278],\n",
       "       [0.26508071],\n",
       "       [0.1634098 ],\n",
       "       [0.22571509],\n",
       "       [0.15038233],\n",
       "       [0.29849901],\n",
       "       [0.10818465],\n",
       "       [0.21042198],\n",
       "       [0.16765789],\n",
       "       [0.28518833],\n",
       "       [0.51713396],\n",
       "       [0.49079581],\n",
       "       [0.18606627],\n",
       "       [0.74199943],\n",
       "       [0.38770886],\n",
       "       [0.41121495],\n",
       "       [0.1107335 ],\n",
       "       [0.14811668],\n",
       "       [0.34862645],\n",
       "       [0.31464174],\n",
       "       [0.48314925],\n",
       "       [0.62475219],\n",
       "       [0.55168508],\n",
       "       [0.21835174],\n",
       "       [0.35542339],\n",
       "       [0.36618522],\n",
       "       [0.24072501],\n",
       "       [0.0815633 ],\n",
       "       [0.15463042],\n",
       "       [0.31067686],\n",
       "       [0.13084112],\n",
       "       [0.20419145],\n",
       "       [0.23024639],\n",
       "       [0.30331351],\n",
       "       [0.58595299],\n",
       "       [0.19314642],\n",
       "       [0.29651657],\n",
       "       [0.2645143 ],\n",
       "       [0.38176154],\n",
       "       [0.3845936 ],\n",
       "       [0.38572642],\n",
       "       [0.24752195],\n",
       "       [0.12687624],\n",
       "       [0.18210139],\n",
       "       [0.02237327],\n",
       "       [0.15491362],\n",
       "       [0.52931181],\n",
       "       [0.46587369],\n",
       "       [0.46304163],\n",
       "       [0.41036534],\n",
       "       [0.21750212],\n",
       "       [0.20589068],\n",
       "       [0.31407533],\n",
       "       [0.17558765],\n",
       "       [0.16907392],\n",
       "       [0.44463325],\n",
       "       [0.25290286],\n",
       "       [0.29085245],\n",
       "       [0.66581705],\n",
       "       [0.40611725],\n",
       "       [0.62588502],\n",
       "       [0.3990371 ],\n",
       "       [0.23845936],\n",
       "       [0.03993203],\n",
       "       [0.19088077],\n",
       "       [0.17417162],\n",
       "       [0.35287454],\n",
       "       [0.38572642],\n",
       "       [0.52081563],\n",
       "       [0.30048145],\n",
       "       [0.51600113],\n",
       "       [0.55848202],\n",
       "       [0.72387426],\n",
       "       [0.07080147],\n",
       "       [0.1874823 ],\n",
       "       [0.29679977],\n",
       "       [0.03625035],\n",
       "       [0.12064571],\n",
       "       [0.4613424 ],\n",
       "       [0.24129142],\n",
       "       [0.33050127],\n",
       "       [0.40073634],\n",
       "       [0.42764089],\n",
       "       [0.21495327],\n",
       "       [0.62730105],\n",
       "       [0.19088077],\n",
       "       [0.33616539],\n",
       "       [0.15774568],\n",
       "       [0.36222033],\n",
       "       [0.16737468],\n",
       "       [0.15746248],\n",
       "       [0.00226565],\n",
       "       [0.24412348],\n",
       "       [0.37864628],\n",
       "       [0.38742566],\n",
       "       [0.40583404],\n",
       "       [0.31804022],\n",
       "       [0.34381195],\n",
       "       [0.41687907],\n",
       "       [0.40611725],\n",
       "       [0.09175871],\n",
       "       [0.25545171],\n",
       "       [0.20447465],\n",
       "       [0.26649674],\n",
       "       [0.3608043 ],\n",
       "       [0.55451713],\n",
       "       [0.6828094 ],\n",
       "       [0.38147833],\n",
       "       [0.63891249],\n",
       "       [0.2546021 ],\n",
       "       [0.7114132 ],\n",
       "       [0.0911923 ],\n",
       "       [0.07958086],\n",
       "       [0.21013877],\n",
       "       [0.19824412],\n",
       "       [0.30104786],\n",
       "       [0.68960634],\n",
       "       [0.18804871],\n",
       "       [0.5046729 ],\n",
       "       [0.49107901],\n",
       "       [0.37609742],\n",
       "       [0.15293118],\n",
       "       [0.51373549],\n",
       "       [0.30812801],\n",
       "       [0.38034551],\n",
       "       [0.12715944],\n",
       "       [0.17672048],\n",
       "       [0.50920419],\n",
       "       [0.39393939],\n",
       "       [0.39365619],\n",
       "       [0.60379496],\n",
       "       [0.57802322],\n",
       "       [0.36420278],\n",
       "       [0.31379213],\n",
       "       [0.35174172],\n",
       "       [0.03540074],\n",
       "       [0.05720759],\n",
       "       [0.46700651],\n",
       "       [0.42395922],\n",
       "       [0.27470971],\n",
       "       [0.72274143],\n",
       "       [0.51231946],\n",
       "       [0.53214387],\n",
       "       [0.82101388],\n",
       "       [0.43642028],\n",
       "       [0.28632116],\n",
       "       [0.48456528],\n",
       "       [0.12546021],\n",
       "       [0.42650807],\n",
       "       [0.23137921],\n",
       "       [0.29934863],\n",
       "       [0.27159445],\n",
       "       [0.6828094 ],\n",
       "       [0.58057208],\n",
       "       [0.33389975],\n",
       "       [0.33503257],\n",
       "       [0.3797791 ],\n",
       "       [0.32370433],\n",
       "       [0.49164543],\n",
       "       [0.07278391],\n",
       "       [0.23902577],\n",
       "       [0.32625319],\n",
       "       [0.05664118],\n",
       "       [0.36930048],\n",
       "       [0.31039366],\n",
       "       [0.42905692],\n",
       "       [0.57037666],\n",
       "       [0.83092608],\n",
       "       [0.56414613],\n",
       "       [0.24100821],\n",
       "       [0.55621637],\n",
       "       [0.24950439],\n",
       "       [0.24384027],\n",
       "       [0.10846786],\n",
       "       [0.10308694],\n",
       "       [0.11271594],\n",
       "       [0.48428207],\n",
       "       [0.72302464],\n",
       "       [0.21920136],\n",
       "       [0.47720193],\n",
       "       [0.82271311],\n",
       "       [0.36873407],\n",
       "       [0.19484565],\n",
       "       [0.18549986],\n",
       "       [0.07448315],\n",
       "       [0.20560748],\n",
       "       [0.11129992],\n",
       "       [0.2019258 ],\n",
       "       [0.44746531],\n",
       "       [0.68875673],\n",
       "       [0.44661569],\n",
       "       [0.49079581],\n",
       "       [0.3027471 ],\n",
       "       [0.14556783],\n",
       "       [0.46077598],\n",
       "       [0.27216086],\n",
       "       [0.36420278],\n",
       "       [0.21948457],\n",
       "       [0.29113566],\n",
       "       [0.72160861],\n",
       "       [0.6779949 ],\n",
       "       [0.21325404],\n",
       "       [0.19852733],\n",
       "       [0.44888134],\n",
       "       [0.60294534],\n",
       "       [0.        ],\n",
       "       [0.59190031],\n",
       "       [0.38374398],\n",
       "       [0.56669499],\n",
       "       [0.27470971],\n",
       "       [0.26168224],\n",
       "       [0.43953554],\n",
       "       [0.05664118],\n",
       "       [0.60436137],\n",
       "       [0.62305296],\n",
       "       [0.75672614],\n",
       "       [0.21523648],\n",
       "       [0.2642311 ],\n",
       "       [0.42650807],\n",
       "       [0.14330218],\n",
       "       [0.17926933],\n",
       "       [0.22288304],\n",
       "       [0.28094024],\n",
       "       [0.38402719],\n",
       "       [0.40441801],\n",
       "       [0.4998584 ],\n",
       "       [0.44095157],\n",
       "       [0.28547154],\n",
       "       [0.72670632],\n",
       "       [0.39365619],\n",
       "       [0.64259417],\n",
       "       [0.13877089],\n",
       "       [0.17983574],\n",
       "       [0.13622203],\n",
       "       [0.44123478],\n",
       "       [0.5046729 ],\n",
       "       [0.48031719],\n",
       "       [0.48881337],\n",
       "       [0.24157462],\n",
       "       [0.31152648],\n",
       "       [0.37354857],\n",
       "       [0.48711413],\n",
       "       [0.47153781],\n",
       "       [0.20475786],\n",
       "       [0.11271594],\n",
       "       [0.27584254],\n",
       "       [0.09260833],\n",
       "       [0.53242707],\n",
       "       [0.19937695],\n",
       "       [0.86094591],\n",
       "       [0.30472954],\n",
       "       [0.36930048],\n",
       "       [0.64684225],\n",
       "       [0.73803455],\n",
       "       [0.30019824],\n",
       "       [0.35004248],\n",
       "       [0.04502974],\n",
       "       [0.31520816],\n",
       "       [0.21495327],\n",
       "       [0.25828377],\n",
       "       [0.20589068],\n",
       "       [0.75700935],\n",
       "       [0.41886151],\n",
       "       [0.69413764],\n",
       "       [0.41263098],\n",
       "       [0.27074483],\n",
       "       [0.33899745],\n",
       "       [0.58878505],\n",
       "       [0.06428774],\n",
       "       [0.31464174],\n",
       "       [0.32257151],\n",
       "       [0.24129142],\n",
       "       [0.2594166 ],\n",
       "       [0.38855848],\n",
       "       [0.56301331],\n",
       "       [0.45567828],\n",
       "       [0.2885868 ],\n",
       "       [0.38176154],\n",
       "       [0.54743699],\n",
       "       [0.38685925],\n",
       "       [0.26593033],\n",
       "       [0.13112433],\n",
       "       [0.35825545],\n",
       "       [0.57490796],\n",
       "       [0.38431039],\n",
       "       [0.45426225],\n",
       "       [0.68649108],\n",
       "       [0.38600963],\n",
       "       [0.60945908],\n",
       "       [0.1682243 ],\n",
       "       [0.23987539],\n",
       "       [0.34466157],\n",
       "       [0.42509204],\n",
       "       [0.29623336],\n",
       "       [0.32823563],\n",
       "       [0.22684792],\n",
       "       [0.27159445],\n",
       "       [0.13792127],\n",
       "       [0.22090059],\n",
       "       [0.94165959],\n",
       "       [0.68111017],\n",
       "       [0.30671198],\n",
       "       [0.74341546],\n",
       "       [0.4519966 ],\n",
       "       [0.23591051],\n",
       "       [0.32455395],\n",
       "       [0.23336165],\n",
       "       [0.2500708 ],\n",
       "       [0.20702351],\n",
       "       [0.24157462],\n",
       "       [0.37269895],\n",
       "       [0.69385443],\n",
       "       [0.61144152],\n",
       "       [0.44973095],\n",
       "       [0.50184084],\n",
       "       [0.16595865],\n",
       "       [0.22429907],\n",
       "       [0.08382894],\n",
       "       [0.35514019],\n",
       "       [0.01614274],\n",
       "       [0.27669216],\n",
       "       [0.4905126 ],\n",
       "       [0.37298216],\n",
       "       [0.16964033],\n",
       "       [0.18408383],\n",
       "       [0.51543472],\n",
       "       [0.20249221],\n",
       "       [0.23817615],\n",
       "       [0.2452563 ],\n",
       "       [0.14500142],\n",
       "       [0.26564713],\n",
       "       [0.29396771],\n",
       "       [0.18946474],\n",
       "       [0.58085528],\n",
       "       [0.51175304],\n",
       "       [0.25035401],\n",
       "       [0.06513735],\n",
       "       [0.55451713],\n",
       "       [0.23789295],\n",
       "       [0.10676862],\n",
       "       [0.26876239],\n",
       "       [0.21240442],\n",
       "       [0.33786463],\n",
       "       [0.28802039],\n",
       "       [0.3364486 ],\n",
       "       [0.26026621],\n",
       "       [0.35627301],\n",
       "       [0.63523081],\n",
       "       [0.45482866],\n",
       "       [0.36222033],\n",
       "       [0.33135089],\n",
       "       [0.26054942],\n",
       "       [0.17417162],\n",
       "       [0.41404701],\n",
       "       [0.39705466],\n",
       "       [0.66241858],\n",
       "       [0.25771736],\n",
       "       [0.67346361],\n",
       "       [0.5001416 ],\n",
       "       [0.54856981],\n",
       "       [0.64485981],\n",
       "       [0.46474087],\n",
       "       [0.30529595],\n",
       "       [0.40498442],\n",
       "       [0.22175021],\n",
       "       [0.21070518],\n",
       "       [0.2500708 ],\n",
       "       [0.38232795],\n",
       "       [0.51146984],\n",
       "       [0.3078448 ],\n",
       "       [0.58991787],\n",
       "       [1.        ],\n",
       "       [0.36306995],\n",
       "       [0.61908808],\n",
       "       [0.33474936],\n",
       "       [0.31407533],\n",
       "       [0.21297083],\n",
       "       [0.23336165],\n",
       "       [0.14613424],\n",
       "       [0.53214387],\n",
       "       [0.41064854],\n",
       "       [0.85188332],\n",
       "       [0.63211555],\n",
       "       [0.48343246],\n",
       "       [0.21467007],\n",
       "       [0.24468989],\n",
       "       [0.26054942],\n",
       "       [0.2546021 ],\n",
       "       [0.13905409],\n",
       "       [0.30246389],\n",
       "       [0.25885018],\n",
       "       [0.48258284],\n",
       "       [0.18096856],\n",
       "       [0.38714245],\n",
       "       [0.48513169],\n",
       "       [0.26338148],\n",
       "       [0.38714245],\n",
       "       [0.72557349],\n",
       "       [0.26168224],\n",
       "       [0.30161427],\n",
       "       [0.32257151],\n",
       "       [0.41631266],\n",
       "       [0.20815633],\n",
       "       [0.31379213],\n",
       "       [0.09515718],\n",
       "       [0.56329652],\n",
       "       [0.63806287],\n",
       "       [0.3653356 ],\n",
       "       [0.3701501 ],\n",
       "       [0.23789295],\n",
       "       [0.24129142],\n",
       "       [0.17332201],\n",
       "       [0.54885302],\n",
       "       [0.17983574],\n",
       "       [0.27442651],\n",
       "       [0.13735486],\n",
       "       [0.2594166 ],\n",
       "       [0.29934863],\n",
       "       [0.53752478],\n",
       "       [0.40101954],\n",
       "       [0.51486831],\n",
       "       [0.18946474],\n",
       "       [0.3364486 ],\n",
       "       [0.3174738 ],\n",
       "       [0.21806854],\n",
       "       [0.30104786],\n",
       "       [0.28037383],\n",
       "       [0.27640895],\n",
       "       [0.5482866 ],\n",
       "       [0.53186066],\n",
       "       [0.30926083],\n",
       "       [0.65477202],\n",
       "       [0.79637496],\n",
       "       [0.28178986],\n",
       "       [0.20334183],\n",
       "       [0.33928066],\n",
       "       [0.38232795],\n",
       "       [0.26083263],\n",
       "       [0.1104503 ],\n",
       "       [0.3605211 ],\n",
       "       [0.33588219],\n",
       "       [0.3653356 ],\n",
       "       [0.52761257],\n",
       "       [0.4471821 ],\n",
       "       [0.25743415],\n",
       "       [0.26819598],\n",
       "       [0.36760125],\n",
       "       [0.28178986],\n",
       "       [0.36986689],\n",
       "       [0.09289153],\n",
       "       [0.15264798],\n",
       "       [0.18125177],\n",
       "       [0.49221184],\n",
       "       [0.48994619],\n",
       "       [0.53044463],\n",
       "       [0.72302464],\n",
       "       [0.56046446],\n",
       "       [0.31605777],\n",
       "       [0.30727839],\n",
       "       [0.14358539],\n",
       "       [0.33021807],\n",
       "       [0.32880204],\n",
       "       [0.5287454 ],\n",
       "       [0.23336165],\n",
       "       [0.3268196 ],\n",
       "       [0.24638912],\n",
       "       [0.35910507],\n",
       "       [0.56782781],\n",
       "       [0.62871708],\n",
       "       [0.37524781],\n",
       "       [0.63777967],\n",
       "       [0.17728689],\n",
       "       [0.06825262],\n",
       "       [0.3463608 ],\n",
       "       [0.16142736],\n",
       "       [0.6057774 ],\n",
       "       [0.49249504],\n",
       "       [0.6921552 ],\n",
       "       [0.49362787],\n",
       "       [0.35202492],\n",
       "       [0.39308978],\n",
       "       [0.16086095],\n",
       "       [0.33446616],\n",
       "       [0.29963183],\n",
       "       [0.35060889],\n",
       "       [0.17700368],\n",
       "       [0.67629567],\n",
       "       [0.70716511],\n",
       "       [0.23251204],\n",
       "       [0.3605211 ],\n",
       "       [0.89946191],\n",
       "       [0.36476919],\n",
       "       [0.22939677],\n",
       "       [0.18153498],\n",
       "       [0.21948457],\n",
       "       [0.12404418],\n",
       "       [0.12234494],\n",
       "       [0.11129992],\n",
       "       [0.35202492],\n",
       "       [0.26961201],\n",
       "       [0.72897196],\n",
       "       [0.34239592],\n",
       "       [0.66581705],\n",
       "       [0.18351742],\n",
       "       [0.23619371],\n",
       "       [0.53157746],\n",
       "       [0.21976777],\n",
       "       [0.23845936],\n",
       "       [0.4420844 ],\n",
       "       [0.25800057],\n",
       "       [0.18210139],\n",
       "       [0.36845086],\n",
       "       [0.54970263],\n",
       "       [0.7694704 ],\n",
       "       [0.45879354],\n",
       "       [0.81676579],\n",
       "       [0.51260266],\n",
       "       [0.46445766],\n",
       "       [0.18606627],\n",
       "       [0.2308128 ],\n",
       "       [0.2067403 ],\n",
       "       [0.49192863],\n",
       "       [0.30048145],\n",
       "       [0.27782498],\n",
       "       [0.54007363],\n",
       "       [0.32115548],\n",
       "       [0.48343246],\n",
       "       [0.51600113],\n",
       "       [0.5961484 ],\n",
       "       [0.25290286],\n",
       "       [0.15689606],\n",
       "       [0.34324554],\n",
       "       [0.4372699 ],\n",
       "       [0.16935712],\n",
       "       [0.25375248],\n",
       "       [0.27357689],\n",
       "       [0.25120363],\n",
       "       [0.30104786],\n",
       "       [0.32427074],\n",
       "       [0.5386576 ],\n",
       "       [0.82384594],\n",
       "       [0.70150099],\n",
       "       [0.34069669],\n",
       "       [0.13140753],\n",
       "       [0.35882186],\n",
       "       [0.20928915],\n",
       "       [0.23421127],\n",
       "       [0.31435854],\n",
       "       [0.02917021],\n",
       "       [0.43557066],\n",
       "       [0.36703483],\n",
       "       [0.78646276],\n",
       "       [0.71481167],\n",
       "       [0.40753328],\n",
       "       [0.41064854],\n",
       "       [0.32965166],\n",
       "       [0.4420844 ],\n",
       "       [0.12687624],\n",
       "       [0.41716228],\n",
       "       [0.30869442],\n",
       "       [0.42707448],\n",
       "       [0.22741433],\n",
       "       [0.93571226],\n",
       "       [0.77428491],\n",
       "       [0.51316907],\n",
       "       [0.68139337],\n",
       "       [0.38091192],\n",
       "       [0.25913339],\n",
       "       [0.13055792],\n",
       "       [0.34692722],\n",
       "       [0.27782498],\n",
       "       [0.35967148],\n",
       "       [0.54120646],\n",
       "       [0.10280374],\n",
       "       [0.43896913],\n",
       "       [0.25856698],\n",
       "       [0.24695554],\n",
       "       [0.38714245],\n",
       "       [0.62531861],\n",
       "       [0.0574908 ],\n",
       "       [0.16425942],\n",
       "       [0.26564713],\n",
       "       [0.50184084],\n",
       "       [0.51316907],\n",
       "       [0.40158595],\n",
       "       [0.48768054],\n",
       "       [0.5720759 ],\n",
       "       [0.49929199],\n",
       "       [0.74964599],\n",
       "       [0.42480884],\n",
       "       [0.23307845],\n",
       "       [0.22996318],\n",
       "       [0.16624186],\n",
       "       [0.15972812],\n",
       "       [0.14273577],\n",
       "       [0.48116681],\n",
       "       [0.38855848],\n",
       "       [0.35740583],\n",
       "       [0.41234778],\n",
       "       [0.52138204],\n",
       "       [0.3797791 ],\n",
       "       [0.29141886]])"
      ]
     },
     "execution_count": 15,
     "metadata": {},
     "output_type": "execute_result"
    }
   ],
   "source": [
    "scaler = MinMaxScaler(feature_range=(0, 1))\n",
    "df = scaler.fit_transform(df)\n",
    "df"
   ]
  },
  {
   "cell_type": "code",
   "execution_count": 16,
   "metadata": {},
   "outputs": [],
   "source": [
    "import tensorflow as tf\n",
    "from tensorflow.keras import layers\n",
    "from tensorflow.keras.layers import Dense\n",
    "from tensorflow.keras.layers import LSTM\n",
    "\n",
    "# Training and Validation data partition\n",
    "train_size = int(len(df) * 0.8)\n",
    "val_size = len(df) - train_size\n",
    "train, val = df[0:train_size,:], df[train_size:len(df),:]\n",
    "\n",
    "# Number of previous\n",
    "previous = 120\n",
    "X_train, Y_train = create_dataset(train, previous)\n",
    "X_val, Y_val = create_dataset(val, previous)"
   ]
  },
  {
   "cell_type": "code",
   "execution_count": 17,
   "metadata": {},
   "outputs": [
    {
     "data": {
      "text/plain": [
       "array([[0.53242707, 0.82242991, 0.34806004, ..., 0.21042198, 0.16765789,\n",
       "        0.28518833],\n",
       "       [0.82242991, 0.34806004, 0.28632116, ..., 0.16765789, 0.28518833,\n",
       "        0.51713396],\n",
       "       [0.34806004, 0.28632116, 0.13848768, ..., 0.28518833, 0.51713396,\n",
       "        0.49079581],\n",
       "       ...,\n",
       "       [0.25035401, 0.06513735, 0.55451713, ..., 0.49221184, 0.48994619,\n",
       "        0.53044463],\n",
       "       [0.06513735, 0.55451713, 0.23789295, ..., 0.48994619, 0.53044463,\n",
       "        0.72302464],\n",
       "       [0.55451713, 0.23789295, 0.10676862, ..., 0.53044463, 0.72302464,\n",
       "        0.56046446]])"
      ]
     },
     "execution_count": 17,
     "metadata": {},
     "output_type": "execute_result"
    }
   ],
   "source": [
    "X_train"
   ]
  },
  {
   "cell_type": "code",
   "execution_count": 18,
   "metadata": {},
   "outputs": [
    {
     "data": {
      "text/plain": [
       "array([0.51713396, 0.49079581, 0.18606627, 0.74199943, 0.38770886,\n",
       "       0.41121495, 0.1107335 , 0.14811668, 0.34862645, 0.31464174,\n",
       "       0.48314925, 0.62475219, 0.55168508, 0.21835174, 0.35542339,\n",
       "       0.36618522, 0.24072501, 0.0815633 , 0.15463042, 0.31067686,\n",
       "       0.13084112, 0.20419145, 0.23024639, 0.30331351, 0.58595299,\n",
       "       0.19314642, 0.29651657, 0.2645143 , 0.38176154, 0.3845936 ,\n",
       "       0.38572642, 0.24752195, 0.12687624, 0.18210139, 0.02237327,\n",
       "       0.15491362, 0.52931181, 0.46587369, 0.46304163, 0.41036534,\n",
       "       0.21750212, 0.20589068, 0.31407533, 0.17558765, 0.16907392,\n",
       "       0.44463325, 0.25290286, 0.29085245, 0.66581705, 0.40611725,\n",
       "       0.62588502, 0.3990371 , 0.23845936, 0.03993203, 0.19088077,\n",
       "       0.17417162, 0.35287454, 0.38572642, 0.52081563, 0.30048145,\n",
       "       0.51600113, 0.55848202, 0.72387426, 0.07080147, 0.1874823 ,\n",
       "       0.29679977, 0.03625035, 0.12064571, 0.4613424 , 0.24129142,\n",
       "       0.33050127, 0.40073634, 0.42764089, 0.21495327, 0.62730105,\n",
       "       0.19088077, 0.33616539, 0.15774568, 0.36222033, 0.16737468,\n",
       "       0.15746248, 0.00226565, 0.24412348, 0.37864628, 0.38742566,\n",
       "       0.40583404, 0.31804022, 0.34381195, 0.41687907, 0.40611725,\n",
       "       0.09175871, 0.25545171, 0.20447465, 0.26649674, 0.3608043 ,\n",
       "       0.55451713, 0.6828094 , 0.38147833, 0.63891249, 0.2546021 ,\n",
       "       0.7114132 , 0.0911923 , 0.07958086, 0.21013877, 0.19824412,\n",
       "       0.30104786, 0.68960634, 0.18804871, 0.5046729 , 0.49107901,\n",
       "       0.37609742, 0.15293118, 0.51373549, 0.30812801, 0.38034551,\n",
       "       0.12715944, 0.17672048, 0.50920419, 0.39393939, 0.39365619,\n",
       "       0.60379496, 0.57802322, 0.36420278, 0.31379213, 0.35174172,\n",
       "       0.03540074, 0.05720759, 0.46700651, 0.42395922, 0.27470971,\n",
       "       0.72274143, 0.51231946, 0.53214387, 0.82101388, 0.43642028,\n",
       "       0.28632116, 0.48456528, 0.12546021, 0.42650807, 0.23137921,\n",
       "       0.29934863, 0.27159445, 0.6828094 , 0.58057208, 0.33389975,\n",
       "       0.33503257, 0.3797791 , 0.32370433, 0.49164543, 0.07278391,\n",
       "       0.23902577, 0.32625319, 0.05664118, 0.36930048, 0.31039366,\n",
       "       0.42905692, 0.57037666, 0.83092608, 0.56414613, 0.24100821,\n",
       "       0.55621637, 0.24950439, 0.24384027, 0.10846786, 0.10308694,\n",
       "       0.11271594, 0.48428207, 0.72302464, 0.21920136, 0.47720193,\n",
       "       0.82271311, 0.36873407, 0.19484565, 0.18549986, 0.07448315,\n",
       "       0.20560748, 0.11129992, 0.2019258 , 0.44746531, 0.68875673,\n",
       "       0.44661569, 0.49079581, 0.3027471 , 0.14556783, 0.46077598,\n",
       "       0.27216086, 0.36420278, 0.21948457, 0.29113566, 0.72160861,\n",
       "       0.6779949 , 0.21325404, 0.19852733, 0.44888134, 0.60294534,\n",
       "       0.        , 0.59190031, 0.38374398, 0.56669499, 0.27470971,\n",
       "       0.26168224, 0.43953554, 0.05664118, 0.60436137, 0.62305296,\n",
       "       0.75672614, 0.21523648, 0.2642311 , 0.42650807, 0.14330218,\n",
       "       0.17926933, 0.22288304, 0.28094024, 0.38402719, 0.40441801,\n",
       "       0.4998584 , 0.44095157, 0.28547154, 0.72670632, 0.39365619,\n",
       "       0.64259417, 0.13877089, 0.17983574, 0.13622203, 0.44123478,\n",
       "       0.5046729 , 0.48031719, 0.48881337, 0.24157462, 0.31152648,\n",
       "       0.37354857, 0.48711413, 0.47153781, 0.20475786, 0.11271594,\n",
       "       0.27584254, 0.09260833, 0.53242707, 0.19937695, 0.86094591,\n",
       "       0.30472954, 0.36930048, 0.64684225, 0.73803455, 0.30019824,\n",
       "       0.35004248, 0.04502974, 0.31520816, 0.21495327, 0.25828377,\n",
       "       0.20589068, 0.75700935, 0.41886151, 0.69413764, 0.41263098,\n",
       "       0.27074483, 0.33899745, 0.58878505, 0.06428774, 0.31464174,\n",
       "       0.32257151, 0.24129142, 0.2594166 , 0.38855848, 0.56301331,\n",
       "       0.45567828, 0.2885868 , 0.38176154, 0.54743699, 0.38685925,\n",
       "       0.26593033, 0.13112433, 0.35825545, 0.57490796, 0.38431039,\n",
       "       0.45426225, 0.68649108, 0.38600963, 0.60945908, 0.1682243 ,\n",
       "       0.23987539, 0.34466157, 0.42509204, 0.29623336, 0.32823563,\n",
       "       0.22684792, 0.27159445, 0.13792127, 0.22090059, 0.94165959,\n",
       "       0.68111017, 0.30671198, 0.74341546, 0.4519966 , 0.23591051,\n",
       "       0.32455395, 0.23336165, 0.2500708 , 0.20702351, 0.24157462,\n",
       "       0.37269895, 0.69385443, 0.61144152, 0.44973095, 0.50184084,\n",
       "       0.16595865, 0.22429907, 0.08382894, 0.35514019, 0.01614274,\n",
       "       0.27669216, 0.4905126 , 0.37298216, 0.16964033, 0.18408383,\n",
       "       0.51543472, 0.20249221, 0.23817615, 0.2452563 , 0.14500142,\n",
       "       0.26564713, 0.29396771, 0.18946474, 0.58085528, 0.51175304,\n",
       "       0.25035401, 0.06513735, 0.55451713, 0.23789295, 0.10676862,\n",
       "       0.26876239, 0.21240442, 0.33786463, 0.28802039, 0.3364486 ,\n",
       "       0.26026621, 0.35627301, 0.63523081, 0.45482866, 0.36222033,\n",
       "       0.33135089, 0.26054942, 0.17417162, 0.41404701, 0.39705466,\n",
       "       0.66241858, 0.25771736, 0.67346361, 0.5001416 , 0.54856981,\n",
       "       0.64485981, 0.46474087, 0.30529595, 0.40498442, 0.22175021,\n",
       "       0.21070518, 0.2500708 , 0.38232795, 0.51146984, 0.3078448 ,\n",
       "       0.58991787, 1.        , 0.36306995, 0.61908808, 0.33474936,\n",
       "       0.31407533, 0.21297083, 0.23336165, 0.14613424, 0.53214387,\n",
       "       0.41064854, 0.85188332, 0.63211555, 0.48343246, 0.21467007,\n",
       "       0.24468989, 0.26054942, 0.2546021 , 0.13905409, 0.30246389,\n",
       "       0.25885018, 0.48258284, 0.18096856, 0.38714245, 0.48513169,\n",
       "       0.26338148, 0.38714245, 0.72557349, 0.26168224, 0.30161427,\n",
       "       0.32257151, 0.41631266, 0.20815633, 0.31379213, 0.09515718,\n",
       "       0.56329652, 0.63806287, 0.3653356 , 0.3701501 , 0.23789295,\n",
       "       0.24129142, 0.17332201, 0.54885302, 0.17983574, 0.27442651,\n",
       "       0.13735486, 0.2594166 , 0.29934863, 0.53752478, 0.40101954,\n",
       "       0.51486831, 0.18946474, 0.3364486 , 0.3174738 , 0.21806854,\n",
       "       0.30104786, 0.28037383, 0.27640895, 0.5482866 , 0.53186066,\n",
       "       0.30926083, 0.65477202, 0.79637496, 0.28178986, 0.20334183,\n",
       "       0.33928066, 0.38232795, 0.26083263, 0.1104503 , 0.3605211 ,\n",
       "       0.33588219, 0.3653356 , 0.52761257, 0.4471821 , 0.25743415,\n",
       "       0.26819598, 0.36760125, 0.28178986, 0.36986689, 0.09289153,\n",
       "       0.15264798, 0.18125177, 0.49221184, 0.48994619, 0.53044463,\n",
       "       0.72302464, 0.56046446, 0.31605777])"
      ]
     },
     "execution_count": 18,
     "metadata": {},
     "output_type": "execute_result"
    }
   ],
   "source": [
    "Y_train"
   ]
  },
  {
   "cell_type": "markdown",
   "metadata": {},
   "source": [
    "## Configure LSTM model"
   ]
  },
  {
   "cell_type": "code",
   "execution_count": 19,
   "metadata": {},
   "outputs": [
    {
     "name": "stdout",
     "output_type": "stream",
     "text": [
      "Train on 358 samples, validate on 90 samples\n",
      "Epoch 1/100\n",
      "358/358 - 1s - loss: 0.1425 - val_loss: 0.1377\n",
      "Epoch 2/100\n",
      "358/358 - 0s - loss: 0.1255 - val_loss: 0.1210\n",
      "Epoch 3/100\n",
      "358/358 - 0s - loss: 0.1104 - val_loss: 0.1063\n",
      "Epoch 4/100\n",
      "358/358 - 0s - loss: 0.0971 - val_loss: 0.0934\n",
      "Epoch 5/100\n",
      "358/358 - 0s - loss: 0.0856 - val_loss: 0.0822\n",
      "Epoch 6/100\n",
      "358/358 - 0s - loss: 0.0756 - val_loss: 0.0724\n",
      "Epoch 7/100\n",
      "358/358 - 0s - loss: 0.0670 - val_loss: 0.0641\n",
      "Epoch 8/100\n",
      "358/358 - 0s - loss: 0.0596 - val_loss: 0.0570\n",
      "Epoch 9/100\n",
      "358/358 - 0s - loss: 0.0535 - val_loss: 0.0512\n",
      "Epoch 10/100\n",
      "358/358 - 0s - loss: 0.0486 - val_loss: 0.0465\n",
      "Epoch 11/100\n",
      "358/358 - 0s - loss: 0.0447 - val_loss: 0.0429\n",
      "Epoch 12/100\n",
      "358/358 - 0s - loss: 0.0419 - val_loss: 0.0403\n",
      "Epoch 13/100\n",
      "358/358 - 0s - loss: 0.0399 - val_loss: 0.0386\n",
      "Epoch 14/100\n",
      "358/358 - 0s - loss: 0.0388 - val_loss: 0.0377\n",
      "Epoch 15/100\n",
      "358/358 - 0s - loss: 0.0384 - val_loss: 0.0373\n",
      "Epoch 16/100\n",
      "358/358 - 0s - loss: 0.0384 - val_loss: 0.0372\n",
      "Epoch 17/100\n",
      "358/358 - 0s - loss: 0.0387 - val_loss: 0.0373\n",
      "Epoch 18/100\n",
      "358/358 - 0s - loss: 0.0390 - val_loss: 0.0373\n",
      "Epoch 19/100\n",
      "358/358 - 0s - loss: 0.0393 - val_loss: 0.0373\n",
      "Epoch 20/100\n",
      "358/358 - 0s - loss: 0.0395 - val_loss: 0.0372\n",
      "Epoch 21/100\n",
      "358/358 - 0s - loss: 0.0394 - val_loss: 0.0369\n",
      "Epoch 22/100\n",
      "358/358 - 0s - loss: 0.0391 - val_loss: 0.0364\n",
      "Epoch 23/100\n",
      "358/358 - 0s - loss: 0.0387 - val_loss: 0.0359\n",
      "Epoch 24/100\n",
      "358/358 - 0s - loss: 0.0382 - val_loss: 0.0353\n",
      "Epoch 25/100\n",
      "358/358 - 0s - loss: 0.0375 - val_loss: 0.0348\n",
      "Epoch 26/100\n",
      "358/358 - 0s - loss: 0.0369 - val_loss: 0.0342\n",
      "Epoch 27/100\n",
      "358/358 - 0s - loss: 0.0362 - val_loss: 0.0337\n",
      "Epoch 28/100\n",
      "358/358 - 0s - loss: 0.0356 - val_loss: 0.0333\n",
      "Epoch 29/100\n",
      "358/358 - 0s - loss: 0.0351 - val_loss: 0.0330\n",
      "Epoch 30/100\n",
      "358/358 - 0s - loss: 0.0346 - val_loss: 0.0327\n",
      "Epoch 31/100\n",
      "358/358 - 0s - loss: 0.0342 - val_loss: 0.0326\n",
      "Epoch 32/100\n",
      "358/358 - 0s - loss: 0.0340 - val_loss: 0.0325\n",
      "Epoch 33/100\n",
      "358/358 - 0s - loss: 0.0338 - val_loss: 0.0325\n",
      "Epoch 34/100\n",
      "358/358 - 0s - loss: 0.0336 - val_loss: 0.0324\n",
      "Epoch 35/100\n",
      "358/358 - 0s - loss: 0.0335 - val_loss: 0.0325\n",
      "Epoch 36/100\n",
      "358/358 - 0s - loss: 0.0334 - val_loss: 0.0325\n",
      "Epoch 37/100\n",
      "358/358 - 0s - loss: 0.0334 - val_loss: 0.0325\n",
      "Epoch 38/100\n",
      "358/358 - 0s - loss: 0.0333 - val_loss: 0.0324\n",
      "Epoch 39/100\n",
      "358/358 - 0s - loss: 0.0332 - val_loss: 0.0324\n",
      "Epoch 40/100\n",
      "358/358 - 0s - loss: 0.0332 - val_loss: 0.0323\n",
      "Epoch 41/100\n",
      "358/358 - 0s - loss: 0.0331 - val_loss: 0.0322\n",
      "Epoch 42/100\n",
      "358/358 - 0s - loss: 0.0329 - val_loss: 0.0320\n",
      "Epoch 43/100\n",
      "358/358 - 0s - loss: 0.0328 - val_loss: 0.0318\n",
      "Epoch 44/100\n",
      "358/358 - 0s - loss: 0.0327 - val_loss: 0.0316\n",
      "Epoch 45/100\n",
      "358/358 - 0s - loss: 0.0325 - val_loss: 0.0314\n",
      "Epoch 46/100\n",
      "358/358 - 0s - loss: 0.0323 - val_loss: 0.0312\n",
      "Epoch 47/100\n",
      "358/358 - 0s - loss: 0.0322 - val_loss: 0.0310\n",
      "Epoch 48/100\n",
      "358/358 - 0s - loss: 0.0320 - val_loss: 0.0308\n",
      "Epoch 49/100\n",
      "358/358 - 0s - loss: 0.0318 - val_loss: 0.0306\n",
      "Epoch 50/100\n",
      "358/358 - 0s - loss: 0.0317 - val_loss: 0.0304\n",
      "Epoch 51/100\n",
      "358/358 - 0s - loss: 0.0316 - val_loss: 0.0302\n",
      "Epoch 52/100\n",
      "358/358 - 0s - loss: 0.0314 - val_loss: 0.0301\n",
      "Epoch 53/100\n",
      "358/358 - 0s - loss: 0.0313 - val_loss: 0.0299\n",
      "Epoch 54/100\n",
      "358/358 - 0s - loss: 0.0312 - val_loss: 0.0298\n",
      "Epoch 55/100\n",
      "358/358 - 0s - loss: 0.0311 - val_loss: 0.0297\n",
      "Epoch 56/100\n",
      "358/358 - 0s - loss: 0.0310 - val_loss: 0.0296\n",
      "Epoch 57/100\n",
      "358/358 - 0s - loss: 0.0309 - val_loss: 0.0294\n",
      "Epoch 58/100\n",
      "358/358 - 0s - loss: 0.0309 - val_loss: 0.0293\n",
      "Epoch 59/100\n",
      "358/358 - 0s - loss: 0.0308 - val_loss: 0.0292\n",
      "Epoch 60/100\n",
      "358/358 - 0s - loss: 0.0307 - val_loss: 0.0292\n",
      "Epoch 61/100\n",
      "358/358 - 0s - loss: 0.0306 - val_loss: 0.0291\n",
      "Epoch 62/100\n",
      "358/358 - 0s - loss: 0.0305 - val_loss: 0.0290\n",
      "Epoch 63/100\n",
      "358/358 - 0s - loss: 0.0304 - val_loss: 0.0289\n",
      "Epoch 64/100\n",
      "358/358 - 0s - loss: 0.0303 - val_loss: 0.0288\n",
      "Epoch 65/100\n",
      "358/358 - 0s - loss: 0.0302 - val_loss: 0.0287\n",
      "Epoch 66/100\n",
      "358/358 - 0s - loss: 0.0301 - val_loss: 0.0287\n",
      "Epoch 67/100\n",
      "358/358 - 0s - loss: 0.0300 - val_loss: 0.0286\n",
      "Epoch 68/100\n",
      "358/358 - 0s - loss: 0.0299 - val_loss: 0.0285\n",
      "Epoch 69/100\n",
      "358/358 - 0s - loss: 0.0298 - val_loss: 0.0284\n",
      "Epoch 70/100\n",
      "358/358 - 0s - loss: 0.0297 - val_loss: 0.0284\n",
      "Epoch 71/100\n",
      "358/358 - 0s - loss: 0.0296 - val_loss: 0.0283\n",
      "Epoch 72/100\n",
      "358/358 - 0s - loss: 0.0296 - val_loss: 0.0283\n",
      "Epoch 73/100\n",
      "358/358 - 0s - loss: 0.0295 - val_loss: 0.0282\n",
      "Epoch 74/100\n",
      "358/358 - 0s - loss: 0.0294 - val_loss: 0.0281\n",
      "Epoch 75/100\n",
      "358/358 - 0s - loss: 0.0293 - val_loss: 0.0281\n",
      "Epoch 76/100\n",
      "358/358 - 0s - loss: 0.0292 - val_loss: 0.0280\n",
      "Epoch 77/100\n",
      "358/358 - 0s - loss: 0.0292 - val_loss: 0.0279\n",
      "Epoch 78/100\n",
      "358/358 - 0s - loss: 0.0291 - val_loss: 0.0279\n",
      "Epoch 79/100\n",
      "358/358 - 0s - loss: 0.0290 - val_loss: 0.0278\n",
      "Epoch 80/100\n",
      "358/358 - 0s - loss: 0.0289 - val_loss: 0.0277\n",
      "Epoch 81/100\n",
      "358/358 - 0s - loss: 0.0289 - val_loss: 0.0276\n",
      "Epoch 82/100\n",
      "358/358 - 0s - loss: 0.0288 - val_loss: 0.0275\n",
      "Epoch 83/100\n",
      "358/358 - 0s - loss: 0.0287 - val_loss: 0.0275\n",
      "Epoch 84/100\n",
      "358/358 - 0s - loss: 0.0286 - val_loss: 0.0274\n",
      "Epoch 85/100\n",
      "358/358 - 0s - loss: 0.0286 - val_loss: 0.0273\n",
      "Epoch 86/100\n",
      "358/358 - 0s - loss: 0.0285 - val_loss: 0.0272\n",
      "Epoch 87/100\n",
      "358/358 - 0s - loss: 0.0284 - val_loss: 0.0272\n",
      "Epoch 88/100\n",
      "358/358 - 0s - loss: 0.0284 - val_loss: 0.0271\n",
      "Epoch 89/100\n",
      "358/358 - 0s - loss: 0.0283 - val_loss: 0.0270\n",
      "Epoch 90/100\n",
      "358/358 - 0s - loss: 0.0282 - val_loss: 0.0270\n",
      "Epoch 91/100\n",
      "358/358 - 0s - loss: 0.0282 - val_loss: 0.0269\n",
      "Epoch 92/100\n",
      "358/358 - 0s - loss: 0.0281 - val_loss: 0.0268\n",
      "Epoch 93/100\n",
      "358/358 - 0s - loss: 0.0280 - val_loss: 0.0268\n",
      "Epoch 94/100\n",
      "358/358 - 0s - loss: 0.0280 - val_loss: 0.0267\n",
      "Epoch 95/100\n",
      "358/358 - 0s - loss: 0.0279 - val_loss: 0.0266\n",
      "Epoch 96/100\n",
      "358/358 - 0s - loss: 0.0279 - val_loss: 0.0266\n",
      "Epoch 97/100\n",
      "358/358 - 0s - loss: 0.0278 - val_loss: 0.0265\n",
      "Epoch 98/100\n",
      "358/358 - 0s - loss: 0.0277 - val_loss: 0.0265\n",
      "Epoch 99/100\n",
      "358/358 - 0s - loss: 0.0277 - val_loss: 0.0264\n",
      "Epoch 100/100\n",
      "358/358 - 0s - loss: 0.0276 - val_loss: 0.0264\n",
      "dict_keys(['loss', 'val_loss'])\n"
     ]
    },
    {
     "data": {
      "image/png": "[encoded data removed]",
      "text/plain": [
       "<Figure size 432x288 with 1 Axes>"
      ]
     },
     "metadata": {
      "needs_background": "light"
     },
     "output_type": "display_data"
    }
   ],
   "source": [
    "# reshape input to be [samples, time steps, features]\n",
    "X_train = np.reshape(X_train, (X_train.shape[0], 1, X_train.shape[1]))\n",
    "X_val = np.reshape(X_val, (X_val.shape[0], 1, X_val.shape[1]))\n",
    "\n",
    "# Generate LSTM network\n",
    "model = tf.keras.Sequential()\n",
    "model.add(LSTM(4, input_shape=(1, previous)))\n",
    "model.add(Dense(1))\n",
    "model.compile(loss='mean_squared_error', optimizer='adam')\n",
    "history=model.fit(X_train, Y_train, validation_split=0.2, epochs=100, batch_size=712, verbose=2)\n",
    "\n",
    "\n",
    "# list all data in history\n",
    "print(history.history.keys())\n",
    "# summarize history for accuracy\n",
    "plt.plot(history.history['loss'])\n",
    "plt.plot(history.history['val_loss'])\n",
    "plt.title('model loss')\n",
    "plt.ylabel('loss')\n",
    "plt.xlabel('epoch')\n",
    "plt.legend(['train', 'val'], loc='upper left')\n",
    "plt.show()"
   ]
  },
  {
   "cell_type": "code",
   "execution_count": 20,
   "metadata": {},
   "outputs": [],
   "source": [
    "# Generate predictions\n",
    "trainpred = model.predict(X_train)\n",
    "valpred = model.predict(X_val)"
   ]
  },
  {
   "cell_type": "code",
   "execution_count": 21,
   "metadata": {},
   "outputs": [
    {
     "data": {
      "text/plain": [
       "array([[0.45664075],\n",
       "       [0.47033182],\n",
       "       [0.3479561 ],\n",
       "       [0.37522483],\n",
       "       [0.31040886],\n",
       "       [0.3032479 ],\n",
       "       [0.3069082 ],\n",
       "       [0.30100432],\n",
       "       [0.34605524],\n",
       "       [0.32015988],\n",
       "       [0.3270694 ],\n",
       "       [0.45085636],\n",
       "       [0.42766473],\n",
       "       [0.45729145],\n",
       "       [0.42370722],\n",
       "       [0.40644792],\n",
       "       [0.38142514],\n",
       "       [0.28796038],\n",
       "       [0.32827005],\n",
       "       [0.3517652 ],\n",
       "       [0.3080592 ],\n",
       "       [0.3016564 ],\n",
       "       [0.40029767],\n",
       "       [0.40759167],\n",
       "       [0.4504753 ],\n",
       "       [0.4981355 ],\n",
       "       [0.42362377],\n",
       "       [0.32870188],\n",
       "       [0.37630293],\n",
       "       [0.29234186],\n",
       "       [0.28472182],\n",
       "       [0.2732645 ],\n",
       "       [0.34369206],\n",
       "       [0.32942006],\n",
       "       [0.35832453],\n",
       "       [0.3886386 ],\n",
       "       [0.4474558 ],\n",
       "       [0.38988855],\n",
       "       [0.44264156],\n",
       "       [0.39644307],\n",
       "       [0.32326004],\n",
       "       [0.30302158],\n",
       "       [0.3066438 ],\n",
       "       [0.29259497],\n",
       "       [0.33796936],\n",
       "       [0.3274749 ],\n",
       "       [0.3361371 ],\n",
       "       [0.40192732],\n",
       "       [0.39271036],\n",
       "       [0.4066284 ],\n",
       "       [0.40731463],\n",
       "       [0.36777595],\n",
       "       [0.37436327],\n",
       "       [0.36847845],\n",
       "       [0.2711514 ],\n",
       "       [0.2703103 ],\n",
       "       [0.33084065],\n",
       "       [0.33778545],\n",
       "       [0.38805595],\n",
       "       [0.39437583],\n",
       "       [0.3941888 ],\n",
       "       [0.3975974 ],\n",
       "       [0.39778692],\n",
       "       [0.3907192 ],\n",
       "       [0.34302497],\n",
       "       [0.34558848],\n",
       "       [0.28213847],\n",
       "       [0.26176915],\n",
       "       [0.2878559 ],\n",
       "       [0.30983546],\n",
       "       [0.37072253],\n",
       "       [0.38089028],\n",
       "       [0.42501414],\n",
       "       [0.41423717],\n",
       "       [0.39593378],\n",
       "       [0.37882724],\n",
       "       [0.3668708 ],\n",
       "       [0.33436593],\n",
       "       [0.33732238],\n",
       "       [0.28018478],\n",
       "       [0.29416078],\n",
       "       [0.3267823 ],\n",
       "       [0.3082206 ],\n",
       "       [0.4066088 ],\n",
       "       [0.43770537],\n",
       "       [0.44561505],\n",
       "       [0.46336234],\n",
       "       [0.3807403 ],\n",
       "       [0.3488224 ],\n",
       "       [0.3396515 ],\n",
       "       [0.29176056],\n",
       "       [0.28302982],\n",
       "       [0.25339735],\n",
       "       [0.33228436],\n",
       "       [0.32107517],\n",
       "       [0.38202766],\n",
       "       [0.40614927],\n",
       "       [0.391948  ],\n",
       "       [0.40920866],\n",
       "       [0.3803903 ],\n",
       "       [0.31459227],\n",
       "       [0.30147335],\n",
       "       [0.28566116],\n",
       "       [0.31329665],\n",
       "       [0.29312775],\n",
       "       [0.28488338],\n",
       "       [0.31023237],\n",
       "       [0.31540388],\n",
       "       [0.42289624],\n",
       "       [0.40963224],\n",
       "       [0.37473938],\n",
       "       [0.41362342],\n",
       "       [0.31639543],\n",
       "       [0.297848  ],\n",
       "       [0.27684343],\n",
       "       [0.28046733],\n",
       "       [0.2692518 ],\n",
       "       [0.30682942],\n",
       "       [0.3374013 ],\n",
       "       [0.42300242],\n",
       "       [0.43771037],\n",
       "       [0.433854  ],\n",
       "       [0.42377684],\n",
       "       [0.37571567],\n",
       "       [0.3273154 ],\n",
       "       [0.29114234],\n",
       "       [0.28683713],\n",
       "       [0.2947367 ],\n",
       "       [0.31368455],\n",
       "       [0.33666784],\n",
       "       [0.3588046 ],\n",
       "       [0.35921726],\n",
       "       [0.38686466],\n",
       "       [0.37293544],\n",
       "       [0.35801807],\n",
       "       [0.40753594],\n",
       "       [0.296941  ],\n",
       "       [0.2563631 ],\n",
       "       [0.3128936 ],\n",
       "       [0.31769338],\n",
       "       [0.2050817 ],\n",
       "       [0.32816646],\n",
       "       [0.39154184],\n",
       "       [0.31476   ],\n",
       "       [0.38153622],\n",
       "       [0.3930306 ],\n",
       "       [0.34129483],\n",
       "       [0.38634208],\n",
       "       [0.38487324],\n",
       "       [0.26022947],\n",
       "       [0.2572242 ],\n",
       "       [0.2593923 ],\n",
       "       [0.2325171 ],\n",
       "       [0.3017243 ],\n",
       "       [0.3441937 ],\n",
       "       [0.33003175],\n",
       "       [0.47747225],\n",
       "       [0.4324337 ],\n",
       "       [0.39266756],\n",
       "       [0.35451463],\n",
       "       [0.33341017],\n",
       "       [0.30648234],\n",
       "       [0.29493085],\n",
       "       [0.28865877],\n",
       "       [0.25676164],\n",
       "       [0.32669163],\n",
       "       [0.41796666],\n",
       "       [0.3748986 ],\n",
       "       [0.46800178],\n",
       "       [0.4535955 ],\n",
       "       [0.4173093 ],\n",
       "       [0.4008681 ],\n",
       "       [0.364162  ],\n",
       "       [0.28610346],\n",
       "       [0.258685  ],\n",
       "       [0.29163548],\n",
       "       [0.30362007],\n",
       "       [0.3501714 ],\n",
       "       [0.4179057 ],\n",
       "       [0.31779265],\n",
       "       [0.45958105],\n",
       "       [0.5149476 ],\n",
       "       [0.3615683 ],\n",
       "       [0.34685832],\n",
       "       [0.36080834],\n",
       "       [0.2567776 ],\n",
       "       [0.31344914],\n",
       "       [0.33428448],\n",
       "       [0.26097682],\n",
       "       [0.28552192],\n",
       "       [0.4368674 ],\n",
       "       [0.36567917],\n",
       "       [0.4118329 ],\n",
       "       [0.418709  ],\n",
       "       [0.41470888],\n",
       "       [0.35612056],\n",
       "       [0.36813742],\n",
       "       [0.2860162 ],\n",
       "       [0.27420607],\n",
       "       [0.29891542],\n",
       "       [0.31635284],\n",
       "       [0.32051226],\n",
       "       [0.33804303],\n",
       "       [0.3805572 ],\n",
       "       [0.48620334],\n",
       "       [0.47791204],\n",
       "       [0.37599114],\n",
       "       [0.36068246],\n",
       "       [0.40565988],\n",
       "       [0.3138179 ],\n",
       "       [0.26555455],\n",
       "       [0.34135744],\n",
       "       [0.28116503],\n",
       "       [0.29825458],\n",
       "       [0.47356734],\n",
       "       [0.36352044],\n",
       "       [0.4007893 ],\n",
       "       [0.45636454],\n",
       "       [0.43188593],\n",
       "       [0.37278354],\n",
       "       [0.36371258],\n",
       "       [0.2612038 ],\n",
       "       [0.2547844 ],\n",
       "       [0.29282895],\n",
       "       [0.30807647],\n",
       "       [0.26737794],\n",
       "       [0.37125865],\n",
       "       [0.40400335],\n",
       "       [0.4532081 ],\n",
       "       [0.4837753 ],\n",
       "       [0.40404996],\n",
       "       [0.36758134],\n",
       "       [0.3752757 ],\n",
       "       [0.34273967],\n",
       "       [0.2550064 ],\n",
       "       [0.2748014 ],\n",
       "       [0.26878908],\n",
       "       [0.3184292 ],\n",
       "       [0.4142819 ],\n",
       "       [0.43619117],\n",
       "       [0.46031255],\n",
       "       [0.43334502],\n",
       "       [0.36379054],\n",
       "       [0.33536312],\n",
       "       [0.3846884 ],\n",
       "       [0.30018035],\n",
       "       [0.27935326],\n",
       "       [0.36288106],\n",
       "       [0.35510337],\n",
       "       [0.28396323],\n",
       "       [0.35737017],\n",
       "       [0.44909754],\n",
       "       [0.38109124],\n",
       "       [0.4721682 ],\n",
       "       [0.41536227],\n",
       "       [0.3418282 ],\n",
       "       [0.37626353],\n",
       "       [0.35033503],\n",
       "       [0.29810214],\n",
       "       [0.31239554],\n",
       "       [0.2822865 ],\n",
       "       [0.3061266 ],\n",
       "       [0.38782147],\n",
       "       [0.42389148],\n",
       "       [0.35478732],\n",
       "       [0.39954358],\n",
       "       [0.43486086],\n",
       "       [0.4224082 ],\n",
       "       [0.41563147],\n",
       "       [0.2793936 ],\n",
       "       [0.3153406 ],\n",
       "       [0.30445495],\n",
       "       [0.36955988],\n",
       "       [0.2771473 ],\n",
       "       [0.35017976],\n",
       "       [0.3932081 ],\n",
       "       [0.3894668 ],\n",
       "       [0.4178652 ],\n",
       "       [0.5327556 ],\n",
       "       [0.35460326],\n",
       "       [0.34475198],\n",
       "       [0.3432491 ],\n",
       "       [0.2850099 ],\n",
       "       [0.25659174],\n",
       "       [0.2611439 ],\n",
       "       [0.33770105],\n",
       "       [0.39586586],\n",
       "       [0.4228452 ],\n",
       "       [0.38622954],\n",
       "       [0.46929353],\n",
       "       [0.43902758],\n",
       "       [0.32215267],\n",
       "       [0.36790186],\n",
       "       [0.320204  ],\n",
       "       [0.2860671 ],\n",
       "       [0.28674054],\n",
       "       [0.29409307],\n",
       "       [0.3732958 ],\n",
       "       [0.39258835],\n",
       "       [0.3666007 ],\n",
       "       [0.38426644],\n",
       "       [0.41452253],\n",
       "       [0.4173846 ],\n",
       "       [0.404885  ],\n",
       "       [0.4156519 ],\n",
       "       [0.34338984],\n",
       "       [0.288857  ],\n",
       "       [0.2753484 ],\n",
       "       [0.31281462],\n",
       "       [0.32260242],\n",
       "       [0.366151  ],\n",
       "       [0.38395438],\n",
       "       [0.43158087],\n",
       "       [0.3977447 ],\n",
       "       [0.42741176],\n",
       "       [0.3960013 ],\n",
       "       [0.45571867],\n",
       "       [0.39919338],\n",
       "       [0.3188325 ],\n",
       "       [0.3307099 ],\n",
       "       [0.28113517],\n",
       "       [0.2580693 ],\n",
       "       [0.3358358 ],\n",
       "       [0.43364242],\n",
       "       [0.41982958],\n",
       "       [0.4148049 ],\n",
       "       [0.5140239 ],\n",
       "       [0.34998462],\n",
       "       [0.3608661 ],\n",
       "       [0.34377232],\n",
       "       [0.33326963],\n",
       "       [0.35775247],\n",
       "       [0.32113492],\n",
       "       [0.31443366],\n",
       "       [0.3439468 ],\n",
       "       [0.42066413],\n",
       "       [0.39699563],\n",
       "       [0.4027513 ],\n",
       "       [0.44065496],\n",
       "       [0.38115695],\n",
       "       [0.39685383],\n",
       "       [0.36176655],\n",
       "       [0.353737  ],\n",
       "       [0.35117975],\n",
       "       [0.28032637],\n",
       "       [0.3594748 ],\n",
       "       [0.27347553],\n",
       "       [0.37550792],\n",
       "       [0.36123937],\n",
       "       [0.4091517 ],\n",
       "       [0.4202071 ],\n",
       "       [0.48249468],\n",
       "       [0.3557549 ],\n",
       "       [0.3547229 ],\n",
       "       [0.26831034],\n",
       "       [0.27023807],\n",
       "       [0.30195358],\n",
       "       [0.31847388],\n",
       "       [0.36960986],\n",
       "       [0.4090025 ],\n",
       "       [0.35993508],\n",
       "       [0.40559104],\n",
       "       [0.43819413],\n",
       "       [0.42938873],\n",
       "       [0.31095108],\n",
       "       [0.3478633 ],\n",
       "       [0.31225446],\n",
       "       [0.298024  ],\n",
       "       [0.27787408],\n",
       "       [0.30946907],\n",
       "       [0.31324145],\n",
       "       [0.40170723],\n",
       "       [0.39352122],\n",
       "       [0.42488974],\n",
       "       [0.40379813],\n",
       "       [0.4225683 ],\n",
       "       [0.34793606],\n",
       "       [0.29305524],\n",
       "       [0.28258094],\n",
       "       [0.2736365 ],\n",
       "       [0.28431132],\n",
       "       [0.32331136],\n",
       "       [0.37170592],\n",
       "       [0.35972533],\n",
       "       [0.41378048],\n",
       "       [0.38192877],\n",
       "       [0.4273974 ],\n",
       "       [0.3381783 ],\n",
       "       [0.34471813],\n",
       "       [0.3245581 ],\n",
       "       [0.28307936],\n",
       "       [0.3124136 ],\n",
       "       [0.33658406],\n",
       "       [0.2943329 ],\n",
       "       [0.36475363],\n",
       "       [0.39979234],\n",
       "       [0.37285376],\n",
       "       [0.42808372],\n",
       "       [0.41168788],\n",
       "       [0.32899883],\n",
       "       [0.36969122],\n",
       "       [0.3781834 ],\n",
       "       [0.31382704],\n",
       "       [0.23599833],\n",
       "       [0.37005183],\n",
       "       [0.3339199 ],\n",
       "       [0.3307226 ],\n",
       "       [0.37173682],\n",
       "       [0.43363687],\n",
       "       [0.3946017 ],\n",
       "       [0.4624783 ],\n",
       "       [0.4687067 ],\n",
       "       [0.37869617],\n",
       "       [0.29004928],\n",
       "       [0.34078592],\n",
       "       [0.29697457],\n",
       "       [0.3300136 ],\n",
       "       [0.35927412],\n",
       "       [0.3453742 ],\n",
       "       [0.38910475],\n",
       "       [0.49634692],\n",
       "       [0.4728915 ],\n",
       "       [0.41643474],\n",
       "       [0.42939982],\n",
       "       [0.33609286],\n",
       "       [0.2741423 ],\n",
       "       [0.28854397],\n",
       "       [0.28245553],\n",
       "       [0.29735568],\n",
       "       [0.35039714],\n",
       "       [0.42309284],\n",
       "       [0.41801876],\n",
       "       [0.3970456 ],\n",
       "       [0.37411404],\n",
       "       [0.3966913 ],\n",
       "       [0.41317382],\n",
       "       [0.3310261 ],\n",
       "       [0.3499819 ],\n",
       "       [0.33084783],\n",
       "       [0.3008541 ],\n",
       "       [0.28182247],\n",
       "       [0.3211755 ],\n",
       "       [0.32159236],\n",
       "       [0.41319928],\n",
       "       [0.38892817],\n",
       "       [0.41124198],\n",
       "       [0.4321011 ],\n",
       "       [0.37936693]], dtype=float32)"
      ]
     },
     "execution_count": 21,
     "metadata": {},
     "output_type": "execute_result"
    }
   ],
   "source": [
    "trainpred"
   ]
  },
  {
   "cell_type": "code",
   "execution_count": 22,
   "metadata": {},
   "outputs": [
    {
     "data": {
      "text/plain": [
       "array([[0.3007643 ],\n",
       "       [0.34717408],\n",
       "       [0.2651709 ],\n",
       "       [0.3188894 ],\n",
       "       [0.3379849 ],\n",
       "       [0.33486706],\n",
       "       [0.39982912],\n",
       "       [0.47180715],\n",
       "       [0.42255494],\n",
       "       [0.42593202],\n",
       "       [0.436426  ],\n",
       "       [0.3792384 ],\n",
       "       [0.33549955],\n",
       "       [0.32481992],\n",
       "       [0.2921967 ],\n",
       "       [0.27576417],\n",
       "       [0.35621157],\n",
       "       [0.3376012 ],\n",
       "       [0.37881878],\n",
       "       [0.5055812 ],\n",
       "       [0.46563372],\n",
       "       [0.37922847]], dtype=float32)"
      ]
     },
     "execution_count": 22,
     "metadata": {},
     "output_type": "execute_result"
    }
   ],
   "source": [
    "valpred"
   ]
  },
  {
   "cell_type": "code",
   "execution_count": 23,
   "metadata": {},
   "outputs": [],
   "source": [
    "# Convert predictions back to normal values\n",
    "trainpred = scaler.inverse_transform(trainpred)\n",
    "Y_train = scaler.inverse_transform([Y_train])\n",
    "valpred = scaler.inverse_transform(valpred)\n",
    "Y_val = scaler.inverse_transform([Y_val])\n",
    "predictions = valpred"
   ]
  },
  {
   "cell_type": "code",
   "execution_count": 24,
   "metadata": {},
   "outputs": [
    {
     "data": {
      "text/plain": [
       "(1, 448)"
      ]
     },
     "execution_count": 24,
     "metadata": {},
     "output_type": "execute_result"
    }
   ],
   "source": [
    "Y_train.shape"
   ]
  },
  {
   "cell_type": "code",
   "execution_count": 25,
   "metadata": {},
   "outputs": [
    {
     "data": {
      "text/plain": [
       "(1, 22)"
      ]
     },
     "execution_count": 25,
     "metadata": {},
     "output_type": "execute_result"
    }
   ],
   "source": [
    "Y_val.shape"
   ]
  },
  {
   "cell_type": "code",
   "execution_count": 26,
   "metadata": {},
   "outputs": [
    {
     "data": {
      "text/plain": [
       "(448, 1, 120)"
      ]
     },
     "execution_count": 26,
     "metadata": {},
     "output_type": "execute_result"
    }
   ],
   "source": [
    "X_train.shape"
   ]
  },
  {
   "cell_type": "code",
   "execution_count": 27,
   "metadata": {},
   "outputs": [
    {
     "data": {
      "text/plain": [
       "(22, 1, 120)"
      ]
     },
     "execution_count": 27,
     "metadata": {},
     "output_type": "execute_result"
    }
   ],
   "source": [
    "X_val.shape"
   ]
  },
  {
   "cell_type": "code",
   "execution_count": 28,
   "metadata": {},
   "outputs": [
    {
     "data": {
      "text/plain": [
       "array([[187.6, 178.3,  70.7, 267. , 141.9, 150.2,  44.1,  57.3, 128.1,\n",
       "        116.1, 175.6, 225.6, 199.8,  82.1, 130.5, 134.3,  90. ,  33.8,\n",
       "         59.6, 114.7,  51.2,  77.1,  86.3, 112.1, 211.9,  73.2, 109.7,\n",
       "         98.4, 139.8, 140.8, 141.2,  92.4,  49.8,  69.3,  12.9,  59.7,\n",
       "        191.9, 169.5, 168.5, 149.9,  81.8,  77.7, 115.9,  67. ,  64.7,\n",
       "        162. ,  94.3, 107.7, 240.1, 148.4, 226. , 145.9,  89.2,  19.1,\n",
       "         72.4,  66.5, 129.6, 141.2, 188.9, 111.1, 187.2, 202.2, 260.6,\n",
       "         30. ,  71.2, 109.8,  17.8,  47.6, 167.9,  90.2, 121.7, 146.5,\n",
       "        156. ,  80.9, 226.5,  72.4, 123.7,  60.7, 132.9,  64.1,  60.6,\n",
       "          5.8,  91.2, 138.7, 141.8, 148.3, 117.3, 126.4, 152.2, 148.4,\n",
       "         37.4,  95.2,  77.2,  99.1, 132.4, 200.8, 246.1, 139.7, 230.6,\n",
       "         94.9, 256.2,  37.2,  33.1,  79.2,  75. , 111.3, 248.5,  71.4,\n",
       "        183.2, 178.4, 137.8,  59. , 186.4, 113.8, 139.3,  49.9,  67.4,\n",
       "        184.8, 144.1, 144. , 218.2, 209.1, 133.6, 115.8, 129.2,  17.5,\n",
       "         25.2, 169.9, 154.7, 102. , 260.2, 185.9, 192.9, 294.9, 159.1,\n",
       "        106.1, 176.1,  49.3, 155.6,  86.7, 110.7, 100.9, 246.1, 210. ,\n",
       "        122.9, 123.3, 139.1, 119.3, 178.6,  30.7,  89.4, 120.2,  25. ,\n",
       "        135.4, 114.6, 156.5, 206.4, 298.4, 204.2,  90.1, 201.4,  93.1,\n",
       "         91.1,  43.3,  41.4,  44.8, 176. , 260.3,  82.4, 173.5, 295.5,\n",
       "        135.2,  73.8,  70.5,  31.3,  77.6,  44.3,  76.3, 163. , 248.2,\n",
       "        162.7, 178.3, 111.9,  56.4, 167.7, 101.1, 133.6,  82.5, 107.8,\n",
       "        259.8, 244.4,  80.3,  75.1, 163.5, 217.9,   5. , 214. , 140.5,\n",
       "        205.1, 102. ,  97.4, 160.2,  25. , 218.4, 225. , 272.2,  81. ,\n",
       "         98.3, 155.6,  55.6,  68.3,  83.7, 104.2, 140.6, 147.8, 181.5,\n",
       "        160.7, 105.8, 261.6, 144. , 231.9,  54. ,  68.5,  53.1, 160.8,\n",
       "        183.2, 174.6, 177.6,  90.3, 115. , 136.9, 177. , 171.5,  77.3,\n",
       "         44.8, 102.4,  37.7, 193. ,  75.4, 309. , 112.6, 135.4, 233.4,\n",
       "        265.6, 111. , 128.6,  20.9, 116.3,  80.9,  96.2,  77.7, 272.3,\n",
       "        152.9, 250.1, 150.7, 100.6, 124.7, 212.9,  27.7, 116.1, 118.9,\n",
       "         90.2,  96.6, 142.2, 203.8, 165.9, 106.9, 139.8, 198.3, 141.6,\n",
       "         98.9,  51.3, 131.5, 208. , 140.7, 165.4, 247.4, 141.3, 220.2,\n",
       "         64.4,  89.7, 126.7, 155.1, 109.6, 120.9,  85.1, 100.9,  53.7,\n",
       "         83. , 337.5, 245.5, 113.3, 267.5, 164.6,  88.3, 119.6,  87.4,\n",
       "         93.3,  78.1,  90.3, 136.6, 250. , 220.9, 163.8, 182.2,  63.6,\n",
       "         84.2,  34.6, 130.4,  10.7, 102.7, 178.2, 136.7,  64.9,  70. ,\n",
       "        187. ,  76.5,  89.1,  91.6,  56.2,  98.8, 108.8,  71.9, 210.1,\n",
       "        185.7,  93.4,  28. , 200.8,  89. ,  42.7,  99.9,  80. , 124.3,\n",
       "        106.7, 123.8,  96.9, 130.8, 229.3, 165.6, 132.9, 122. ,  97. ,\n",
       "         66.5, 151.2, 145.2, 238.9,  96. , 242.8, 181.6, 198.7, 232.7,\n",
       "        169.1, 112.8, 148. ,  83.3,  79.4,  93.3, 140. , 185.6, 113.7,\n",
       "        213.3, 358.1, 133.2, 223.6, 123.2, 115.9,  80.2,  87.4,  56.6,\n",
       "        192.9, 150. , 305.8, 228.2, 175.7,  80.8,  91.4,  97. ,  94.9,\n",
       "         54.1, 111.8,  96.4, 175.4,  68.9, 141.7, 176.3,  98. , 141.7,\n",
       "        261.2,  97.4, 111.5, 118.9, 152. ,  78.5, 115.8,  38.6, 203.9,\n",
       "        230.3, 134. , 135.7,  89. ,  90.2,  66.2, 198.8,  68.5, 101.9,\n",
       "         53.5,  96.6, 110.7, 194.8, 146.6, 186.8,  71.9, 123.8, 117.1,\n",
       "         82. , 111.3, 104. , 102.6, 198.6, 192.8, 114.2, 236.2, 286.2,\n",
       "        104.5,  76.8, 124.8, 140. ,  97.1,  44. , 132.3, 123.6, 134. ,\n",
       "        191.3, 162.9,  95.9,  99.7, 134.8, 104.5, 135.6,  37.8,  58.9,\n",
       "         69. , 178.8, 178. , 192.3, 260.3, 202.9, 116.6]])"
      ]
     },
     "execution_count": 28,
     "metadata": {},
     "output_type": "execute_result"
    }
   ],
   "source": [
    "Y_train"
   ]
  },
  {
   "cell_type": "code",
   "execution_count": 29,
   "metadata": {},
   "outputs": [
    {
     "data": {
      "text/plain": [
       "array([[ 25.3,  63. ,  98.8, 182.2, 186.2, 146.8, 177.2, 207. , 181.3,\n",
       "        269.7, 155. ,  87.3,  86.2,  63.7,  61.4,  55.4, 174.9, 142.2,\n",
       "        131.2, 150.6, 189.1, 139.1]])"
      ]
     },
     "execution_count": 29,
     "metadata": {},
     "output_type": "execute_result"
    }
   ],
   "source": [
    "Y_val"
   ]
  },
  {
   "cell_type": "code",
   "execution_count": 30,
   "metadata": {},
   "outputs": [
    {
     "data": {
      "text/plain": [
       "array([[[0.53242707, 0.82242991, 0.34806004, ..., 0.21042198,\n",
       "         0.16765789, 0.28518833]],\n",
       "\n",
       "       [[0.82242991, 0.34806004, 0.28632116, ..., 0.16765789,\n",
       "         0.28518833, 0.51713396]],\n",
       "\n",
       "       [[0.34806004, 0.28632116, 0.13848768, ..., 0.28518833,\n",
       "         0.51713396, 0.49079581]],\n",
       "\n",
       "       ...,\n",
       "\n",
       "       [[0.25035401, 0.06513735, 0.55451713, ..., 0.49221184,\n",
       "         0.48994619, 0.53044463]],\n",
       "\n",
       "       [[0.06513735, 0.55451713, 0.23789295, ..., 0.48994619,\n",
       "         0.53044463, 0.72302464]],\n",
       "\n",
       "       [[0.55451713, 0.23789295, 0.10676862, ..., 0.53044463,\n",
       "         0.72302464, 0.56046446]]])"
      ]
     },
     "execution_count": 30,
     "metadata": {},
     "output_type": "execute_result"
    }
   ],
   "source": [
    "X_train"
   ]
  },
  {
   "cell_type": "code",
   "execution_count": 31,
   "metadata": {},
   "outputs": [
    {
     "data": {
      "text/plain": [
       "array([[[0.14358539, 0.33021807, 0.32880204, ..., 0.24695554,\n",
       "         0.38714245, 0.62531861]],\n",
       "\n",
       "       [[0.33021807, 0.32880204, 0.5287454 , ..., 0.38714245,\n",
       "         0.62531861, 0.0574908 ]],\n",
       "\n",
       "       [[0.32880204, 0.5287454 , 0.23336165, ..., 0.62531861,\n",
       "         0.0574908 , 0.16425942]],\n",
       "\n",
       "       ...,\n",
       "\n",
       "       [[0.49362787, 0.35202492, 0.39308978, ..., 0.48116681,\n",
       "         0.38855848, 0.35740583]],\n",
       "\n",
       "       [[0.35202492, 0.39308978, 0.16086095, ..., 0.38855848,\n",
       "         0.35740583, 0.41234778]],\n",
       "\n",
       "       [[0.39308978, 0.16086095, 0.33446616, ..., 0.35740583,\n",
       "         0.41234778, 0.52138204]]])"
      ]
     },
     "execution_count": 31,
     "metadata": {},
     "output_type": "execute_result"
    }
   ],
   "source": [
    "X_val"
   ]
  },
  {
   "cell_type": "code",
   "execution_count": 32,
   "metadata": {},
   "outputs": [
    {
     "name": "stdout",
     "output_type": "stream",
     "text": [
      "Train Score: 58.36 RMSE\n",
      "Validation Score: 48.39 RMSE\n"
     ]
    }
   ],
   "source": [
    "import math\n",
    "from sklearn.metrics import mean_squared_error\n",
    "\n",
    "# calculate RMSE\n",
    "trainScore = math.sqrt(mean_squared_error(Y_train[0], trainpred[:,0]))\n",
    "print('Train Score: %.2f RMSE' % (trainScore))\n",
    "valScore = math.sqrt(mean_squared_error(Y_val[0], valpred[:,0]))\n",
    "print('Validation Score: %.2f RMSE' % (valScore))"
   ]
  },
  {
   "cell_type": "code",
   "execution_count": 33,
   "metadata": {},
   "outputs": [],
   "source": [
    "# Train predictions\n",
    "trainpredPlot = np.empty_like(df)\n",
    "trainpredPlot[:, :] = np.nan\n",
    "trainpredPlot[previous:len(trainpred)+previous, :] = trainpred"
   ]
  },
  {
   "cell_type": "code",
   "execution_count": 34,
   "metadata": {},
   "outputs": [],
   "source": [
    "# Validation predictions\n",
    "valpredPlot = np.empty_like(df)\n",
    "valpredPlot[:, :] = np.nan\n",
    "valpredPlot[len(trainpred)+(previous*2)+1:len(df)-1, :] = valpred"
   ]
  },
  {
   "cell_type": "code",
   "execution_count": 35,
   "metadata": {},
   "outputs": [
    {
     "data": {
      "image/png": "[encoded data removed]",
      "text/plain": [
       "<Figure size 432x288 with 1 Axes>"
      ]
     },
     "metadata": {
      "needs_background": "light"
     },
     "output_type": "display_data"
    }
   ],
   "source": [
    "# Plot all predictions\n",
    "inversetransform, =plt.plot(scaler.inverse_transform(df))\n",
    "trainpred, =plt.plot(trainpredPlot)\n",
    "valpred, =plt.plot(valpredPlot)\n",
    "plt.xlabel('Days')\n",
    "plt.ylabel('Rainfall')\n",
    "plt.title(\"Predicted vs. Actual Rainfall\")\n",
    "plt.show()"
   ]
  },
  {
   "cell_type": "code",
   "execution_count": 36,
   "metadata": {},
   "outputs": [],
   "source": [
    "Y_val=Y_val.reshape(-1)\n",
    "Y_val.shape\n",
    "Y_val=pd.Series(Y_val)"
   ]
  },
  {
   "cell_type": "code",
   "execution_count": 37,
   "metadata": {},
   "outputs": [
    {
     "data": {
      "text/plain": [
       "0      25.3\n",
       "1      63.0\n",
       "2      98.8\n",
       "3     182.2\n",
       "4     186.2\n",
       "5     146.8\n",
       "6     177.2\n",
       "7     207.0\n",
       "8     181.3\n",
       "9     269.7\n",
       "10    155.0\n",
       "11     87.3\n",
       "12     86.2\n",
       "13     63.7\n",
       "14     61.4\n",
       "15     55.4\n",
       "16    174.9\n",
       "17    142.2\n",
       "18    131.2\n",
       "19    150.6\n",
       "20    189.1\n",
       "21    139.1\n",
       "dtype: float64"
      ]
     },
     "execution_count": 37,
     "metadata": {},
     "output_type": "execute_result"
    }
   ],
   "source": [
    "Y_val"
   ]
  },
  {
   "cell_type": "code",
   "execution_count": 38,
   "metadata": {},
   "outputs": [],
   "source": [
    "predictions=predictions.reshape(-1)\n",
    "predictions.shape\n",
    "predictions=pd.Series(predictions)"
   ]
  },
  {
   "cell_type": "code",
   "execution_count": 39,
   "metadata": {},
   "outputs": [
    {
     "data": {
      "text/plain": [
       "0     111.199875\n",
       "1     127.587173\n",
       "2      98.631851\n",
       "3     117.599854\n",
       "4     124.342468\n",
       "5     123.241562\n",
       "6     146.179672\n",
       "7     171.595108\n",
       "8     154.204147\n",
       "9     155.396606\n",
       "10    159.102036\n",
       "11    138.909088\n",
       "12    123.464897\n",
       "13    119.693916\n",
       "14    108.174652\n",
       "15    102.372330\n",
       "16    130.778305\n",
       "17    124.206993\n",
       "18    138.760910\n",
       "19    183.520721\n",
       "20    169.415268\n",
       "21    138.905579\n",
       "dtype: float32"
      ]
     },
     "execution_count": 39,
     "metadata": {},
     "output_type": "execute_result"
    }
   ],
   "source": [
    "predictions"
   ]
  },
  {
   "cell_type": "code",
   "execution_count": 40,
   "metadata": {},
   "outputs": [],
   "source": [
    "import numpy as np\n",
    "\n",
    "def mda(actual: np.ndarray, predicted: np.ndarray):\n",
    "    \"\"\" Mean Directional Accuracy \"\"\"\n",
    "    return np.mean((np.sign(actual[1:] - actual[:-1]) == np.sign(predicted[1:] - predicted[:-1])).astype(int))"
   ]
  },
  {
   "cell_type": "code",
   "execution_count": 41,
   "metadata": {},
   "outputs": [
    {
     "data": {
      "text/plain": [
       "0.9090909090909091"
      ]
     },
     "execution_count": 41,
     "metadata": {},
     "output_type": "execute_result"
    }
   ],
   "source": [
    "mda(Y_val, predictions)"
   ]
  },
  {
   "cell_type": "code",
   "execution_count": 42,
   "metadata": {},
   "outputs": [
    {
     "name": "stdout",
     "output_type": "stream",
     "text": [
      "RMSE: 48.391206\n"
     ]
    }
   ],
   "source": [
    "# https://machinelearningmastery.com/time-series-forecasting-performance-measures-with-python/\n",
    "\n",
    "from sklearn.metrics import mean_squared_error\n",
    "from math import sqrt\n",
    "mse = mean_squared_error(Y_val, predictions)\n",
    "rmse = sqrt(mse)\n",
    "print('RMSE: %f' % rmse)"
   ]
  },
  {
   "cell_type": "code",
   "execution_count": 43,
   "metadata": {},
   "outputs": [
    {
     "data": {
      "text/plain": [
       "0      85.899875\n",
       "1      64.587173\n",
       "2      -0.168149\n",
       "3     -64.600146\n",
       "4     -61.857532\n",
       "5     -23.558438\n",
       "6     -31.020328\n",
       "7     -35.404892\n",
       "8     -27.095853\n",
       "9    -114.303394\n",
       "10      4.102036\n",
       "11     51.609088\n",
       "12     37.264897\n",
       "13     55.993916\n",
       "14     46.774652\n",
       "15     46.972330\n",
       "16    -44.121695\n",
       "17    -17.993007\n",
       "18      7.560910\n",
       "19     32.920721\n",
       "20    -19.684732\n",
       "21     -0.194421\n",
       "dtype: float64"
      ]
     },
     "execution_count": 43,
     "metadata": {},
     "output_type": "execute_result"
    }
   ],
   "source": [
    "forecast_error = (predictions-Y_val)\n",
    "forecast_error"
   ]
  },
  {
   "cell_type": "code",
   "execution_count": 44,
   "metadata": {},
   "outputs": [
    {
     "data": {
      "text/plain": [
       "-0.2871358004483323"
      ]
     },
     "execution_count": 44,
     "metadata": {},
     "output_type": "execute_result"
    }
   ],
   "source": [
    "mean_forecast_error = np.mean(forecast_error)\n",
    "mean_forecast_error"
   ]
  },
  {
   "cell_type": "code",
   "execution_count": 45,
   "metadata": {},
   "outputs": [
    {
     "data": {
      "text/plain": [
       "array([[[0.53242707, 0.82242991, 0.34806004, ..., 0.21042198,\n",
       "         0.16765789, 0.28518833]],\n",
       "\n",
       "       [[0.82242991, 0.34806004, 0.28632116, ..., 0.16765789,\n",
       "         0.28518833, 0.51713396]],\n",
       "\n",
       "       [[0.34806004, 0.28632116, 0.13848768, ..., 0.28518833,\n",
       "         0.51713396, 0.49079581]],\n",
       "\n",
       "       ...,\n",
       "\n",
       "       [[0.25035401, 0.06513735, 0.55451713, ..., 0.49221184,\n",
       "         0.48994619, 0.53044463]],\n",
       "\n",
       "       [[0.06513735, 0.55451713, 0.23789295, ..., 0.48994619,\n",
       "         0.53044463, 0.72302464]],\n",
       "\n",
       "       [[0.55451713, 0.23789295, 0.10676862, ..., 0.53044463,\n",
       "         0.72302464, 0.56046446]]])"
      ]
     },
     "execution_count": 45,
     "metadata": {},
     "output_type": "execute_result"
    }
   ],
   "source": [
    "X_train"
   ]
  },
  {
   "cell_type": "code",
   "execution_count": 46,
   "metadata": {},
   "outputs": [
    {
     "data": {
      "text/plain": [
       "(448, 1, 120)"
      ]
     },
     "execution_count": 46,
     "metadata": {},
     "output_type": "execute_result"
    }
   ],
   "source": [
    "X_train.shape"
   ]
  },
  {
   "cell_type": "markdown",
   "metadata": {},
   "source": [
    "## Test (unseen) predictions"
   ]
  },
  {
   "cell_type": "code",
   "execution_count": 47,
   "metadata": {},
   "outputs": [],
   "source": [
    "Xnew = np.array([tseries.iloc[592:712],tseries.iloc[593:713],tseries.iloc[594:714],tseries.iloc[595:715],tseries.iloc[596:716],tseries.iloc[597:717],tseries.iloc[598:718],tseries.iloc[599:719],tseries.iloc[600:720],tseries.iloc[601:721]])"
   ]
  },
  {
   "cell_type": "code",
   "execution_count": 48,
   "metadata": {},
   "outputs": [
    {
     "data": {
      "text/plain": [
       "array([[123.1, 110.8, 128.8, ..., 189.1, 139.1, 107.9],\n",
       "       [110.8, 128.8,  67.5, ..., 139.1, 107.9, 227.3],\n",
       "       [128.8,  67.5, 243.8, ..., 107.9, 227.3,  92.6],\n",
       "       ...,\n",
       "       [132.3, 322.6, 133.8, ...,  84.1, 221.9, 166.3],\n",
       "       [322.6, 133.8,  86. , ..., 221.9, 166.3, 152. ],\n",
       "       [133.8,  86. ,  69.1, ..., 166.3, 152. , 142.5]])"
      ]
     },
     "execution_count": 48,
     "metadata": {},
     "output_type": "execute_result"
    }
   ],
   "source": [
    "Xnew"
   ]
  },
  {
   "cell_type": "code",
   "execution_count": 49,
   "metadata": {},
   "outputs": [],
   "source": [
    "Xnew = scaler.fit_transform(Xnew)\n",
    "Xnew\n",
    "Xnewformat = np.reshape(Xnew, (Xnew.shape[0], 1, Xnew.shape[1]))\n",
    "ynew=model.predict(Xnewformat)"
   ]
  },
  {
   "cell_type": "code",
   "execution_count": 50,
   "metadata": {},
   "outputs": [
    {
     "data": {
      "text/plain": [
       "(10, 120)"
      ]
     },
     "execution_count": 50,
     "metadata": {},
     "output_type": "execute_result"
    }
   ],
   "source": [
    "Xnew.shape"
   ]
  },
  {
   "cell_type": "code",
   "execution_count": 51,
   "metadata": {},
   "outputs": [
    {
     "data": {
      "text/plain": [
       "array([[0.3988632 ],\n",
       "       [0.22769143],\n",
       "       [0.22957231],\n",
       "       [0.3178386 ],\n",
       "       [0.33648273],\n",
       "       [0.25031558],\n",
       "       [0.36772195],\n",
       "       [0.35087237],\n",
       "       [0.52213156],\n",
       "       [0.5126481 ]], dtype=float32)"
      ]
     },
     "execution_count": 51,
     "metadata": {},
     "output_type": "execute_result"
    }
   ],
   "source": [
    "ynew"
   ]
  },
  {
   "cell_type": "code",
   "execution_count": 52,
   "metadata": {},
   "outputs": [
    {
     "data": {
      "text/plain": [
       "numpy.ndarray"
      ]
     },
     "execution_count": 52,
     "metadata": {},
     "output_type": "execute_result"
    }
   ],
   "source": [
    "type(ynew)"
   ]
  },
  {
   "cell_type": "code",
   "execution_count": 53,
   "metadata": {},
   "outputs": [
    {
     "data": {
      "text/plain": [
       "(10, 1)"
      ]
     },
     "execution_count": 53,
     "metadata": {},
     "output_type": "execute_result"
    }
   ],
   "source": [
    "ynew.shape"
   ]
  },
  {
   "cell_type": "code",
   "execution_count": 54,
   "metadata": {},
   "outputs": [
    {
     "data": {
      "text/plain": [
       "712    227.3\n",
       "713     92.6\n",
       "714    110.5\n",
       "715     74.8\n",
       "716     84.1\n",
       "717    221.9\n",
       "718    166.3\n",
       "719    152.0\n",
       "720    142.5\n",
       "721    217.3\n",
       "Name: rain, dtype: float64"
      ]
     },
     "execution_count": 54,
     "metadata": {},
     "output_type": "execute_result"
    }
   ],
   "source": [
    "actual=tseries.iloc[712:722]\n",
    "actual"
   ]
  },
  {
   "cell_type": "code",
   "execution_count": 55,
   "metadata": {},
   "outputs": [
    {
     "data": {
      "text/plain": [
       "pandas.core.series.Series"
      ]
     },
     "execution_count": 55,
     "metadata": {},
     "output_type": "execute_result"
    }
   ],
   "source": [
    "type(actual)"
   ]
  },
  {
   "cell_type": "code",
   "execution_count": 56,
   "metadata": {},
   "outputs": [
    {
     "data": {
      "text/plain": [
       "array([227.3,  92.6, 110.5,  74.8,  84.1, 221.9, 166.3, 152. , 142.5,\n",
       "       217.3])"
      ]
     },
     "execution_count": 56,
     "metadata": {},
     "output_type": "execute_result"
    }
   ],
   "source": [
    "actual = np.array(actual)\n",
    "actual"
   ]
  },
  {
   "cell_type": "code",
   "execution_count": 57,
   "metadata": {},
   "outputs": [
    {
     "data": {
      "text/plain": [
       "(10, 1)"
      ]
     },
     "execution_count": 57,
     "metadata": {},
     "output_type": "execute_result"
    }
   ],
   "source": [
    "actual=actual.reshape(10,-1)\n",
    "actual.shape"
   ]
  },
  {
   "cell_type": "code",
   "execution_count": 58,
   "metadata": {},
   "outputs": [
    {
     "data": {
      "text/plain": [
       "array([[227.3],\n",
       "       [ 92.6],\n",
       "       [110.5],\n",
       "       [ 74.8],\n",
       "       [ 84.1],\n",
       "       [221.9],\n",
       "       [166.3],\n",
       "       [152. ],\n",
       "       [142.5],\n",
       "       [217.3]])"
      ]
     },
     "execution_count": 58,
     "metadata": {},
     "output_type": "execute_result"
    }
   ],
   "source": [
    "actual"
   ]
  },
  {
   "cell_type": "code",
   "execution_count": 59,
   "metadata": {},
   "outputs": [],
   "source": [
    "ynew=ynew.reshape(-1)\n",
    "actual=actual.reshape(-1)\n",
    "actualpd=pd.Series(actual)"
   ]
  },
  {
   "cell_type": "code",
   "execution_count": 60,
   "metadata": {},
   "outputs": [
    {
     "data": {
      "text/plain": [
       "0.0"
      ]
     },
     "execution_count": 60,
     "metadata": {},
     "output_type": "execute_result"
    }
   ],
   "source": [
    "np.min(df)"
   ]
  },
  {
   "cell_type": "code",
   "execution_count": 61,
   "metadata": {},
   "outputs": [
    {
     "data": {
      "text/plain": [
       "array([0.3988632 , 0.22769143, 0.22957231, 0.3178386 , 0.33648273,\n",
       "       0.25031558, 0.36772195, 0.35087237, 0.52213156, 0.5126481 ],\n",
       "      dtype=float32)"
      ]
     },
     "execution_count": 61,
     "metadata": {},
     "output_type": "execute_result"
    }
   ],
   "source": [
    "ynew"
   ]
  },
  {
   "cell_type": "code",
   "execution_count": 62,
   "metadata": {},
   "outputs": [],
   "source": [
    "maxt=np.max(tseries)"
   ]
  },
  {
   "cell_type": "code",
   "execution_count": 63,
   "metadata": {},
   "outputs": [],
   "source": [
    "mint=np.min(tseries)"
   ]
  },
  {
   "cell_type": "code",
   "execution_count": 64,
   "metadata": {},
   "outputs": [],
   "source": [
    "ynew = ynew * np.abs(maxt-mint) + np.min(tseries)\n",
    "ynewpd=pd.Series(ynew)"
   ]
  },
  {
   "cell_type": "code",
   "execution_count": 65,
   "metadata": {},
   "outputs": [
    {
     "data": {
      "text/plain": [
       "0    227.3\n",
       "1     92.6\n",
       "2    110.5\n",
       "3     74.8\n",
       "4     84.1\n",
       "5    221.9\n",
       "6    166.3\n",
       "7    152.0\n",
       "8    142.5\n",
       "9    217.3\n",
       "dtype: float64"
      ]
     },
     "execution_count": 65,
     "metadata": {},
     "output_type": "execute_result"
    }
   ],
   "source": [
    "actualpd"
   ]
  },
  {
   "cell_type": "code",
   "execution_count": 66,
   "metadata": {},
   "outputs": [
    {
     "data": {
      "text/plain": [
       "0    145.838593\n",
       "1     85.397842\n",
       "2     86.061981\n",
       "3    117.228813\n",
       "4    123.812057\n",
       "5     93.386429\n",
       "6    134.842621\n",
       "7    128.893036\n",
       "8    189.364655\n",
       "9    186.016052\n",
       "dtype: float32"
      ]
     },
     "execution_count": 66,
     "metadata": {},
     "output_type": "execute_result"
    }
   ],
   "source": [
    "ynewpd"
   ]
  },
  {
   "cell_type": "code",
   "execution_count": 67,
   "metadata": {},
   "outputs": [
    {
     "data": {
      "text/plain": [
       "0.8"
      ]
     },
     "execution_count": 67,
     "metadata": {},
     "output_type": "execute_result"
    }
   ],
   "source": [
    "mda(actualpd, ynewpd)"
   ]
  },
  {
   "cell_type": "code",
   "execution_count": 68,
   "metadata": {},
   "outputs": [
    {
     "name": "stdout",
     "output_type": "stream",
     "text": [
      "RMSE: 56.459293\n"
     ]
    }
   ],
   "source": [
    "mse = mean_squared_error(actualpd, ynewpd)\n",
    "rmse = sqrt(mse)\n",
    "print('RMSE: %f' % rmse)"
   ]
  },
  {
   "cell_type": "code",
   "execution_count": 69,
   "metadata": {},
   "outputs": [
    {
     "data": {
      "text/plain": [
       "0    -81.461407\n",
       "1     -7.202158\n",
       "2    -24.438019\n",
       "3     42.428813\n",
       "4     39.712057\n",
       "5   -128.513571\n",
       "6    -31.457379\n",
       "7    -23.106964\n",
       "8     46.864655\n",
       "9    -31.283948\n",
       "dtype: float64"
      ]
     },
     "execution_count": 69,
     "metadata": {},
     "output_type": "execute_result"
    }
   ],
   "source": [
    "forecast_error = (ynewpd-actualpd)\n",
    "forecast_error"
   ]
  },
  {
   "cell_type": "code",
   "execution_count": 70,
   "metadata": {},
   "outputs": [
    {
     "data": {
      "text/plain": [
       "-19.845792083740236"
      ]
     },
     "execution_count": 70,
     "metadata": {},
     "output_type": "execute_result"
    }
   ],
   "source": [
    "mean_forecast_error = np.mean(forecast_error)\n",
    "mean_forecast_error"
   ]
  },
  {
   "cell_type": "code",
   "execution_count": 71,
   "metadata": {},
   "outputs": [
    {
     "data": {
      "image/png": "[encoded data removed]",
      "text/plain": [
       "<Figure size 432x288 with 1 Axes>"
      ]
     },
     "metadata": {
      "needs_background": "light"
     },
     "output_type": "display_data"
    }
   ],
   "source": [
    "predictons, =plt.plot(ynewpd, label='Predictions')\n",
    "actual, =plt.plot(actualpd, label='Actual')\n",
    "plt.xlabel('Days')\n",
    "plt.ylabel('Rainfall')\n",
    "plt.title(\"Predicted vs. Actual Rainfall\")\n",
    "plt.legend(loc = 'upper center')\n",
    "plt.show()"
   ]
  }
 ],
 "metadata": {
  "kernelspec": {
   "display_name": "Python 3",
   "language": "python",
   "name": "python3"
  },
  "language_info": {
   "codemirror_mode": {
    "name": "ipython",
    "version": 3
   },
   "file_extension": ".py",
   "mimetype": "text/x-python",
   "name": "python",
   "nbconvert_exporter": "python",
   "pygments_lexer": "ipython3",
   "version": "3.6.5"
  }
 },
 "nbformat": 4,
 "nbformat_minor": 2
}
