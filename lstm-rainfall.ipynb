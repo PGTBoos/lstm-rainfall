{
 "cells": [
  {
   "cell_type": "code",
   "execution_count": 1,
   "metadata": {},
   "outputs": [
    {
     "name": "stderr",
     "output_type": "stream",
     "text": [
      "/home/michael/anaconda3/lib/python3.6/site-packages/statsmodels/tools/_testing.py:19: FutureWarning: pandas.util.testing is deprecated. Use the functions in the public API at pandas.testing instead.\n",
      "  import pandas.util.testing as tm\n"
     ]
    }
   ],
   "source": [
    "import os\n",
    "import csv\n",
    "import random\n",
    "import statsmodels.api as sm\n",
    "import statsmodels.formula.api as smf\n",
    "import numpy as np\n",
    "import pandas as pd\n",
    "from sklearn.model_selection import train_test_split\n",
    "from sklearn.linear_model import LogisticRegression\n",
    "from sklearn.ensemble import ExtraTreesClassifier\n",
    "from sklearn.preprocessing import MinMaxScaler"
   ]
  },
  {
   "cell_type": "code",
   "execution_count": 2,
   "metadata": {},
   "outputs": [
    {
     "data": {
      "text/html": [
       "<div>\n",
       "<style scoped>\n",
       "    .dataframe tbody tr th:only-of-type {\n",
       "        vertical-align: middle;\n",
       "    }\n",
       "\n",
       "    .dataframe tbody tr th {\n",
       "        vertical-align: top;\n",
       "    }\n",
       "\n",
       "    .dataframe thead th {\n",
       "        text-align: right;\n",
       "    }\n",
       "</style>\n",
       "<table border=\"1\" class=\"dataframe\">\n",
       "  <thead>\n",
       "    <tr style=\"text-align: right;\">\n",
       "      <th></th>\n",
       "      <th>year</th>\n",
       "      <th>month</th>\n",
       "      <th>rain</th>\n",
       "    </tr>\n",
       "  </thead>\n",
       "  <tbody>\n",
       "    <tr>\n",
       "      <th>0</th>\n",
       "      <td>1959</td>\n",
       "      <td>11</td>\n",
       "      <td>193.0</td>\n",
       "    </tr>\n",
       "    <tr>\n",
       "      <th>1</th>\n",
       "      <td>1959</td>\n",
       "      <td>12</td>\n",
       "      <td>295.4</td>\n",
       "    </tr>\n",
       "    <tr>\n",
       "      <th>2</th>\n",
       "      <td>1960</td>\n",
       "      <td>1</td>\n",
       "      <td>127.9</td>\n",
       "    </tr>\n",
       "    <tr>\n",
       "      <th>3</th>\n",
       "      <td>1960</td>\n",
       "      <td>2</td>\n",
       "      <td>106.1</td>\n",
       "    </tr>\n",
       "    <tr>\n",
       "      <th>4</th>\n",
       "      <td>1960</td>\n",
       "      <td>3</td>\n",
       "      <td>53.9</td>\n",
       "    </tr>\n",
       "    <tr>\n",
       "      <th>...</th>\n",
       "      <td>...</td>\n",
       "      <td>...</td>\n",
       "      <td>...</td>\n",
       "    </tr>\n",
       "    <tr>\n",
       "      <th>717</th>\n",
       "      <td>2019</td>\n",
       "      <td>8</td>\n",
       "      <td>221.9</td>\n",
       "    </tr>\n",
       "    <tr>\n",
       "      <th>718</th>\n",
       "      <td>2019</td>\n",
       "      <td>9</td>\n",
       "      <td>166.3</td>\n",
       "    </tr>\n",
       "    <tr>\n",
       "      <th>719</th>\n",
       "      <td>2019</td>\n",
       "      <td>10</td>\n",
       "      <td>152.0</td>\n",
       "    </tr>\n",
       "    <tr>\n",
       "      <th>720</th>\n",
       "      <td>2019</td>\n",
       "      <td>11</td>\n",
       "      <td>142.5</td>\n",
       "    </tr>\n",
       "    <tr>\n",
       "      <th>721</th>\n",
       "      <td>2019</td>\n",
       "      <td>12</td>\n",
       "      <td>217.3</td>\n",
       "    </tr>\n",
       "  </tbody>\n",
       "</table>\n",
       "<p>722 rows × 3 columns</p>\n",
       "</div>"
      ],
      "text/plain": [
       "     year  month   rain\n",
       "0    1959     11  193.0\n",
       "1    1959     12  295.4\n",
       "2    1960      1  127.9\n",
       "3    1960      2  106.1\n",
       "4    1960      3   53.9\n",
       "..    ...    ...    ...\n",
       "717  2019      8  221.9\n",
       "718  2019      9  166.3\n",
       "719  2019     10  152.0\n",
       "720  2019     11  142.5\n",
       "721  2019     12  217.3\n",
       "\n",
       "[722 rows x 3 columns]"
      ]
     },
     "execution_count": 2,
     "metadata": {},
     "output_type": "execute_result"
    }
   ],
   "source": [
    "mydata=pd.read_csv(\"mly833.csv\")\n",
    "mydata"
   ]
  },
  {
   "cell_type": "code",
   "execution_count": 3,
   "metadata": {},
   "outputs": [
    {
     "data": {
      "text/plain": [
       "0      193.0\n",
       "1      295.4\n",
       "2      127.9\n",
       "3      106.1\n",
       "4       53.9\n",
       "       ...  \n",
       "717    221.9\n",
       "718    166.3\n",
       "719    152.0\n",
       "720    142.5\n",
       "721    217.3\n",
       "Name: rain, Length: 722, dtype: float64"
      ]
     },
     "execution_count": 3,
     "metadata": {},
     "output_type": "execute_result"
    }
   ],
   "source": [
    "tseries=mydata['rain']\n",
    "tseries"
   ]
  },
  {
   "cell_type": "code",
   "execution_count": 4,
   "metadata": {},
   "outputs": [
    {
     "data": {
      "text/plain": [
       "pandas.core.series.Series"
      ]
     },
     "execution_count": 4,
     "metadata": {},
     "output_type": "execute_result"
    }
   ],
   "source": [
    "type(tseries)"
   ]
  },
  {
   "cell_type": "code",
   "execution_count": 5,
   "metadata": {},
   "outputs": [
    {
     "name": "stdout",
     "output_type": "stream",
     "text": [
      "ADF Statistic: -5.927739\n",
      "p-value: 0.000000\n",
      "Critical Values:\n",
      "\t1%: -3.440\n",
      "\t5%: -2.866\n",
      "\t10%: -2.569\n"
     ]
    }
   ],
   "source": [
    "from statsmodels.tsa.stattools import adfuller\n",
    "result = adfuller(tseries)\n",
    "print('ADF Statistic: %f' % result[0])\n",
    "print('p-value: %f' % result[1])\n",
    "print('Critical Values:')\n",
    "for key, value in result[4].items():\n",
    "    print('\\t%s: %.3f' % (key, value))"
   ]
  },
  {
   "cell_type": "code",
   "execution_count": 6,
   "metadata": {},
   "outputs": [
    {
     "data": {
      "image/png": "[encoded data removed]",
      "text/plain": [
       "<Figure size 432x288 with 1 Axes>"
      ]
     },
     "metadata": {
      "needs_background": "light"
     },
     "output_type": "display_data"
    }
   ],
   "source": [
    "import matplotlib.pyplot as plt\n",
    "plt.plot(tseries)\n",
    "plt.tick_params(\n",
    "    axis='x',          # changes apply to the x-axis\n",
    "    which='both',      # both major and minor ticks are affected\n",
    "    bottom=False,      # ticks along the bottom edge are off\n",
    "    top=False,         # ticks along the top edge are off\n",
    "    labelbottom=False) # labels along the bottom edge are off\n",
    "plt.ylabel('Rainfall')\n",
    "plt.title(\"Rainfall\")\n",
    "plt.show()"
   ]
  },
  {
   "cell_type": "code",
   "execution_count": 7,
   "metadata": {},
   "outputs": [
    {
     "data": {
      "text/html": [
       "<div>\n",
       "<style scoped>\n",
       "    .dataframe tbody tr th:only-of-type {\n",
       "        vertical-align: middle;\n",
       "    }\n",
       "\n",
       "    .dataframe tbody tr th {\n",
       "        vertical-align: top;\n",
       "    }\n",
       "\n",
       "    .dataframe thead th {\n",
       "        text-align: right;\n",
       "    }\n",
       "</style>\n",
       "<table border=\"1\" class=\"dataframe\">\n",
       "  <thead>\n",
       "    <tr style=\"text-align: right;\">\n",
       "      <th></th>\n",
       "      <th>rain</th>\n",
       "    </tr>\n",
       "  </thead>\n",
       "  <tbody>\n",
       "    <tr>\n",
       "      <th>0</th>\n",
       "      <td>193.0</td>\n",
       "    </tr>\n",
       "    <tr>\n",
       "      <th>1</th>\n",
       "      <td>295.4</td>\n",
       "    </tr>\n",
       "    <tr>\n",
       "      <th>2</th>\n",
       "      <td>127.9</td>\n",
       "    </tr>\n",
       "    <tr>\n",
       "      <th>3</th>\n",
       "      <td>106.1</td>\n",
       "    </tr>\n",
       "    <tr>\n",
       "      <th>4</th>\n",
       "      <td>53.9</td>\n",
       "    </tr>\n",
       "    <tr>\n",
       "      <th>...</th>\n",
       "      <td>...</td>\n",
       "    </tr>\n",
       "    <tr>\n",
       "      <th>717</th>\n",
       "      <td>221.9</td>\n",
       "    </tr>\n",
       "    <tr>\n",
       "      <th>718</th>\n",
       "      <td>166.3</td>\n",
       "    </tr>\n",
       "    <tr>\n",
       "      <th>719</th>\n",
       "      <td>152.0</td>\n",
       "    </tr>\n",
       "    <tr>\n",
       "      <th>720</th>\n",
       "      <td>142.5</td>\n",
       "    </tr>\n",
       "    <tr>\n",
       "      <th>721</th>\n",
       "      <td>217.3</td>\n",
       "    </tr>\n",
       "  </tbody>\n",
       "</table>\n",
       "<p>722 rows × 1 columns</p>\n",
       "</div>"
      ],
      "text/plain": [
       "      rain\n",
       "0    193.0\n",
       "1    295.4\n",
       "2    127.9\n",
       "3    106.1\n",
       "4     53.9\n",
       "..     ...\n",
       "717  221.9\n",
       "718  166.3\n",
       "719  152.0\n",
       "720  142.5\n",
       "721  217.3\n",
       "\n",
       "[722 rows x 1 columns]"
      ]
     },
     "execution_count": 7,
     "metadata": {},
     "output_type": "execute_result"
    }
   ],
   "source": [
    "df=pd.DataFrame(tseries)\n",
    "df"
   ]
  },
  {
   "cell_type": "code",
   "execution_count": 8,
   "metadata": {},
   "outputs": [],
   "source": [
    "df = df[:712]"
   ]
  },
  {
   "cell_type": "code",
   "execution_count": 9,
   "metadata": {},
   "outputs": [
    {
     "data": {
      "text/html": [
       "<div>\n",
       "<style scoped>\n",
       "    .dataframe tbody tr th:only-of-type {\n",
       "        vertical-align: middle;\n",
       "    }\n",
       "\n",
       "    .dataframe tbody tr th {\n",
       "        vertical-align: top;\n",
       "    }\n",
       "\n",
       "    .dataframe thead th {\n",
       "        text-align: right;\n",
       "    }\n",
       "</style>\n",
       "<table border=\"1\" class=\"dataframe\">\n",
       "  <thead>\n",
       "    <tr style=\"text-align: right;\">\n",
       "      <th></th>\n",
       "      <th>rain</th>\n",
       "    </tr>\n",
       "  </thead>\n",
       "  <tbody>\n",
       "    <tr>\n",
       "      <th>0</th>\n",
       "      <td>193.0</td>\n",
       "    </tr>\n",
       "    <tr>\n",
       "      <th>1</th>\n",
       "      <td>295.4</td>\n",
       "    </tr>\n",
       "    <tr>\n",
       "      <th>2</th>\n",
       "      <td>127.9</td>\n",
       "    </tr>\n",
       "    <tr>\n",
       "      <th>3</th>\n",
       "      <td>106.1</td>\n",
       "    </tr>\n",
       "    <tr>\n",
       "      <th>4</th>\n",
       "      <td>53.9</td>\n",
       "    </tr>\n",
       "    <tr>\n",
       "      <th>...</th>\n",
       "      <td>...</td>\n",
       "    </tr>\n",
       "    <tr>\n",
       "      <th>707</th>\n",
       "      <td>131.2</td>\n",
       "    </tr>\n",
       "    <tr>\n",
       "      <th>708</th>\n",
       "      <td>150.6</td>\n",
       "    </tr>\n",
       "    <tr>\n",
       "      <th>709</th>\n",
       "      <td>189.1</td>\n",
       "    </tr>\n",
       "    <tr>\n",
       "      <th>710</th>\n",
       "      <td>139.1</td>\n",
       "    </tr>\n",
       "    <tr>\n",
       "      <th>711</th>\n",
       "      <td>107.9</td>\n",
       "    </tr>\n",
       "  </tbody>\n",
       "</table>\n",
       "<p>712 rows × 1 columns</p>\n",
       "</div>"
      ],
      "text/plain": [
       "      rain\n",
       "0    193.0\n",
       "1    295.4\n",
       "2    127.9\n",
       "3    106.1\n",
       "4     53.9\n",
       "..     ...\n",
       "707  131.2\n",
       "708  150.6\n",
       "709  189.1\n",
       "710  139.1\n",
       "711  107.9\n",
       "\n",
       "[712 rows x 1 columns]"
      ]
     },
     "execution_count": 9,
     "metadata": {},
     "output_type": "execute_result"
    }
   ],
   "source": [
    "df"
   ]
  },
  {
   "cell_type": "code",
   "execution_count": 10,
   "metadata": {},
   "outputs": [],
   "source": [
    "# Form dataset matrix\n",
    "def create_dataset(df, previous=1):\n",
    "    dataX, dataY = [], []\n",
    "    for i in range(len(df)-previous-1):\n",
    "        a = df[i:(i+previous), 0]\n",
    "        dataX.append(a)\n",
    "        dataY.append(df[i + previous, 0])\n",
    "    return np.array(dataX), np.array(dataY)"
   ]
  },
  {
   "cell_type": "code",
   "execution_count": 11,
   "metadata": {},
   "outputs": [
    {
     "data": {
      "text/html": [
       "<div>\n",
       "<style scoped>\n",
       "    .dataframe tbody tr th:only-of-type {\n",
       "        vertical-align: middle;\n",
       "    }\n",
       "\n",
       "    .dataframe tbody tr th {\n",
       "        vertical-align: top;\n",
       "    }\n",
       "\n",
       "    .dataframe thead th {\n",
       "        text-align: right;\n",
       "    }\n",
       "</style>\n",
       "<table border=\"1\" class=\"dataframe\">\n",
       "  <thead>\n",
       "    <tr style=\"text-align: right;\">\n",
       "      <th></th>\n",
       "      <th>rain</th>\n",
       "    </tr>\n",
       "  </thead>\n",
       "  <tbody>\n",
       "    <tr>\n",
       "      <th>0</th>\n",
       "      <td>193.0</td>\n",
       "    </tr>\n",
       "    <tr>\n",
       "      <th>1</th>\n",
       "      <td>295.4</td>\n",
       "    </tr>\n",
       "    <tr>\n",
       "      <th>2</th>\n",
       "      <td>127.9</td>\n",
       "    </tr>\n",
       "    <tr>\n",
       "      <th>3</th>\n",
       "      <td>106.1</td>\n",
       "    </tr>\n",
       "    <tr>\n",
       "      <th>4</th>\n",
       "      <td>53.9</td>\n",
       "    </tr>\n",
       "    <tr>\n",
       "      <th>...</th>\n",
       "      <td>...</td>\n",
       "    </tr>\n",
       "    <tr>\n",
       "      <th>707</th>\n",
       "      <td>131.2</td>\n",
       "    </tr>\n",
       "    <tr>\n",
       "      <th>708</th>\n",
       "      <td>150.6</td>\n",
       "    </tr>\n",
       "    <tr>\n",
       "      <th>709</th>\n",
       "      <td>189.1</td>\n",
       "    </tr>\n",
       "    <tr>\n",
       "      <th>710</th>\n",
       "      <td>139.1</td>\n",
       "    </tr>\n",
       "    <tr>\n",
       "      <th>711</th>\n",
       "      <td>107.9</td>\n",
       "    </tr>\n",
       "  </tbody>\n",
       "</table>\n",
       "<p>712 rows × 1 columns</p>\n",
       "</div>"
      ],
      "text/plain": [
       "      rain\n",
       "0    193.0\n",
       "1    295.4\n",
       "2    127.9\n",
       "3    106.1\n",
       "4     53.9\n",
       "..     ...\n",
       "707  131.2\n",
       "708  150.6\n",
       "709  189.1\n",
       "710  139.1\n",
       "711  107.9\n",
       "\n",
       "[712 rows x 1 columns]"
      ]
     },
     "execution_count": 11,
     "metadata": {},
     "output_type": "execute_result"
    }
   ],
   "source": [
    "df"
   ]
  },
  {
   "cell_type": "code",
   "execution_count": 12,
   "metadata": {},
   "outputs": [
    {
     "data": {
      "text/plain": [
       "array([[0.53242707],\n",
       "       [0.82242991],\n",
       "       [0.34806004],\n",
       "       [0.28632116],\n",
       "       [0.13848768],\n",
       "       [0.34494477],\n",
       "       [0.14811668],\n",
       "       [0.33050127],\n",
       "       [0.39139054],\n",
       "       [0.31067686],\n",
       "       [0.31634098],\n",
       "       [0.19003115],\n",
       "       [0.62390258],\n",
       "       [0.5865194 ],\n",
       "       [0.54007363],\n",
       "       [0.36731804],\n",
       "       [0.13055792],\n",
       "       [0.25828377],\n",
       "       [0.16737468],\n",
       "       [0.24468989],\n",
       "       [0.48937978],\n",
       "       [0.44038516],\n",
       "       [0.4709714 ],\n",
       "       [0.57320872],\n",
       "       [0.37751345],\n",
       "       [0.39025772],\n",
       "       [0.58850184],\n",
       "       [0.34211272],\n",
       "       [0.35032569],\n",
       "       [0.3268196 ],\n",
       "       [0.1922968 ],\n",
       "       [0.23760974],\n",
       "       [0.20504106],\n",
       "       [0.44916454],\n",
       "       [0.47352025],\n",
       "       [0.25403568],\n",
       "       [0.42367601],\n",
       "       [0.50438969],\n",
       "       [0.05947324],\n",
       "       [0.11894647],\n",
       "       [0.42877372],\n",
       "       [0.26649674],\n",
       "       [0.3367318 ],\n",
       "       [0.25630133],\n",
       "       [0.27131124],\n",
       "       [0.32427074],\n",
       "       [0.36731804],\n",
       "       [0.42962334],\n",
       "       [0.62956669],\n",
       "       [0.13622203],\n",
       "       [0.23647692],\n",
       "       [0.09742283],\n",
       "       [0.24214104],\n",
       "       [0.2163693 ],\n",
       "       [0.31804022],\n",
       "       [0.23251204],\n",
       "       [0.28745398],\n",
       "       [0.37751345],\n",
       "       [0.57377513],\n",
       "       [0.51203625],\n",
       "       [0.42622487],\n",
       "       [0.57094308],\n",
       "       [0.70943076],\n",
       "       [0.04672897],\n",
       "       [0.32540357],\n",
       "       [0.4372699 ],\n",
       "       [0.2452563 ],\n",
       "       [0.41857831],\n",
       "       [0.19484565],\n",
       "       [0.32455395],\n",
       "       [0.42537525],\n",
       "       [0.45341263],\n",
       "       [0.50297366],\n",
       "       [0.62560181],\n",
       "       [0.2883036 ],\n",
       "       [0.39790428],\n",
       "       [0.37156613],\n",
       "       [0.3171906 ],\n",
       "       [0.43500425],\n",
       "       [0.33814783],\n",
       "       [0.21580289],\n",
       "       [0.19342962],\n",
       "       [0.28462192],\n",
       "       [0.2931181 ],\n",
       "       [0.41716228],\n",
       "       [0.95497026],\n",
       "       [0.2931181 ],\n",
       "       [0.32936845],\n",
       "       [0.43642028],\n",
       "       [0.23421127],\n",
       "       [0.3171906 ],\n",
       "       [0.15802889],\n",
       "       [0.32115548],\n",
       "       [0.27329368],\n",
       "       [0.51090343],\n",
       "       [0.71990937],\n",
       "       [0.43302181],\n",
       "       [0.38232795],\n",
       "       [0.60379496],\n",
       "       [0.12800906],\n",
       "       [0.36788445],\n",
       "       [0.16765789],\n",
       "       [0.23449448],\n",
       "       [0.17133956],\n",
       "       [0.13055792],\n",
       "       [0.44066837],\n",
       "       [0.45284622],\n",
       "       [0.50580572],\n",
       "       [0.45001416],\n",
       "       [0.40894931],\n",
       "       [0.46049278],\n",
       "       [0.26508071],\n",
       "       [0.1634098 ],\n",
       "       [0.22571509],\n",
       "       [0.15038233],\n",
       "       [0.29849901],\n",
       "       [0.10818465],\n",
       "       [0.21042198],\n",
       "       [0.16765789],\n",
       "       [0.28518833],\n",
       "       [0.51713396],\n",
       "       [0.49079581],\n",
       "       [0.18606627],\n",
       "       [0.74199943],\n",
       "       [0.38770886],\n",
       "       [0.41121495],\n",
       "       [0.1107335 ],\n",
       "       [0.14811668],\n",
       "       [0.34862645],\n",
       "       [0.31464174],\n",
       "       [0.48314925],\n",
       "       [0.62475219],\n",
       "       [0.55168508],\n",
       "       [0.21835174],\n",
       "       [0.35542339],\n",
       "       [0.36618522],\n",
       "       [0.24072501],\n",
       "       [0.0815633 ],\n",
       "       [0.15463042],\n",
       "       [0.31067686],\n",
       "       [0.13084112],\n",
       "       [0.20419145],\n",
       "       [0.23024639],\n",
       "       [0.30331351],\n",
       "       [0.58595299],\n",
       "       [0.19314642],\n",
       "       [0.29651657],\n",
       "       [0.2645143 ],\n",
       "       [0.38176154],\n",
       "       [0.3845936 ],\n",
       "       [0.38572642],\n",
       "       [0.24752195],\n",
       "       [0.12687624],\n",
       "       [0.18210139],\n",
       "       [0.02237327],\n",
       "       [0.15491362],\n",
       "       [0.52931181],\n",
       "       [0.46587369],\n",
       "       [0.46304163],\n",
       "       [0.41036534],\n",
       "       [0.21750212],\n",
       "       [0.20589068],\n",
       "       [0.31407533],\n",
       "       [0.17558765],\n",
       "       [0.16907392],\n",
       "       [0.44463325],\n",
       "       [0.25290286],\n",
       "       [0.29085245],\n",
       "       [0.66581705],\n",
       "       [0.40611725],\n",
       "       [0.62588502],\n",
       "       [0.3990371 ],\n",
       "       [0.23845936],\n",
       "       [0.03993203],\n",
       "       [0.19088077],\n",
       "       [0.17417162],\n",
       "       [0.35287454],\n",
       "       [0.38572642],\n",
       "       [0.52081563],\n",
       "       [0.30048145],\n",
       "       [0.51600113],\n",
       "       [0.55848202],\n",
       "       [0.72387426],\n",
       "       [0.07080147],\n",
       "       [0.1874823 ],\n",
       "       [0.29679977],\n",
       "       [0.03625035],\n",
       "       [0.12064571],\n",
       "       [0.4613424 ],\n",
       "       [0.24129142],\n",
       "       [0.33050127],\n",
       "       [0.40073634],\n",
       "       [0.42764089],\n",
       "       [0.21495327],\n",
       "       [0.62730105],\n",
       "       [0.19088077],\n",
       "       [0.33616539],\n",
       "       [0.15774568],\n",
       "       [0.36222033],\n",
       "       [0.16737468],\n",
       "       [0.15746248],\n",
       "       [0.00226565],\n",
       "       [0.24412348],\n",
       "       [0.37864628],\n",
       "       [0.38742566],\n",
       "       [0.40583404],\n",
       "       [0.31804022],\n",
       "       [0.34381195],\n",
       "       [0.41687907],\n",
       "       [0.40611725],\n",
       "       [0.09175871],\n",
       "       [0.25545171],\n",
       "       [0.20447465],\n",
       "       [0.26649674],\n",
       "       [0.3608043 ],\n",
       "       [0.55451713],\n",
       "       [0.6828094 ],\n",
       "       [0.38147833],\n",
       "       [0.63891249],\n",
       "       [0.2546021 ],\n",
       "       [0.7114132 ],\n",
       "       [0.0911923 ],\n",
       "       [0.07958086],\n",
       "       [0.21013877],\n",
       "       [0.19824412],\n",
       "       [0.30104786],\n",
       "       [0.68960634],\n",
       "       [0.18804871],\n",
       "       [0.5046729 ],\n",
       "       [0.49107901],\n",
       "       [0.37609742],\n",
       "       [0.15293118],\n",
       "       [0.51373549],\n",
       "       [0.30812801],\n",
       "       [0.38034551],\n",
       "       [0.12715944],\n",
       "       [0.17672048],\n",
       "       [0.50920419],\n",
       "       [0.39393939],\n",
       "       [0.39365619],\n",
       "       [0.60379496],\n",
       "       [0.57802322],\n",
       "       [0.36420278],\n",
       "       [0.31379213],\n",
       "       [0.35174172],\n",
       "       [0.03540074],\n",
       "       [0.05720759],\n",
       "       [0.46700651],\n",
       "       [0.42395922],\n",
       "       [0.27470971],\n",
       "       [0.72274143],\n",
       "       [0.51231946],\n",
       "       [0.53214387],\n",
       "       [0.82101388],\n",
       "       [0.43642028],\n",
       "       [0.28632116],\n",
       "       [0.48456528],\n",
       "       [0.12546021],\n",
       "       [0.42650807],\n",
       "       [0.23137921],\n",
       "       [0.29934863],\n",
       "       [0.27159445],\n",
       "       [0.6828094 ],\n",
       "       [0.58057208],\n",
       "       [0.33389975],\n",
       "       [0.33503257],\n",
       "       [0.3797791 ],\n",
       "       [0.32370433],\n",
       "       [0.49164543],\n",
       "       [0.07278391],\n",
       "       [0.23902577],\n",
       "       [0.32625319],\n",
       "       [0.05664118],\n",
       "       [0.36930048],\n",
       "       [0.31039366],\n",
       "       [0.42905692],\n",
       "       [0.57037666],\n",
       "       [0.83092608],\n",
       "       [0.56414613],\n",
       "       [0.24100821],\n",
       "       [0.55621637],\n",
       "       [0.24950439],\n",
       "       [0.24384027],\n",
       "       [0.10846786],\n",
       "       [0.10308694],\n",
       "       [0.11271594],\n",
       "       [0.48428207],\n",
       "       [0.72302464],\n",
       "       [0.21920136],\n",
       "       [0.47720193],\n",
       "       [0.82271311],\n",
       "       [0.36873407],\n",
       "       [0.19484565],\n",
       "       [0.18549986],\n",
       "       [0.07448315],\n",
       "       [0.20560748],\n",
       "       [0.11129992],\n",
       "       [0.2019258 ],\n",
       "       [0.44746531],\n",
       "       [0.68875673],\n",
       "       [0.44661569],\n",
       "       [0.49079581],\n",
       "       [0.3027471 ],\n",
       "       [0.14556783],\n",
       "       [0.46077598],\n",
       "       [0.27216086],\n",
       "       [0.36420278],\n",
       "       [0.21948457],\n",
       "       [0.29113566],\n",
       "       [0.72160861],\n",
       "       [0.6779949 ],\n",
       "       [0.21325404],\n",
       "       [0.19852733],\n",
       "       [0.44888134],\n",
       "       [0.60294534],\n",
       "       [0.        ],\n",
       "       [0.59190031],\n",
       "       [0.38374398],\n",
       "       [0.56669499],\n",
       "       [0.27470971],\n",
       "       [0.26168224],\n",
       "       [0.43953554],\n",
       "       [0.05664118],\n",
       "       [0.60436137],\n",
       "       [0.62305296],\n",
       "       [0.75672614],\n",
       "       [0.21523648],\n",
       "       [0.2642311 ],\n",
       "       [0.42650807],\n",
       "       [0.14330218],\n",
       "       [0.17926933],\n",
       "       [0.22288304],\n",
       "       [0.28094024],\n",
       "       [0.38402719],\n",
       "       [0.40441801],\n",
       "       [0.4998584 ],\n",
       "       [0.44095157],\n",
       "       [0.28547154],\n",
       "       [0.72670632],\n",
       "       [0.39365619],\n",
       "       [0.64259417],\n",
       "       [0.13877089],\n",
       "       [0.17983574],\n",
       "       [0.13622203],\n",
       "       [0.44123478],\n",
       "       [0.5046729 ],\n",
       "       [0.48031719],\n",
       "       [0.48881337],\n",
       "       [0.24157462],\n",
       "       [0.31152648],\n",
       "       [0.37354857],\n",
       "       [0.48711413],\n",
       "       [0.47153781],\n",
       "       [0.20475786],\n",
       "       [0.11271594],\n",
       "       [0.27584254],\n",
       "       [0.09260833],\n",
       "       [0.53242707],\n",
       "       [0.19937695],\n",
       "       [0.86094591],\n",
       "       [0.30472954],\n",
       "       [0.36930048],\n",
       "       [0.64684225],\n",
       "       [0.73803455],\n",
       "       [0.30019824],\n",
       "       [0.35004248],\n",
       "       [0.04502974],\n",
       "       [0.31520816],\n",
       "       [0.21495327],\n",
       "       [0.25828377],\n",
       "       [0.20589068],\n",
       "       [0.75700935],\n",
       "       [0.41886151],\n",
       "       [0.69413764],\n",
       "       [0.41263098],\n",
       "       [0.27074483],\n",
       "       [0.33899745],\n",
       "       [0.58878505],\n",
       "       [0.06428774],\n",
       "       [0.31464174],\n",
       "       [0.32257151],\n",
       "       [0.24129142],\n",
       "       [0.2594166 ],\n",
       "       [0.38855848],\n",
       "       [0.56301331],\n",
       "       [0.45567828],\n",
       "       [0.2885868 ],\n",
       "       [0.38176154],\n",
       "       [0.54743699],\n",
       "       [0.38685925],\n",
       "       [0.26593033],\n",
       "       [0.13112433],\n",
       "       [0.35825545],\n",
       "       [0.57490796],\n",
       "       [0.38431039],\n",
       "       [0.45426225],\n",
       "       [0.68649108],\n",
       "       [0.38600963],\n",
       "       [0.60945908],\n",
       "       [0.1682243 ],\n",
       "       [0.23987539],\n",
       "       [0.34466157],\n",
       "       [0.42509204],\n",
       "       [0.29623336],\n",
       "       [0.32823563],\n",
       "       [0.22684792],\n",
       "       [0.27159445],\n",
       "       [0.13792127],\n",
       "       [0.22090059],\n",
       "       [0.94165959],\n",
       "       [0.68111017],\n",
       "       [0.30671198],\n",
       "       [0.74341546],\n",
       "       [0.4519966 ],\n",
       "       [0.23591051],\n",
       "       [0.32455395],\n",
       "       [0.23336165],\n",
       "       [0.2500708 ],\n",
       "       [0.20702351],\n",
       "       [0.24157462],\n",
       "       [0.37269895],\n",
       "       [0.69385443],\n",
       "       [0.61144152],\n",
       "       [0.44973095],\n",
       "       [0.50184084],\n",
       "       [0.16595865],\n",
       "       [0.22429907],\n",
       "       [0.08382894],\n",
       "       [0.35514019],\n",
       "       [0.01614274],\n",
       "       [0.27669216],\n",
       "       [0.4905126 ],\n",
       "       [0.37298216],\n",
       "       [0.16964033],\n",
       "       [0.18408383],\n",
       "       [0.51543472],\n",
       "       [0.20249221],\n",
       "       [0.23817615],\n",
       "       [0.2452563 ],\n",
       "       [0.14500142],\n",
       "       [0.26564713],\n",
       "       [0.29396771],\n",
       "       [0.18946474],\n",
       "       [0.58085528],\n",
       "       [0.51175304],\n",
       "       [0.25035401],\n",
       "       [0.06513735],\n",
       "       [0.55451713],\n",
       "       [0.23789295],\n",
       "       [0.10676862],\n",
       "       [0.26876239],\n",
       "       [0.21240442],\n",
       "       [0.33786463],\n",
       "       [0.28802039],\n",
       "       [0.3364486 ],\n",
       "       [0.26026621],\n",
       "       [0.35627301],\n",
       "       [0.63523081],\n",
       "       [0.45482866],\n",
       "       [0.36222033],\n",
       "       [0.33135089],\n",
       "       [0.26054942],\n",
       "       [0.17417162],\n",
       "       [0.41404701],\n",
       "       [0.39705466],\n",
       "       [0.66241858],\n",
       "       [0.25771736],\n",
       "       [0.67346361],\n",
       "       [0.5001416 ],\n",
       "       [0.54856981],\n",
       "       [0.64485981],\n",
       "       [0.46474087],\n",
       "       [0.30529595],\n",
       "       [0.40498442],\n",
       "       [0.22175021],\n",
       "       [0.21070518],\n",
       "       [0.2500708 ],\n",
       "       [0.38232795],\n",
       "       [0.51146984],\n",
       "       [0.3078448 ],\n",
       "       [0.58991787],\n",
       "       [1.        ],\n",
       "       [0.36306995],\n",
       "       [0.61908808],\n",
       "       [0.33474936],\n",
       "       [0.31407533],\n",
       "       [0.21297083],\n",
       "       [0.23336165],\n",
       "       [0.14613424],\n",
       "       [0.53214387],\n",
       "       [0.41064854],\n",
       "       [0.85188332],\n",
       "       [0.63211555],\n",
       "       [0.48343246],\n",
       "       [0.21467007],\n",
       "       [0.24468989],\n",
       "       [0.26054942],\n",
       "       [0.2546021 ],\n",
       "       [0.13905409],\n",
       "       [0.30246389],\n",
       "       [0.25885018],\n",
       "       [0.48258284],\n",
       "       [0.18096856],\n",
       "       [0.38714245],\n",
       "       [0.48513169],\n",
       "       [0.26338148],\n",
       "       [0.38714245],\n",
       "       [0.72557349],\n",
       "       [0.26168224],\n",
       "       [0.30161427],\n",
       "       [0.32257151],\n",
       "       [0.41631266],\n",
       "       [0.20815633],\n",
       "       [0.31379213],\n",
       "       [0.09515718],\n",
       "       [0.56329652],\n",
       "       [0.63806287],\n",
       "       [0.3653356 ],\n",
       "       [0.3701501 ],\n",
       "       [0.23789295],\n",
       "       [0.24129142],\n",
       "       [0.17332201],\n",
       "       [0.54885302],\n",
       "       [0.17983574],\n",
       "       [0.27442651],\n",
       "       [0.13735486],\n",
       "       [0.2594166 ],\n",
       "       [0.29934863],\n",
       "       [0.53752478],\n",
       "       [0.40101954],\n",
       "       [0.51486831],\n",
       "       [0.18946474],\n",
       "       [0.3364486 ],\n",
       "       [0.3174738 ],\n",
       "       [0.21806854],\n",
       "       [0.30104786],\n",
       "       [0.28037383],\n",
       "       [0.27640895],\n",
       "       [0.5482866 ],\n",
       "       [0.53186066],\n",
       "       [0.30926083],\n",
       "       [0.65477202],\n",
       "       [0.79637496],\n",
       "       [0.28178986],\n",
       "       [0.20334183],\n",
       "       [0.33928066],\n",
       "       [0.38232795],\n",
       "       [0.26083263],\n",
       "       [0.1104503 ],\n",
       "       [0.3605211 ],\n",
       "       [0.33588219],\n",
       "       [0.3653356 ],\n",
       "       [0.52761257],\n",
       "       [0.4471821 ],\n",
       "       [0.25743415],\n",
       "       [0.26819598],\n",
       "       [0.36760125],\n",
       "       [0.28178986],\n",
       "       [0.36986689],\n",
       "       [0.09289153],\n",
       "       [0.15264798],\n",
       "       [0.18125177],\n",
       "       [0.49221184],\n",
       "       [0.48994619],\n",
       "       [0.53044463],\n",
       "       [0.72302464],\n",
       "       [0.56046446],\n",
       "       [0.31605777],\n",
       "       [0.30727839],\n",
       "       [0.14358539],\n",
       "       [0.33021807],\n",
       "       [0.32880204],\n",
       "       [0.5287454 ],\n",
       "       [0.23336165],\n",
       "       [0.3268196 ],\n",
       "       [0.24638912],\n",
       "       [0.35910507],\n",
       "       [0.56782781],\n",
       "       [0.62871708],\n",
       "       [0.37524781],\n",
       "       [0.63777967],\n",
       "       [0.17728689],\n",
       "       [0.06825262],\n",
       "       [0.3463608 ],\n",
       "       [0.16142736],\n",
       "       [0.6057774 ],\n",
       "       [0.49249504],\n",
       "       [0.6921552 ],\n",
       "       [0.49362787],\n",
       "       [0.35202492],\n",
       "       [0.39308978],\n",
       "       [0.16086095],\n",
       "       [0.33446616],\n",
       "       [0.29963183],\n",
       "       [0.35060889],\n",
       "       [0.17700368],\n",
       "       [0.67629567],\n",
       "       [0.70716511],\n",
       "       [0.23251204],\n",
       "       [0.3605211 ],\n",
       "       [0.89946191],\n",
       "       [0.36476919],\n",
       "       [0.22939677],\n",
       "       [0.18153498],\n",
       "       [0.21948457],\n",
       "       [0.12404418],\n",
       "       [0.12234494],\n",
       "       [0.11129992],\n",
       "       [0.35202492],\n",
       "       [0.26961201],\n",
       "       [0.72897196],\n",
       "       [0.34239592],\n",
       "       [0.66581705],\n",
       "       [0.18351742],\n",
       "       [0.23619371],\n",
       "       [0.53157746],\n",
       "       [0.21976777],\n",
       "       [0.23845936],\n",
       "       [0.4420844 ],\n",
       "       [0.25800057],\n",
       "       [0.18210139],\n",
       "       [0.36845086],\n",
       "       [0.54970263],\n",
       "       [0.7694704 ],\n",
       "       [0.45879354],\n",
       "       [0.81676579],\n",
       "       [0.51260266],\n",
       "       [0.46445766],\n",
       "       [0.18606627],\n",
       "       [0.2308128 ],\n",
       "       [0.2067403 ],\n",
       "       [0.49192863],\n",
       "       [0.30048145],\n",
       "       [0.27782498],\n",
       "       [0.54007363],\n",
       "       [0.32115548],\n",
       "       [0.48343246],\n",
       "       [0.51600113],\n",
       "       [0.5961484 ],\n",
       "       [0.25290286],\n",
       "       [0.15689606],\n",
       "       [0.34324554],\n",
       "       [0.4372699 ],\n",
       "       [0.16935712],\n",
       "       [0.25375248],\n",
       "       [0.27357689],\n",
       "       [0.25120363],\n",
       "       [0.30104786],\n",
       "       [0.32427074],\n",
       "       [0.5386576 ],\n",
       "       [0.82384594],\n",
       "       [0.70150099],\n",
       "       [0.34069669],\n",
       "       [0.13140753],\n",
       "       [0.35882186],\n",
       "       [0.20928915],\n",
       "       [0.23421127],\n",
       "       [0.31435854],\n",
       "       [0.02917021],\n",
       "       [0.43557066],\n",
       "       [0.36703483],\n",
       "       [0.78646276],\n",
       "       [0.71481167],\n",
       "       [0.40753328],\n",
       "       [0.41064854],\n",
       "       [0.32965166],\n",
       "       [0.4420844 ],\n",
       "       [0.12687624],\n",
       "       [0.41716228],\n",
       "       [0.30869442],\n",
       "       [0.42707448],\n",
       "       [0.22741433],\n",
       "       [0.93571226],\n",
       "       [0.77428491],\n",
       "       [0.51316907],\n",
       "       [0.68139337],\n",
       "       [0.38091192],\n",
       "       [0.25913339],\n",
       "       [0.13055792],\n",
       "       [0.34692722],\n",
       "       [0.27782498],\n",
       "       [0.35967148],\n",
       "       [0.54120646],\n",
       "       [0.10280374],\n",
       "       [0.43896913],\n",
       "       [0.25856698],\n",
       "       [0.24695554],\n",
       "       [0.38714245],\n",
       "       [0.62531861],\n",
       "       [0.0574908 ],\n",
       "       [0.16425942],\n",
       "       [0.26564713],\n",
       "       [0.50184084],\n",
       "       [0.51316907],\n",
       "       [0.40158595],\n",
       "       [0.48768054],\n",
       "       [0.5720759 ],\n",
       "       [0.49929199],\n",
       "       [0.74964599],\n",
       "       [0.42480884],\n",
       "       [0.23307845],\n",
       "       [0.22996318],\n",
       "       [0.16624186],\n",
       "       [0.15972812],\n",
       "       [0.14273577],\n",
       "       [0.48116681],\n",
       "       [0.38855848],\n",
       "       [0.35740583],\n",
       "       [0.41234778],\n",
       "       [0.52138204],\n",
       "       [0.3797791 ],\n",
       "       [0.29141886]])"
      ]
     },
     "execution_count": 12,
     "metadata": {},
     "output_type": "execute_result"
    }
   ],
   "source": [
    "# normalize dataset with MinMaxScaler\n",
    "scaler = MinMaxScaler(feature_range=(0, 1))\n",
    "df = scaler.fit_transform(df)\n",
    "df"
   ]
  },
  {
   "cell_type": "code",
   "execution_count": 13,
   "metadata": {},
   "outputs": [
    {
     "name": "stderr",
     "output_type": "stream",
     "text": [
      "/home/michael/anaconda3/lib/python3.6/site-packages/tensorflow/python/framework/dtypes.py:523: FutureWarning: Passing (type, 1) or '1type' as a synonym of type is deprecated; in a future version of numpy, it will be understood as (type, (1,)) / '(1,)type'.\n",
      "  _np_qint8 = np.dtype([(\"qint8\", np.int8, 1)])\n",
      "/home/michael/anaconda3/lib/python3.6/site-packages/tensorflow/python/framework/dtypes.py:524: FutureWarning: Passing (type, 1) or '1type' as a synonym of type is deprecated; in a future version of numpy, it will be understood as (type, (1,)) / '(1,)type'.\n",
      "  _np_quint8 = np.dtype([(\"quint8\", np.uint8, 1)])\n",
      "/home/michael/anaconda3/lib/python3.6/site-packages/tensorflow/python/framework/dtypes.py:525: FutureWarning: Passing (type, 1) or '1type' as a synonym of type is deprecated; in a future version of numpy, it will be understood as (type, (1,)) / '(1,)type'.\n",
      "  _np_qint16 = np.dtype([(\"qint16\", np.int16, 1)])\n",
      "/home/michael/anaconda3/lib/python3.6/site-packages/tensorflow/python/framework/dtypes.py:526: FutureWarning: Passing (type, 1) or '1type' as a synonym of type is deprecated; in a future version of numpy, it will be understood as (type, (1,)) / '(1,)type'.\n",
      "  _np_quint16 = np.dtype([(\"quint16\", np.uint16, 1)])\n",
      "/home/michael/anaconda3/lib/python3.6/site-packages/tensorflow/python/framework/dtypes.py:527: FutureWarning: Passing (type, 1) or '1type' as a synonym of type is deprecated; in a future version of numpy, it will be understood as (type, (1,)) / '(1,)type'.\n",
      "  _np_qint32 = np.dtype([(\"qint32\", np.int32, 1)])\n",
      "/home/michael/anaconda3/lib/python3.6/site-packages/tensorflow/python/framework/dtypes.py:532: FutureWarning: Passing (type, 1) or '1type' as a synonym of type is deprecated; in a future version of numpy, it will be understood as (type, (1,)) / '(1,)type'.\n",
      "  np_resource = np.dtype([(\"resource\", np.ubyte, 1)])\n",
      "/home/michael/anaconda3/lib/python3.6/site-packages/tensorboard/compat/tensorflow_stub/dtypes.py:541: FutureWarning: Passing (type, 1) or '1type' as a synonym of type is deprecated; in a future version of numpy, it will be understood as (type, (1,)) / '(1,)type'.\n",
      "  _np_qint8 = np.dtype([(\"qint8\", np.int8, 1)])\n",
      "/home/michael/anaconda3/lib/python3.6/site-packages/tensorboard/compat/tensorflow_stub/dtypes.py:542: FutureWarning: Passing (type, 1) or '1type' as a synonym of type is deprecated; in a future version of numpy, it will be understood as (type, (1,)) / '(1,)type'.\n",
      "  _np_quint8 = np.dtype([(\"quint8\", np.uint8, 1)])\n",
      "/home/michael/anaconda3/lib/python3.6/site-packages/tensorboard/compat/tensorflow_stub/dtypes.py:543: FutureWarning: Passing (type, 1) or '1type' as a synonym of type is deprecated; in a future version of numpy, it will be understood as (type, (1,)) / '(1,)type'.\n",
      "  _np_qint16 = np.dtype([(\"qint16\", np.int16, 1)])\n",
      "/home/michael/anaconda3/lib/python3.6/site-packages/tensorboard/compat/tensorflow_stub/dtypes.py:544: FutureWarning: Passing (type, 1) or '1type' as a synonym of type is deprecated; in a future version of numpy, it will be understood as (type, (1,)) / '(1,)type'.\n",
      "  _np_quint16 = np.dtype([(\"quint16\", np.uint16, 1)])\n",
      "/home/michael/anaconda3/lib/python3.6/site-packages/tensorboard/compat/tensorflow_stub/dtypes.py:545: FutureWarning: Passing (type, 1) or '1type' as a synonym of type is deprecated; in a future version of numpy, it will be understood as (type, (1,)) / '(1,)type'.\n",
      "  _np_qint32 = np.dtype([(\"qint32\", np.int32, 1)])\n",
      "/home/michael/anaconda3/lib/python3.6/site-packages/tensorboard/compat/tensorflow_stub/dtypes.py:550: FutureWarning: Passing (type, 1) or '1type' as a synonym of type is deprecated; in a future version of numpy, it will be understood as (type, (1,)) / '(1,)type'.\n",
      "  np_resource = np.dtype([(\"resource\", np.ubyte, 1)])\n"
     ]
    }
   ],
   "source": [
    "import tensorflow as tf\n",
    "from tensorflow.keras import layers\n",
    "from tensorflow.keras.layers import Dense\n",
    "from tensorflow.keras.layers import LSTM\n",
    "\n",
    "# Training and Validation data partition\n",
    "train_size = int(len(df) * 0.8)\n",
    "val_size = len(df) - train_size\n",
    "train, val = df[0:train_size,:], df[train_size:len(df),:]\n",
    "\n",
    "# Number of previous\n",
    "previous = 120\n",
    "X_train, Y_train = create_dataset(train, previous)\n",
    "X_val, Y_val = create_dataset(val, previous)"
   ]
  },
  {
   "cell_type": "code",
   "execution_count": 14,
   "metadata": {},
   "outputs": [
    {
     "data": {
      "text/plain": [
       "array([[0.53242707, 0.82242991, 0.34806004, ..., 0.21042198, 0.16765789,\n",
       "        0.28518833],\n",
       "       [0.82242991, 0.34806004, 0.28632116, ..., 0.16765789, 0.28518833,\n",
       "        0.51713396],\n",
       "       [0.34806004, 0.28632116, 0.13848768, ..., 0.28518833, 0.51713396,\n",
       "        0.49079581],\n",
       "       ...,\n",
       "       [0.25035401, 0.06513735, 0.55451713, ..., 0.49221184, 0.48994619,\n",
       "        0.53044463],\n",
       "       [0.06513735, 0.55451713, 0.23789295, ..., 0.48994619, 0.53044463,\n",
       "        0.72302464],\n",
       "       [0.55451713, 0.23789295, 0.10676862, ..., 0.53044463, 0.72302464,\n",
       "        0.56046446]])"
      ]
     },
     "execution_count": 14,
     "metadata": {},
     "output_type": "execute_result"
    }
   ],
   "source": [
    "X_train"
   ]
  },
  {
   "cell_type": "code",
   "execution_count": 15,
   "metadata": {},
   "outputs": [
    {
     "data": {
      "text/plain": [
       "array([0.51713396, 0.49079581, 0.18606627, 0.74199943, 0.38770886,\n",
       "       0.41121495, 0.1107335 , 0.14811668, 0.34862645, 0.31464174,\n",
       "       0.48314925, 0.62475219, 0.55168508, 0.21835174, 0.35542339,\n",
       "       0.36618522, 0.24072501, 0.0815633 , 0.15463042, 0.31067686,\n",
       "       0.13084112, 0.20419145, 0.23024639, 0.30331351, 0.58595299,\n",
       "       0.19314642, 0.29651657, 0.2645143 , 0.38176154, 0.3845936 ,\n",
       "       0.38572642, 0.24752195, 0.12687624, 0.18210139, 0.02237327,\n",
       "       0.15491362, 0.52931181, 0.46587369, 0.46304163, 0.41036534,\n",
       "       0.21750212, 0.20589068, 0.31407533, 0.17558765, 0.16907392,\n",
       "       0.44463325, 0.25290286, 0.29085245, 0.66581705, 0.40611725,\n",
       "       0.62588502, 0.3990371 , 0.23845936, 0.03993203, 0.19088077,\n",
       "       0.17417162, 0.35287454, 0.38572642, 0.52081563, 0.30048145,\n",
       "       0.51600113, 0.55848202, 0.72387426, 0.07080147, 0.1874823 ,\n",
       "       0.29679977, 0.03625035, 0.12064571, 0.4613424 , 0.24129142,\n",
       "       0.33050127, 0.40073634, 0.42764089, 0.21495327, 0.62730105,\n",
       "       0.19088077, 0.33616539, 0.15774568, 0.36222033, 0.16737468,\n",
       "       0.15746248, 0.00226565, 0.24412348, 0.37864628, 0.38742566,\n",
       "       0.40583404, 0.31804022, 0.34381195, 0.41687907, 0.40611725,\n",
       "       0.09175871, 0.25545171, 0.20447465, 0.26649674, 0.3608043 ,\n",
       "       0.55451713, 0.6828094 , 0.38147833, 0.63891249, 0.2546021 ,\n",
       "       0.7114132 , 0.0911923 , 0.07958086, 0.21013877, 0.19824412,\n",
       "       0.30104786, 0.68960634, 0.18804871, 0.5046729 , 0.49107901,\n",
       "       0.37609742, 0.15293118, 0.51373549, 0.30812801, 0.38034551,\n",
       "       0.12715944, 0.17672048, 0.50920419, 0.39393939, 0.39365619,\n",
       "       0.60379496, 0.57802322, 0.36420278, 0.31379213, 0.35174172,\n",
       "       0.03540074, 0.05720759, 0.46700651, 0.42395922, 0.27470971,\n",
       "       0.72274143, 0.51231946, 0.53214387, 0.82101388, 0.43642028,\n",
       "       0.28632116, 0.48456528, 0.12546021, 0.42650807, 0.23137921,\n",
       "       0.29934863, 0.27159445, 0.6828094 , 0.58057208, 0.33389975,\n",
       "       0.33503257, 0.3797791 , 0.32370433, 0.49164543, 0.07278391,\n",
       "       0.23902577, 0.32625319, 0.05664118, 0.36930048, 0.31039366,\n",
       "       0.42905692, 0.57037666, 0.83092608, 0.56414613, 0.24100821,\n",
       "       0.55621637, 0.24950439, 0.24384027, 0.10846786, 0.10308694,\n",
       "       0.11271594, 0.48428207, 0.72302464, 0.21920136, 0.47720193,\n",
       "       0.82271311, 0.36873407, 0.19484565, 0.18549986, 0.07448315,\n",
       "       0.20560748, 0.11129992, 0.2019258 , 0.44746531, 0.68875673,\n",
       "       0.44661569, 0.49079581, 0.3027471 , 0.14556783, 0.46077598,\n",
       "       0.27216086, 0.36420278, 0.21948457, 0.29113566, 0.72160861,\n",
       "       0.6779949 , 0.21325404, 0.19852733, 0.44888134, 0.60294534,\n",
       "       0.        , 0.59190031, 0.38374398, 0.56669499, 0.27470971,\n",
       "       0.26168224, 0.43953554, 0.05664118, 0.60436137, 0.62305296,\n",
       "       0.75672614, 0.21523648, 0.2642311 , 0.42650807, 0.14330218,\n",
       "       0.17926933, 0.22288304, 0.28094024, 0.38402719, 0.40441801,\n",
       "       0.4998584 , 0.44095157, 0.28547154, 0.72670632, 0.39365619,\n",
       "       0.64259417, 0.13877089, 0.17983574, 0.13622203, 0.44123478,\n",
       "       0.5046729 , 0.48031719, 0.48881337, 0.24157462, 0.31152648,\n",
       "       0.37354857, 0.48711413, 0.47153781, 0.20475786, 0.11271594,\n",
       "       0.27584254, 0.09260833, 0.53242707, 0.19937695, 0.86094591,\n",
       "       0.30472954, 0.36930048, 0.64684225, 0.73803455, 0.30019824,\n",
       "       0.35004248, 0.04502974, 0.31520816, 0.21495327, 0.25828377,\n",
       "       0.20589068, 0.75700935, 0.41886151, 0.69413764, 0.41263098,\n",
       "       0.27074483, 0.33899745, 0.58878505, 0.06428774, 0.31464174,\n",
       "       0.32257151, 0.24129142, 0.2594166 , 0.38855848, 0.56301331,\n",
       "       0.45567828, 0.2885868 , 0.38176154, 0.54743699, 0.38685925,\n",
       "       0.26593033, 0.13112433, 0.35825545, 0.57490796, 0.38431039,\n",
       "       0.45426225, 0.68649108, 0.38600963, 0.60945908, 0.1682243 ,\n",
       "       0.23987539, 0.34466157, 0.42509204, 0.29623336, 0.32823563,\n",
       "       0.22684792, 0.27159445, 0.13792127, 0.22090059, 0.94165959,\n",
       "       0.68111017, 0.30671198, 0.74341546, 0.4519966 , 0.23591051,\n",
       "       0.32455395, 0.23336165, 0.2500708 , 0.20702351, 0.24157462,\n",
       "       0.37269895, 0.69385443, 0.61144152, 0.44973095, 0.50184084,\n",
       "       0.16595865, 0.22429907, 0.08382894, 0.35514019, 0.01614274,\n",
       "       0.27669216, 0.4905126 , 0.37298216, 0.16964033, 0.18408383,\n",
       "       0.51543472, 0.20249221, 0.23817615, 0.2452563 , 0.14500142,\n",
       "       0.26564713, 0.29396771, 0.18946474, 0.58085528, 0.51175304,\n",
       "       0.25035401, 0.06513735, 0.55451713, 0.23789295, 0.10676862,\n",
       "       0.26876239, 0.21240442, 0.33786463, 0.28802039, 0.3364486 ,\n",
       "       0.26026621, 0.35627301, 0.63523081, 0.45482866, 0.36222033,\n",
       "       0.33135089, 0.26054942, 0.17417162, 0.41404701, 0.39705466,\n",
       "       0.66241858, 0.25771736, 0.67346361, 0.5001416 , 0.54856981,\n",
       "       0.64485981, 0.46474087, 0.30529595, 0.40498442, 0.22175021,\n",
       "       0.21070518, 0.2500708 , 0.38232795, 0.51146984, 0.3078448 ,\n",
       "       0.58991787, 1.        , 0.36306995, 0.61908808, 0.33474936,\n",
       "       0.31407533, 0.21297083, 0.23336165, 0.14613424, 0.53214387,\n",
       "       0.41064854, 0.85188332, 0.63211555, 0.48343246, 0.21467007,\n",
       "       0.24468989, 0.26054942, 0.2546021 , 0.13905409, 0.30246389,\n",
       "       0.25885018, 0.48258284, 0.18096856, 0.38714245, 0.48513169,\n",
       "       0.26338148, 0.38714245, 0.72557349, 0.26168224, 0.30161427,\n",
       "       0.32257151, 0.41631266, 0.20815633, 0.31379213, 0.09515718,\n",
       "       0.56329652, 0.63806287, 0.3653356 , 0.3701501 , 0.23789295,\n",
       "       0.24129142, 0.17332201, 0.54885302, 0.17983574, 0.27442651,\n",
       "       0.13735486, 0.2594166 , 0.29934863, 0.53752478, 0.40101954,\n",
       "       0.51486831, 0.18946474, 0.3364486 , 0.3174738 , 0.21806854,\n",
       "       0.30104786, 0.28037383, 0.27640895, 0.5482866 , 0.53186066,\n",
       "       0.30926083, 0.65477202, 0.79637496, 0.28178986, 0.20334183,\n",
       "       0.33928066, 0.38232795, 0.26083263, 0.1104503 , 0.3605211 ,\n",
       "       0.33588219, 0.3653356 , 0.52761257, 0.4471821 , 0.25743415,\n",
       "       0.26819598, 0.36760125, 0.28178986, 0.36986689, 0.09289153,\n",
       "       0.15264798, 0.18125177, 0.49221184, 0.48994619, 0.53044463,\n",
       "       0.72302464, 0.56046446, 0.31605777])"
      ]
     },
     "execution_count": 15,
     "metadata": {},
     "output_type": "execute_result"
    }
   ],
   "source": [
    "Y_train"
   ]
  },
  {
   "cell_type": "code",
   "execution_count": 16,
   "metadata": {},
   "outputs": [
    {
     "name": "stdout",
     "output_type": "stream",
     "text": [
      "Train on 358 samples, validate on 90 samples\n",
      "Epoch 1/100\n",
      "358/358 - 0s - loss: 0.2558 - val_loss: 0.2295\n",
      "Epoch 2/100\n",
      "358/358 - 0s - loss: 0.2270 - val_loss: 0.2006\n",
      "Epoch 3/100\n",
      "358/358 - 0s - loss: 0.1998 - val_loss: 0.1735\n",
      "Epoch 4/100\n",
      "358/358 - 0s - loss: 0.1743 - val_loss: 0.1484\n",
      "Epoch 5/100\n",
      "358/358 - 0s - loss: 0.1507 - val_loss: 0.1253\n",
      "Epoch 6/100\n",
      "358/358 - 0s - loss: 0.1289 - val_loss: 0.1045\n",
      "Epoch 7/100\n",
      "358/358 - 0s - loss: 0.1093 - val_loss: 0.0860\n",
      "Epoch 8/100\n",
      "358/358 - 0s - loss: 0.0919 - val_loss: 0.0700\n",
      "Epoch 9/100\n",
      "358/358 - 0s - loss: 0.0768 - val_loss: 0.0566\n",
      "Epoch 10/100\n",
      "358/358 - 0s - loss: 0.0641 - val_loss: 0.0456\n",
      "Epoch 11/100\n",
      "358/358 - 0s - loss: 0.0537 - val_loss: 0.0371\n",
      "Epoch 12/100\n",
      "358/358 - 0s - loss: 0.0456 - val_loss: 0.0309\n",
      "Epoch 13/100\n",
      "358/358 - 0s - loss: 0.0397 - val_loss: 0.0269\n",
      "Epoch 14/100\n",
      "358/358 - 0s - loss: 0.0359 - val_loss: 0.0248\n",
      "Epoch 15/100\n",
      "358/358 - 0s - loss: 0.0339 - val_loss: 0.0244\n",
      "Epoch 16/100\n",
      "358/358 - 0s - loss: 0.0335 - val_loss: 0.0252\n",
      "Epoch 17/100\n",
      "358/358 - 0s - loss: 0.0342 - val_loss: 0.0268\n",
      "Epoch 18/100\n",
      "358/358 - 0s - loss: 0.0356 - val_loss: 0.0287\n",
      "Epoch 19/100\n",
      "358/358 - 0s - loss: 0.0374 - val_loss: 0.0307\n",
      "Epoch 20/100\n",
      "358/358 - 0s - loss: 0.0391 - val_loss: 0.0323\n",
      "Epoch 21/100\n",
      "358/358 - 0s - loss: 0.0405 - val_loss: 0.0334\n",
      "Epoch 22/100\n",
      "358/358 - 0s - loss: 0.0415 - val_loss: 0.0339\n",
      "Epoch 23/100\n",
      "358/358 - 0s - loss: 0.0419 - val_loss: 0.0339\n",
      "Epoch 24/100\n",
      "358/358 - 0s - loss: 0.0418 - val_loss: 0.0334\n",
      "Epoch 25/100\n",
      "358/358 - 0s - loss: 0.0412 - val_loss: 0.0326\n",
      "Epoch 26/100\n",
      "358/358 - 0s - loss: 0.0403 - val_loss: 0.0315\n",
      "Epoch 27/100\n",
      "358/358 - 0s - loss: 0.0391 - val_loss: 0.0303\n",
      "Epoch 28/100\n",
      "358/358 - 0s - loss: 0.0378 - val_loss: 0.0290\n",
      "Epoch 29/100\n",
      "358/358 - 0s - loss: 0.0365 - val_loss: 0.0279\n",
      "Epoch 30/100\n",
      "358/358 - 0s - loss: 0.0352 - val_loss: 0.0268\n",
      "Epoch 31/100\n",
      "358/358 - 0s - loss: 0.0341 - val_loss: 0.0259\n",
      "Epoch 32/100\n",
      "358/358 - 0s - loss: 0.0331 - val_loss: 0.0253\n",
      "Epoch 33/100\n",
      "358/358 - 0s - loss: 0.0323 - val_loss: 0.0248\n",
      "Epoch 34/100\n",
      "358/358 - 0s - loss: 0.0317 - val_loss: 0.0245\n",
      "Epoch 35/100\n",
      "358/358 - 0s - loss: 0.0313 - val_loss: 0.0243\n",
      "Epoch 36/100\n",
      "358/358 - 0s - loss: 0.0310 - val_loss: 0.0243\n",
      "Epoch 37/100\n",
      "358/358 - 0s - loss: 0.0309 - val_loss: 0.0244\n",
      "Epoch 38/100\n",
      "358/358 - 0s - loss: 0.0309 - val_loss: 0.0246\n",
      "Epoch 39/100\n",
      "358/358 - 0s - loss: 0.0309 - val_loss: 0.0247\n",
      "Epoch 40/100\n",
      "358/358 - 0s - loss: 0.0310 - val_loss: 0.0249\n",
      "Epoch 41/100\n",
      "358/358 - 0s - loss: 0.0311 - val_loss: 0.0251\n",
      "Epoch 42/100\n",
      "358/358 - 0s - loss: 0.0312 - val_loss: 0.0252\n",
      "Epoch 43/100\n",
      "358/358 - 0s - loss: 0.0312 - val_loss: 0.0253\n",
      "Epoch 44/100\n",
      "358/358 - 0s - loss: 0.0313 - val_loss: 0.0254\n",
      "Epoch 45/100\n",
      "358/358 - 0s - loss: 0.0312 - val_loss: 0.0254\n",
      "Epoch 46/100\n",
      "358/358 - 0s - loss: 0.0312 - val_loss: 0.0253\n",
      "Epoch 47/100\n",
      "358/358 - 0s - loss: 0.0311 - val_loss: 0.0252\n",
      "Epoch 48/100\n",
      "358/358 - 0s - loss: 0.0310 - val_loss: 0.0251\n",
      "Epoch 49/100\n",
      "358/358 - 0s - loss: 0.0309 - val_loss: 0.0249\n",
      "Epoch 50/100\n",
      "358/358 - 0s - loss: 0.0307 - val_loss: 0.0248\n",
      "Epoch 51/100\n",
      "358/358 - 0s - loss: 0.0305 - val_loss: 0.0246\n",
      "Epoch 52/100\n",
      "358/358 - 0s - loss: 0.0303 - val_loss: 0.0244\n",
      "Epoch 53/100\n",
      "358/358 - 0s - loss: 0.0302 - val_loss: 0.0243\n",
      "Epoch 54/100\n",
      "358/358 - 0s - loss: 0.0300 - val_loss: 0.0241\n",
      "Epoch 55/100\n",
      "358/358 - 0s - loss: 0.0299 - val_loss: 0.0240\n",
      "Epoch 56/100\n",
      "358/358 - 0s - loss: 0.0297 - val_loss: 0.0239\n",
      "Epoch 57/100\n",
      "358/358 - 0s - loss: 0.0296 - val_loss: 0.0238\n",
      "Epoch 58/100\n",
      "358/358 - 0s - loss: 0.0296 - val_loss: 0.0237\n",
      "Epoch 59/100\n",
      "358/358 - 0s - loss: 0.0295 - val_loss: 0.0237\n",
      "Epoch 60/100\n",
      "358/358 - 0s - loss: 0.0294 - val_loss: 0.0236\n",
      "Epoch 61/100\n",
      "358/358 - 0s - loss: 0.0294 - val_loss: 0.0236\n",
      "Epoch 62/100\n",
      "358/358 - 0s - loss: 0.0293 - val_loss: 0.0236\n",
      "Epoch 63/100\n",
      "358/358 - 0s - loss: 0.0293 - val_loss: 0.0236\n",
      "Epoch 64/100\n",
      "358/358 - 0s - loss: 0.0293 - val_loss: 0.0235\n",
      "Epoch 65/100\n",
      "358/358 - 0s - loss: 0.0292 - val_loss: 0.0235\n",
      "Epoch 66/100\n",
      "358/358 - 0s - loss: 0.0292 - val_loss: 0.0235\n",
      "Epoch 67/100\n",
      "358/358 - 0s - loss: 0.0291 - val_loss: 0.0235\n",
      "Epoch 68/100\n",
      "358/358 - 0s - loss: 0.0291 - val_loss: 0.0234\n",
      "Epoch 69/100\n",
      "358/358 - 0s - loss: 0.0290 - val_loss: 0.0234\n",
      "Epoch 70/100\n",
      "358/358 - 0s - loss: 0.0290 - val_loss: 0.0234\n",
      "Epoch 71/100\n",
      "358/358 - 0s - loss: 0.0289 - val_loss: 0.0233\n",
      "Epoch 72/100\n",
      "358/358 - 0s - loss: 0.0288 - val_loss: 0.0233\n",
      "Epoch 73/100\n",
      "358/358 - 0s - loss: 0.0288 - val_loss: 0.0233\n",
      "Epoch 74/100\n",
      "358/358 - 0s - loss: 0.0287 - val_loss: 0.0232\n",
      "Epoch 75/100\n",
      "358/358 - 0s - loss: 0.0286 - val_loss: 0.0232\n",
      "Epoch 76/100\n",
      "358/358 - 0s - loss: 0.0286 - val_loss: 0.0232\n",
      "Epoch 77/100\n",
      "358/358 - 0s - loss: 0.0285 - val_loss: 0.0232\n",
      "Epoch 78/100\n",
      "358/358 - 0s - loss: 0.0285 - val_loss: 0.0231\n",
      "Epoch 79/100\n",
      "358/358 - 0s - loss: 0.0284 - val_loss: 0.0231\n",
      "Epoch 80/100\n",
      "358/358 - 0s - loss: 0.0284 - val_loss: 0.0231\n",
      "Epoch 81/100\n",
      "358/358 - 0s - loss: 0.0283 - val_loss: 0.0231\n",
      "Epoch 82/100\n",
      "358/358 - 0s - loss: 0.0283 - val_loss: 0.0231\n",
      "Epoch 83/100\n",
      "358/358 - 0s - loss: 0.0282 - val_loss: 0.0230\n",
      "Epoch 84/100\n",
      "358/358 - 0s - loss: 0.0282 - val_loss: 0.0230\n",
      "Epoch 85/100\n",
      "358/358 - 0s - loss: 0.0281 - val_loss: 0.0230\n",
      "Epoch 86/100\n",
      "358/358 - 0s - loss: 0.0281 - val_loss: 0.0230\n",
      "Epoch 87/100\n",
      "358/358 - 0s - loss: 0.0280 - val_loss: 0.0230\n",
      "Epoch 88/100\n",
      "358/358 - 0s - loss: 0.0280 - val_loss: 0.0229\n",
      "Epoch 89/100\n",
      "358/358 - 0s - loss: 0.0279 - val_loss: 0.0229\n",
      "Epoch 90/100\n",
      "358/358 - 0s - loss: 0.0279 - val_loss: 0.0229\n",
      "Epoch 91/100\n",
      "358/358 - 0s - loss: 0.0278 - val_loss: 0.0229\n",
      "Epoch 92/100\n",
      "358/358 - 0s - loss: 0.0278 - val_loss: 0.0228\n",
      "Epoch 93/100\n",
      "358/358 - 0s - loss: 0.0278 - val_loss: 0.0228\n",
      "Epoch 94/100\n",
      "358/358 - 0s - loss: 0.0277 - val_loss: 0.0228\n",
      "Epoch 95/100\n",
      "358/358 - 0s - loss: 0.0277 - val_loss: 0.0227\n",
      "Epoch 96/100\n",
      "358/358 - 0s - loss: 0.0276 - val_loss: 0.0227\n",
      "Epoch 97/100\n",
      "358/358 - 0s - loss: 0.0276 - val_loss: 0.0227\n",
      "Epoch 98/100\n",
      "358/358 - 0s - loss: 0.0275 - val_loss: 0.0227\n",
      "Epoch 99/100\n",
      "358/358 - 0s - loss: 0.0275 - val_loss: 0.0227\n",
      "Epoch 100/100\n",
      "358/358 - 0s - loss: 0.0275 - val_loss: 0.0226\n",
      "dict_keys(['loss', 'val_loss'])\n"
     ]
    },
    {
     "data": {
      "image/png": "[encoded data removed]",
      "text/plain": [
       "<Figure size 432x288 with 1 Axes>"
      ]
     },
     "metadata": {
      "needs_background": "light"
     },
     "output_type": "display_data"
    }
   ],
   "source": [
    "# reshape input to be [samples, time steps, features]\n",
    "X_train = np.reshape(X_train, (X_train.shape[0], 1, X_train.shape[1]))\n",
    "X_val = np.reshape(X_val, (X_val.shape[0], 1, X_val.shape[1]))\n",
    "\n",
    "# Generate LSTM network\n",
    "model = tf.keras.Sequential()\n",
    "model.add(LSTM(4, input_shape=(1, previous)))\n",
    "model.add(Dense(1))\n",
    "model.compile(loss='mean_squared_error', optimizer='adam')\n",
    "history=model.fit(X_train, Y_train, validation_split=0.2, epochs=100, batch_size=712, verbose=2)\n",
    "\n",
    "\n",
    "# list all data in history\n",
    "print(history.history.keys())\n",
    "# summarize history for accuracy\n",
    "plt.plot(history.history['loss'])\n",
    "plt.plot(history.history['val_loss'])\n",
    "plt.title('model loss')\n",
    "plt.ylabel('loss')\n",
    "plt.xlabel('epoch')\n",
    "plt.legend(['train', 'val'], loc='upper left')\n",
    "plt.show()"
   ]
  },
  {
   "cell_type": "code",
   "execution_count": 17,
   "metadata": {},
   "outputs": [],
   "source": [
    "# Generate predictions\n",
    "trainpred = model.predict(X_train)\n",
    "valpred = model.predict(X_val)"
   ]
  },
  {
   "cell_type": "code",
   "execution_count": 18,
   "metadata": {},
   "outputs": [
    {
     "data": {
      "text/plain": [
       "array([[0.47314975],\n",
       "       [0.374812  ],\n",
       "       [0.36382657],\n",
       "       [0.29230505],\n",
       "       [0.30696693],\n",
       "       [0.29749286],\n",
       "       [0.26677442],\n",
       "       [0.30346823],\n",
       "       [0.32475498],\n",
       "       [0.3599357 ],\n",
       "       [0.34689024],\n",
       "       [0.41681945],\n",
       "       [0.4194937 ],\n",
       "       [0.4001447 ],\n",
       "       [0.39420414],\n",
       "       [0.30803192],\n",
       "       [0.3042511 ],\n",
       "       [0.2588998 ],\n",
       "       [0.2394778 ],\n",
       "       [0.3228128 ],\n",
       "       [0.34415114],\n",
       "       [0.44775382],\n",
       "       [0.40695634],\n",
       "       [0.40737665],\n",
       "       [0.41933316],\n",
       "       [0.3775776 ],\n",
       "       [0.33578122],\n",
       "       [0.33085617],\n",
       "       [0.30360585],\n",
       "       [0.26743317],\n",
       "       [0.21231093],\n",
       "       [0.27430516],\n",
       "       [0.3463166 ],\n",
       "       [0.35376072],\n",
       "       [0.40777636],\n",
       "       [0.42306438],\n",
       "       [0.41143957],\n",
       "       [0.37518275],\n",
       "       [0.31909567],\n",
       "       [0.3622402 ],\n",
       "       [0.3208539 ],\n",
       "       [0.19208787],\n",
       "       [0.30416995],\n",
       "       [0.17460565],\n",
       "       [0.29376554],\n",
       "       [0.34207696],\n",
       "       [0.4154507 ],\n",
       "       [0.39801976],\n",
       "       [0.35341936],\n",
       "       [0.4359969 ],\n",
       "       [0.3417292 ],\n",
       "       [0.24111445],\n",
       "       [0.29974288],\n",
       "       [0.293662  ],\n",
       "       [0.28217256],\n",
       "       [0.14409517],\n",
       "       [0.3514172 ],\n",
       "       [0.384386  ],\n",
       "       [0.37540084],\n",
       "       [0.423657  ],\n",
       "       [0.4256904 ],\n",
       "       [0.41642216],\n",
       "       [0.325582  ],\n",
       "       [0.33739376],\n",
       "       [0.27621716],\n",
       "       [0.28821737],\n",
       "       [0.2983167 ],\n",
       "       [0.23477654],\n",
       "       [0.23727082],\n",
       "       [0.3345132 ],\n",
       "       [0.36093077],\n",
       "       [0.37962997],\n",
       "       [0.42493364],\n",
       "       [0.4128207 ],\n",
       "       [0.36113137],\n",
       "       [0.4198315 ],\n",
       "       [0.2917447 ],\n",
       "       [0.22537939],\n",
       "       [0.15592505],\n",
       "       [0.25065985],\n",
       "       [0.31272084],\n",
       "       [0.23471959],\n",
       "       [0.3698056 ],\n",
       "       [0.48731762],\n",
       "       [0.40557712],\n",
       "       [0.39194843],\n",
       "       [0.37663102],\n",
       "       [0.35306662],\n",
       "       [0.24077937],\n",
       "       [0.22521992],\n",
       "       [0.2025313 ],\n",
       "       [0.1923521 ],\n",
       "       [0.27378136],\n",
       "       [0.3081078 ],\n",
       "       [0.39409578],\n",
       "       [0.44369107],\n",
       "       [0.45188564],\n",
       "       [0.35484248],\n",
       "       [0.336394  ],\n",
       "       [0.34495044],\n",
       "       [0.3163597 ],\n",
       "       [0.32592607],\n",
       "       [0.21343236],\n",
       "       [0.33044332],\n",
       "       [0.2732988 ],\n",
       "       [0.2834643 ],\n",
       "       [0.34116465],\n",
       "       [0.3850569 ],\n",
       "       [0.44508517],\n",
       "       [0.4687341 ],\n",
       "       [0.39622855],\n",
       "       [0.40953287],\n",
       "       [0.2523841 ],\n",
       "       [0.3054975 ],\n",
       "       [0.19843747],\n",
       "       [0.24575713],\n",
       "       [0.29302773],\n",
       "       [0.3489129 ],\n",
       "       [0.3403545 ],\n",
       "       [0.38734812],\n",
       "       [0.4032644 ],\n",
       "       [0.4254027 ],\n",
       "       [0.41548517],\n",
       "       [0.36885917],\n",
       "       [0.29811522],\n",
       "       [0.28775185],\n",
       "       [0.21642435],\n",
       "       [0.2939576 ],\n",
       "       [0.25347123],\n",
       "       [0.39439094],\n",
       "       [0.44125155],\n",
       "       [0.36509526],\n",
       "       [0.4059052 ],\n",
       "       [0.38202718],\n",
       "       [0.37742442],\n",
       "       [0.36081398],\n",
       "       [0.32324493],\n",
       "       [0.35201544],\n",
       "       [0.31019083],\n",
       "       [0.28509432],\n",
       "       [0.2812624 ],\n",
       "       [0.35800707],\n",
       "       [0.48273432],\n",
       "       [0.45155522],\n",
       "       [0.46171698],\n",
       "       [0.41217166],\n",
       "       [0.44313586],\n",
       "       [0.40399554],\n",
       "       [0.37989265],\n",
       "       [0.34392005],\n",
       "       [0.23971394],\n",
       "       [0.3959958 ],\n",
       "       [0.21465982],\n",
       "       [0.33592027],\n",
       "       [0.44972986],\n",
       "       [0.43743193],\n",
       "       [0.4683842 ],\n",
       "       [0.44687468],\n",
       "       [0.4075439 ],\n",
       "       [0.39085847],\n",
       "       [0.30589426],\n",
       "       [0.2636802 ],\n",
       "       [0.28005654],\n",
       "       [0.31064445],\n",
       "       [0.25856975],\n",
       "       [0.3194095 ],\n",
       "       [0.44219846],\n",
       "       [0.46254754],\n",
       "       [0.49058247],\n",
       "       [0.47633943],\n",
       "       [0.40806013],\n",
       "       [0.3405    ],\n",
       "       [0.35489222],\n",
       "       [0.26685023],\n",
       "       [0.19133517],\n",
       "       [0.3233133 ],\n",
       "       [0.29630125],\n",
       "       [0.42362392],\n",
       "       [0.37244916],\n",
       "       [0.40707043],\n",
       "       [0.5242328 ],\n",
       "       [0.40256038],\n",
       "       [0.3962537 ],\n",
       "       [0.37423745],\n",
       "       [0.35971934],\n",
       "       [0.3643453 ],\n",
       "       [0.25627106],\n",
       "       [0.28836203],\n",
       "       [0.3463483 ],\n",
       "       [0.3676712 ],\n",
       "       [0.3981309 ],\n",
       "       [0.42124134],\n",
       "       [0.40572768],\n",
       "       [0.3938871 ],\n",
       "       [0.46908918],\n",
       "       [0.33632854],\n",
       "       [0.29550964],\n",
       "       [0.3322093 ],\n",
       "       [0.2554176 ],\n",
       "       [0.34104222],\n",
       "       [0.27995324],\n",
       "       [0.3819757 ],\n",
       "       [0.4228211 ],\n",
       "       [0.37860775],\n",
       "       [0.5144676 ],\n",
       "       [0.43368828],\n",
       "       [0.39606202],\n",
       "       [0.37342036],\n",
       "       [0.30788434],\n",
       "       [0.3160435 ],\n",
       "       [0.23395458],\n",
       "       [0.2949188 ],\n",
       "       [0.3848899 ],\n",
       "       [0.37807596],\n",
       "       [0.5084976 ],\n",
       "       [0.4359251 ],\n",
       "       [0.4378375 ],\n",
       "       [0.4130805 ],\n",
       "       [0.39553636],\n",
       "       [0.3417347 ],\n",
       "       [0.3485887 ],\n",
       "       [0.2859127 ],\n",
       "       [0.2306111 ],\n",
       "       [0.25004074],\n",
       "       [0.3430094 ],\n",
       "       [0.37252367],\n",
       "       [0.409559  ],\n",
       "       [0.46232873],\n",
       "       [0.51157135],\n",
       "       [0.40810847],\n",
       "       [0.39730266],\n",
       "       [0.3911006 ],\n",
       "       [0.2925538 ],\n",
       "       [0.25746903],\n",
       "       [0.2303225 ],\n",
       "       [0.3509822 ],\n",
       "       [0.33093134],\n",
       "       [0.31043035],\n",
       "       [0.4297936 ],\n",
       "       [0.4994552 ],\n",
       "       [0.39699793],\n",
       "       [0.47087958],\n",
       "       [0.53461534],\n",
       "       [0.34311542],\n",
       "       [0.270068  ],\n",
       "       [0.27979025],\n",
       "       [0.20635603],\n",
       "       [0.28566253],\n",
       "       [0.33008808],\n",
       "       [0.39711422],\n",
       "       [0.4813161 ],\n",
       "       [0.45321745],\n",
       "       [0.43927246],\n",
       "       [0.43815976],\n",
       "       [0.45483002],\n",
       "       [0.3449056 ],\n",
       "       [0.3431229 ],\n",
       "       [0.32818475],\n",
       "       [0.2969242 ],\n",
       "       [0.18790577],\n",
       "       [0.2727573 ],\n",
       "       [0.44586048],\n",
       "       [0.4003473 ],\n",
       "       [0.4008125 ],\n",
       "       [0.46208397],\n",
       "       [0.44651717],\n",
       "       [0.40082508],\n",
       "       [0.3516131 ],\n",
       "       [0.43968958],\n",
       "       [0.38431   ],\n",
       "       [0.1981512 ],\n",
       "       [0.28250295],\n",
       "       [0.31865698],\n",
       "       [0.3431639 ],\n",
       "       [0.33769915],\n",
       "       [0.41907144],\n",
       "       [0.46463698],\n",
       "       [0.42751378],\n",
       "       [0.49264562],\n",
       "       [0.27511537],\n",
       "       [0.36387014],\n",
       "       [0.3127783 ],\n",
       "       [0.31839386],\n",
       "       [0.18822296],\n",
       "       [0.41093498],\n",
       "       [0.43610412],\n",
       "       [0.3935144 ],\n",
       "       [0.43263566],\n",
       "       [0.5116321 ],\n",
       "       [0.4458747 ],\n",
       "       [0.46844542],\n",
       "       [0.3263054 ],\n",
       "       [0.32822442],\n",
       "       [0.26744926],\n",
       "       [0.3452983 ],\n",
       "       [0.3014791 ],\n",
       "       [0.36640447],\n",
       "       [0.4123618 ],\n",
       "       [0.39792937],\n",
       "       [0.45944256],\n",
       "       [0.43054327],\n",
       "       [0.38058674],\n",
       "       [0.42002922],\n",
       "       [0.3611942 ],\n",
       "       [0.3961112 ],\n",
       "       [0.31857625],\n",
       "       [0.29419276],\n",
       "       [0.26906103],\n",
       "       [0.31279248],\n",
       "       [0.35097122],\n",
       "       [0.40677908],\n",
       "       [0.49139786],\n",
       "       [0.44097972],\n",
       "       [0.41698623],\n",
       "       [0.4034329 ],\n",
       "       [0.37980723],\n",
       "       [0.36618876],\n",
       "       [0.27281567],\n",
       "       [0.26205137],\n",
       "       [0.41109356],\n",
       "       [0.2518527 ],\n",
       "       [0.2785648 ],\n",
       "       [0.32618243],\n",
       "       [0.52863306],\n",
       "       [0.448385  ],\n",
       "       [0.3864755 ],\n",
       "       [0.41476795],\n",
       "       [0.35445172],\n",
       "       [0.33615452],\n",
       "       [0.17374887],\n",
       "       [0.2205518 ],\n",
       "       [0.3324887 ],\n",
       "       [0.338677  ],\n",
       "       [0.2750165 ],\n",
       "       [0.307705  ],\n",
       "       [0.3952656 ],\n",
       "       [0.43628326],\n",
       "       [0.3777452 ],\n",
       "       [0.43605375],\n",
       "       [0.3884832 ],\n",
       "       [0.33273396],\n",
       "       [0.2720294 ],\n",
       "       [0.30391586],\n",
       "       [0.2411154 ],\n",
       "       [0.28788954],\n",
       "       [0.37076104],\n",
       "       [0.2905013 ],\n",
       "       [0.4017357 ],\n",
       "       [0.46725965],\n",
       "       [0.43447852],\n",
       "       [0.4300092 ],\n",
       "       [0.32888156],\n",
       "       [0.31600165],\n",
       "       [0.3417272 ],\n",
       "       [0.24052063],\n",
       "       [0.26221046],\n",
       "       [0.24038033],\n",
       "       [0.388316  ],\n",
       "       [0.392819  ],\n",
       "       [0.3417935 ],\n",
       "       [0.37237847],\n",
       "       [0.4775985 ],\n",
       "       [0.44573867],\n",
       "       [0.30185226],\n",
       "       [0.33366293],\n",
       "       [0.340926  ],\n",
       "       [0.27908754],\n",
       "       [0.2239212 ],\n",
       "       [0.30969095],\n",
       "       [0.37756848],\n",
       "       [0.3142708 ],\n",
       "       [0.45181477],\n",
       "       [0.43517834],\n",
       "       [0.43011844],\n",
       "       [0.5004387 ],\n",
       "       [0.43188167],\n",
       "       [0.42560023],\n",
       "       [0.23144703],\n",
       "       [0.24870238],\n",
       "       [0.32421723],\n",
       "       [0.25349054],\n",
       "       [0.31879526],\n",
       "       [0.44275025],\n",
       "       [0.4278422 ],\n",
       "       [0.45293128],\n",
       "       [0.37114185],\n",
       "       [0.38308614],\n",
       "       [0.49133113],\n",
       "       [0.39490032],\n",
       "       [0.30309582],\n",
       "       [0.39840755],\n",
       "       [0.26361674],\n",
       "       [0.36234874],\n",
       "       [0.23505722],\n",
       "       [0.33852065],\n",
       "       [0.49489585],\n",
       "       [0.48198247],\n",
       "       [0.37496537],\n",
       "       [0.4219315 ],\n",
       "       [0.40370017],\n",
       "       [0.42363083],\n",
       "       [0.34783334],\n",
       "       [0.33604816],\n",
       "       [0.32579422],\n",
       "       [0.32905945],\n",
       "       [0.2361878 ],\n",
       "       [0.297308  ],\n",
       "       [0.41623998],\n",
       "       [0.45274854],\n",
       "       [0.44138807],\n",
       "       [0.38040644],\n",
       "       [0.3972578 ],\n",
       "       [0.31380802],\n",
       "       [0.30232075],\n",
       "       [0.3240503 ],\n",
       "       [0.24249105],\n",
       "       [0.4028306 ],\n",
       "       [0.32646412],\n",
       "       [0.40797758],\n",
       "       [0.39894688],\n",
       "       [0.39637882],\n",
       "       [0.39545247],\n",
       "       [0.44599125],\n",
       "       [0.30477983],\n",
       "       [0.32073057],\n",
       "       [0.2926419 ],\n",
       "       [0.32715827],\n",
       "       [0.29716623],\n",
       "       [0.26199153],\n",
       "       [0.42429203],\n",
       "       [0.4488461 ],\n",
       "       [0.34757212],\n",
       "       [0.4426337 ],\n",
       "       [0.46444607],\n",
       "       [0.3712262 ],\n",
       "       [0.38941768],\n",
       "       [0.3192103 ],\n",
       "       [0.35450608],\n",
       "       [0.31276494],\n",
       "       [0.28910726],\n",
       "       [0.32116336],\n",
       "       [0.32993066],\n",
       "       [0.4967041 ],\n",
       "       [0.4935726 ],\n",
       "       [0.42120978],\n",
       "       [0.45573413],\n",
       "       [0.37461334],\n",
       "       [0.33590287]], dtype=float32)"
      ]
     },
     "execution_count": 18,
     "metadata": {},
     "output_type": "execute_result"
    }
   ],
   "source": [
    "trainpred"
   ]
  },
  {
   "cell_type": "code",
   "execution_count": 19,
   "metadata": {},
   "outputs": [
    {
     "data": {
      "text/plain": [
       "array([[0.30921656],\n",
       "       [0.27458805],\n",
       "       [0.34188917],\n",
       "       [0.38803765],\n",
       "       [0.4035617 ],\n",
       "       [0.4064139 ],\n",
       "       [0.4499504 ],\n",
       "       [0.42320156],\n",
       "       [0.4702155 ],\n",
       "       [0.38771337],\n",
       "       [0.35773972],\n",
       "       [0.24851541],\n",
       "       [0.24253145],\n",
       "       [0.29114178],\n",
       "       [0.35193002],\n",
       "       [0.3120826 ],\n",
       "       [0.41518298],\n",
       "       [0.4792214 ],\n",
       "       [0.5133163 ],\n",
       "       [0.47707856],\n",
       "       [0.40618208],\n",
       "       [0.3800766 ]], dtype=float32)"
      ]
     },
     "execution_count": 19,
     "metadata": {},
     "output_type": "execute_result"
    }
   ],
   "source": [
    "valpred"
   ]
  },
  {
   "cell_type": "code",
   "execution_count": 20,
   "metadata": {},
   "outputs": [],
   "source": [
    "# Convert predictions back to normal values\n",
    "trainpred = scaler.inverse_transform(trainpred)\n",
    "Y_train = scaler.inverse_transform([Y_train])\n",
    "valpred = scaler.inverse_transform(valpred)\n",
    "Y_val = scaler.inverse_transform([Y_val])\n",
    "predictions = valpred"
   ]
  },
  {
   "cell_type": "code",
   "execution_count": 21,
   "metadata": {},
   "outputs": [
    {
     "data": {
      "text/plain": [
       "(1, 448)"
      ]
     },
     "execution_count": 21,
     "metadata": {},
     "output_type": "execute_result"
    }
   ],
   "source": [
    "Y_train.shape"
   ]
  },
  {
   "cell_type": "code",
   "execution_count": 22,
   "metadata": {},
   "outputs": [
    {
     "data": {
      "text/plain": [
       "(1, 22)"
      ]
     },
     "execution_count": 22,
     "metadata": {},
     "output_type": "execute_result"
    }
   ],
   "source": [
    "Y_val.shape"
   ]
  },
  {
   "cell_type": "code",
   "execution_count": 23,
   "metadata": {},
   "outputs": [
    {
     "data": {
      "text/plain": [
       "(448, 1, 120)"
      ]
     },
     "execution_count": 23,
     "metadata": {},
     "output_type": "execute_result"
    }
   ],
   "source": [
    "X_train.shape"
   ]
  },
  {
   "cell_type": "code",
   "execution_count": 24,
   "metadata": {},
   "outputs": [
    {
     "data": {
      "text/plain": [
       "(22, 1, 120)"
      ]
     },
     "execution_count": 24,
     "metadata": {},
     "output_type": "execute_result"
    }
   ],
   "source": [
    "X_val.shape"
   ]
  },
  {
   "cell_type": "code",
   "execution_count": 25,
   "metadata": {},
   "outputs": [
    {
     "data": {
      "text/plain": [
       "array([[187.6, 178.3,  70.7, 267. , 141.9, 150.2,  44.1,  57.3, 128.1,\n",
       "        116.1, 175.6, 225.6, 199.8,  82.1, 130.5, 134.3,  90. ,  33.8,\n",
       "         59.6, 114.7,  51.2,  77.1,  86.3, 112.1, 211.9,  73.2, 109.7,\n",
       "         98.4, 139.8, 140.8, 141.2,  92.4,  49.8,  69.3,  12.9,  59.7,\n",
       "        191.9, 169.5, 168.5, 149.9,  81.8,  77.7, 115.9,  67. ,  64.7,\n",
       "        162. ,  94.3, 107.7, 240.1, 148.4, 226. , 145.9,  89.2,  19.1,\n",
       "         72.4,  66.5, 129.6, 141.2, 188.9, 111.1, 187.2, 202.2, 260.6,\n",
       "         30. ,  71.2, 109.8,  17.8,  47.6, 167.9,  90.2, 121.7, 146.5,\n",
       "        156. ,  80.9, 226.5,  72.4, 123.7,  60.7, 132.9,  64.1,  60.6,\n",
       "          5.8,  91.2, 138.7, 141.8, 148.3, 117.3, 126.4, 152.2, 148.4,\n",
       "         37.4,  95.2,  77.2,  99.1, 132.4, 200.8, 246.1, 139.7, 230.6,\n",
       "         94.9, 256.2,  37.2,  33.1,  79.2,  75. , 111.3, 248.5,  71.4,\n",
       "        183.2, 178.4, 137.8,  59. , 186.4, 113.8, 139.3,  49.9,  67.4,\n",
       "        184.8, 144.1, 144. , 218.2, 209.1, 133.6, 115.8, 129.2,  17.5,\n",
       "         25.2, 169.9, 154.7, 102. , 260.2, 185.9, 192.9, 294.9, 159.1,\n",
       "        106.1, 176.1,  49.3, 155.6,  86.7, 110.7, 100.9, 246.1, 210. ,\n",
       "        122.9, 123.3, 139.1, 119.3, 178.6,  30.7,  89.4, 120.2,  25. ,\n",
       "        135.4, 114.6, 156.5, 206.4, 298.4, 204.2,  90.1, 201.4,  93.1,\n",
       "         91.1,  43.3,  41.4,  44.8, 176. , 260.3,  82.4, 173.5, 295.5,\n",
       "        135.2,  73.8,  70.5,  31.3,  77.6,  44.3,  76.3, 163. , 248.2,\n",
       "        162.7, 178.3, 111.9,  56.4, 167.7, 101.1, 133.6,  82.5, 107.8,\n",
       "        259.8, 244.4,  80.3,  75.1, 163.5, 217.9,   5. , 214. , 140.5,\n",
       "        205.1, 102. ,  97.4, 160.2,  25. , 218.4, 225. , 272.2,  81. ,\n",
       "         98.3, 155.6,  55.6,  68.3,  83.7, 104.2, 140.6, 147.8, 181.5,\n",
       "        160.7, 105.8, 261.6, 144. , 231.9,  54. ,  68.5,  53.1, 160.8,\n",
       "        183.2, 174.6, 177.6,  90.3, 115. , 136.9, 177. , 171.5,  77.3,\n",
       "         44.8, 102.4,  37.7, 193. ,  75.4, 309. , 112.6, 135.4, 233.4,\n",
       "        265.6, 111. , 128.6,  20.9, 116.3,  80.9,  96.2,  77.7, 272.3,\n",
       "        152.9, 250.1, 150.7, 100.6, 124.7, 212.9,  27.7, 116.1, 118.9,\n",
       "         90.2,  96.6, 142.2, 203.8, 165.9, 106.9, 139.8, 198.3, 141.6,\n",
       "         98.9,  51.3, 131.5, 208. , 140.7, 165.4, 247.4, 141.3, 220.2,\n",
       "         64.4,  89.7, 126.7, 155.1, 109.6, 120.9,  85.1, 100.9,  53.7,\n",
       "         83. , 337.5, 245.5, 113.3, 267.5, 164.6,  88.3, 119.6,  87.4,\n",
       "         93.3,  78.1,  90.3, 136.6, 250. , 220.9, 163.8, 182.2,  63.6,\n",
       "         84.2,  34.6, 130.4,  10.7, 102.7, 178.2, 136.7,  64.9,  70. ,\n",
       "        187. ,  76.5,  89.1,  91.6,  56.2,  98.8, 108.8,  71.9, 210.1,\n",
       "        185.7,  93.4,  28. , 200.8,  89. ,  42.7,  99.9,  80. , 124.3,\n",
       "        106.7, 123.8,  96.9, 130.8, 229.3, 165.6, 132.9, 122. ,  97. ,\n",
       "         66.5, 151.2, 145.2, 238.9,  96. , 242.8, 181.6, 198.7, 232.7,\n",
       "        169.1, 112.8, 148. ,  83.3,  79.4,  93.3, 140. , 185.6, 113.7,\n",
       "        213.3, 358.1, 133.2, 223.6, 123.2, 115.9,  80.2,  87.4,  56.6,\n",
       "        192.9, 150. , 305.8, 228.2, 175.7,  80.8,  91.4,  97. ,  94.9,\n",
       "         54.1, 111.8,  96.4, 175.4,  68.9, 141.7, 176.3,  98. , 141.7,\n",
       "        261.2,  97.4, 111.5, 118.9, 152. ,  78.5, 115.8,  38.6, 203.9,\n",
       "        230.3, 134. , 135.7,  89. ,  90.2,  66.2, 198.8,  68.5, 101.9,\n",
       "         53.5,  96.6, 110.7, 194.8, 146.6, 186.8,  71.9, 123.8, 117.1,\n",
       "         82. , 111.3, 104. , 102.6, 198.6, 192.8, 114.2, 236.2, 286.2,\n",
       "        104.5,  76.8, 124.8, 140. ,  97.1,  44. , 132.3, 123.6, 134. ,\n",
       "        191.3, 162.9,  95.9,  99.7, 134.8, 104.5, 135.6,  37.8,  58.9,\n",
       "         69. , 178.8, 178. , 192.3, 260.3, 202.9, 116.6]])"
      ]
     },
     "execution_count": 25,
     "metadata": {},
     "output_type": "execute_result"
    }
   ],
   "source": [
    "Y_train"
   ]
  },
  {
   "cell_type": "code",
   "execution_count": 26,
   "metadata": {},
   "outputs": [
    {
     "data": {
      "text/plain": [
       "array([[ 25.3,  63. ,  98.8, 182.2, 186.2, 146.8, 177.2, 207. , 181.3,\n",
       "        269.7, 155. ,  87.3,  86.2,  63.7,  61.4,  55.4, 174.9, 142.2,\n",
       "        131.2, 150.6, 189.1, 139.1]])"
      ]
     },
     "execution_count": 26,
     "metadata": {},
     "output_type": "execute_result"
    }
   ],
   "source": [
    "Y_val"
   ]
  },
  {
   "cell_type": "code",
   "execution_count": 27,
   "metadata": {},
   "outputs": [
    {
     "data": {
      "text/plain": [
       "array([[[0.53242707, 0.82242991, 0.34806004, ..., 0.21042198,\n",
       "         0.16765789, 0.28518833]],\n",
       "\n",
       "       [[0.82242991, 0.34806004, 0.28632116, ..., 0.16765789,\n",
       "         0.28518833, 0.51713396]],\n",
       "\n",
       "       [[0.34806004, 0.28632116, 0.13848768, ..., 0.28518833,\n",
       "         0.51713396, 0.49079581]],\n",
       "\n",
       "       ...,\n",
       "\n",
       "       [[0.25035401, 0.06513735, 0.55451713, ..., 0.49221184,\n",
       "         0.48994619, 0.53044463]],\n",
       "\n",
       "       [[0.06513735, 0.55451713, 0.23789295, ..., 0.48994619,\n",
       "         0.53044463, 0.72302464]],\n",
       "\n",
       "       [[0.55451713, 0.23789295, 0.10676862, ..., 0.53044463,\n",
       "         0.72302464, 0.56046446]]])"
      ]
     },
     "execution_count": 27,
     "metadata": {},
     "output_type": "execute_result"
    }
   ],
   "source": [
    "X_train"
   ]
  },
  {
   "cell_type": "code",
   "execution_count": 28,
   "metadata": {},
   "outputs": [
    {
     "data": {
      "text/plain": [
       "array([[[0.14358539, 0.33021807, 0.32880204, ..., 0.24695554,\n",
       "         0.38714245, 0.62531861]],\n",
       "\n",
       "       [[0.33021807, 0.32880204, 0.5287454 , ..., 0.38714245,\n",
       "         0.62531861, 0.0574908 ]],\n",
       "\n",
       "       [[0.32880204, 0.5287454 , 0.23336165, ..., 0.62531861,\n",
       "         0.0574908 , 0.16425942]],\n",
       "\n",
       "       ...,\n",
       "\n",
       "       [[0.49362787, 0.35202492, 0.39308978, ..., 0.48116681,\n",
       "         0.38855848, 0.35740583]],\n",
       "\n",
       "       [[0.35202492, 0.39308978, 0.16086095, ..., 0.38855848,\n",
       "         0.35740583, 0.41234778]],\n",
       "\n",
       "       [[0.39308978, 0.16086095, 0.33446616, ..., 0.35740583,\n",
       "         0.41234778, 0.52138204]]])"
      ]
     },
     "execution_count": 28,
     "metadata": {},
     "output_type": "execute_result"
    }
   ],
   "source": [
    "X_val"
   ]
  },
  {
   "cell_type": "code",
   "execution_count": 29,
   "metadata": {},
   "outputs": [
    {
     "name": "stdout",
     "output_type": "stream",
     "text": [
      "Train Score: 57.43 RMSE\n",
      "Validation Score: 47.74 RMSE\n"
     ]
    }
   ],
   "source": [
    "import math\n",
    "from sklearn.metrics import mean_squared_error\n",
    "\n",
    "# calculate RMSE\n",
    "trainScore = math.sqrt(mean_squared_error(Y_train[0], trainpred[:,0]))\n",
    "print('Train Score: %.2f RMSE' % (trainScore))\n",
    "valScore = math.sqrt(mean_squared_error(Y_val[0], valpred[:,0]))\n",
    "print('Validation Score: %.2f RMSE' % (valScore))"
   ]
  },
  {
   "cell_type": "code",
   "execution_count": 30,
   "metadata": {},
   "outputs": [],
   "source": [
    "# Train predictions\n",
    "trainpredPlot = np.empty_like(df)\n",
    "trainpredPlot[:, :] = np.nan\n",
    "trainpredPlot[previous:len(trainpred)+previous, :] = trainpred"
   ]
  },
  {
   "cell_type": "code",
   "execution_count": 31,
   "metadata": {},
   "outputs": [],
   "source": [
    "# Validation predictions\n",
    "valpredPlot = np.empty_like(df)\n",
    "valpredPlot[:, :] = np.nan\n",
    "valpredPlot[len(trainpred)+(previous*2)+1:len(df)-1, :] = valpred"
   ]
  },
  {
   "cell_type": "code",
   "execution_count": 32,
   "metadata": {},
   "outputs": [
    {
     "data": {
      "image/png": "[encoded data removed]",
      "text/plain": [
       "<Figure size 432x288 with 1 Axes>"
      ]
     },
     "metadata": {
      "needs_background": "light"
     },
     "output_type": "display_data"
    }
   ],
   "source": [
    "# Plot all predictions\n",
    "inversetransform, =plt.plot(scaler.inverse_transform(df))\n",
    "trainpred, =plt.plot(trainpredPlot)\n",
    "valpred, =plt.plot(valpredPlot)\n",
    "plt.xlabel('Days')\n",
    "plt.ylabel('Rainfall')\n",
    "plt.title(\"Predicted vs. Actual Rainfall\")\n",
    "plt.show()"
   ]
  },
  {
   "cell_type": "code",
   "execution_count": 33,
   "metadata": {},
   "outputs": [],
   "source": [
    "Y_val=Y_val.reshape(-1)\n",
    "Y_val.shape\n",
    "Y_val=pd.Series(Y_val)"
   ]
  },
  {
   "cell_type": "code",
   "execution_count": 34,
   "metadata": {},
   "outputs": [
    {
     "data": {
      "text/plain": [
       "0      25.3\n",
       "1      63.0\n",
       "2      98.8\n",
       "3     182.2\n",
       "4     186.2\n",
       "5     146.8\n",
       "6     177.2\n",
       "7     207.0\n",
       "8     181.3\n",
       "9     269.7\n",
       "10    155.0\n",
       "11     87.3\n",
       "12     86.2\n",
       "13     63.7\n",
       "14     61.4\n",
       "15     55.4\n",
       "16    174.9\n",
       "17    142.2\n",
       "18    131.2\n",
       "19    150.6\n",
       "20    189.1\n",
       "21    139.1\n",
       "dtype: float64"
      ]
     },
     "execution_count": 34,
     "metadata": {},
     "output_type": "execute_result"
    }
   ],
   "source": [
    "Y_val"
   ]
  },
  {
   "cell_type": "code",
   "execution_count": 35,
   "metadata": {},
   "outputs": [],
   "source": [
    "predictions=predictions.reshape(-1)\n",
    "predictions.shape\n",
    "predictions=pd.Series(predictions)"
   ]
  },
  {
   "cell_type": "code",
   "execution_count": 36,
   "metadata": {},
   "outputs": [
    {
     "data": {
      "text/plain": [
       "0     114.184372\n",
       "1     101.957047\n",
       "2     125.721069\n",
       "3     142.016098\n",
       "4     147.497650\n",
       "5     148.504761\n",
       "6     163.877487\n",
       "7     154.432480\n",
       "8     171.033096\n",
       "9     141.901596\n",
       "10    131.317902\n",
       "11     92.750793\n",
       "12     90.637856\n",
       "13    107.802162\n",
       "14    129.266495\n",
       "15    115.196365\n",
       "16    151.601120\n",
       "17    174.213089\n",
       "18    186.251968\n",
       "19    173.456436\n",
       "20    148.422897\n",
       "21    139.205048\n",
       "dtype: float32"
      ]
     },
     "execution_count": 36,
     "metadata": {},
     "output_type": "execute_result"
    }
   ],
   "source": [
    "predictions"
   ]
  },
  {
   "cell_type": "code",
   "execution_count": 37,
   "metadata": {},
   "outputs": [],
   "source": [
    "import numpy as np\n",
    "\n",
    "def mda(actual: np.ndarray, predicted: np.ndarray):\n",
    "    \"\"\" Mean Directional Accuracy \"\"\"\n",
    "    return np.mean((np.sign(actual[1:] - actual[:-1]) == np.sign(predicted[1:] - predicted[:-1])).astype(int))"
   ]
  },
  {
   "cell_type": "code",
   "execution_count": 38,
   "metadata": {},
   "outputs": [
    {
     "data": {
      "text/plain": [
       "0.9090909090909091"
      ]
     },
     "execution_count": 38,
     "metadata": {},
     "output_type": "execute_result"
    }
   ],
   "source": [
    "mda(Y_val, predictions)"
   ]
  },
  {
   "cell_type": "code",
   "execution_count": 39,
   "metadata": {},
   "outputs": [
    {
     "name": "stdout",
     "output_type": "stream",
     "text": [
      "RMSE: 47.744200\n"
     ]
    }
   ],
   "source": [
    "# https://machinelearningmastery.com/time-series-forecasting-performance-measures-with-python/\n",
    "\n",
    "from sklearn.metrics import mean_squared_error\n",
    "from math import sqrt\n",
    "mse = mean_squared_error(Y_val, predictions)\n",
    "rmse = sqrt(mse)\n",
    "print('RMSE: %f' % rmse)"
   ]
  },
  {
   "cell_type": "code",
   "execution_count": 40,
   "metadata": {},
   "outputs": [
    {
     "data": {
      "text/plain": [
       "0      88.884372\n",
       "1      38.957047\n",
       "2      26.921069\n",
       "3     -40.183902\n",
       "4     -38.702350\n",
       "5       1.704761\n",
       "6     -13.322513\n",
       "7     -52.567520\n",
       "8     -10.266904\n",
       "9    -127.798404\n",
       "10    -23.682098\n",
       "11      5.450793\n",
       "12      4.437856\n",
       "13     44.102162\n",
       "14     67.866495\n",
       "15     59.796365\n",
       "16    -23.298880\n",
       "17     32.013089\n",
       "18     55.051968\n",
       "19     22.856436\n",
       "20    -40.677103\n",
       "21      0.105048\n",
       "dtype: float64"
      ]
     },
     "execution_count": 40,
     "metadata": {},
     "output_type": "execute_result"
    }
   ],
   "source": [
    "forecast_error = (predictions-Y_val)\n",
    "forecast_error"
   ]
  },
  {
   "cell_type": "code",
   "execution_count": 41,
   "metadata": {},
   "outputs": [
    {
     "data": {
      "text/plain": [
       "3.5294448852539078"
      ]
     },
     "execution_count": 41,
     "metadata": {},
     "output_type": "execute_result"
    }
   ],
   "source": [
    "mean_forecast_error = np.mean(forecast_error)\n",
    "mean_forecast_error"
   ]
  },
  {
   "cell_type": "code",
   "execution_count": 42,
   "metadata": {},
   "outputs": [
    {
     "data": {
      "text/plain": [
       "array([[[0.53242707, 0.82242991, 0.34806004, ..., 0.21042198,\n",
       "         0.16765789, 0.28518833]],\n",
       "\n",
       "       [[0.82242991, 0.34806004, 0.28632116, ..., 0.16765789,\n",
       "         0.28518833, 0.51713396]],\n",
       "\n",
       "       [[0.34806004, 0.28632116, 0.13848768, ..., 0.28518833,\n",
       "         0.51713396, 0.49079581]],\n",
       "\n",
       "       ...,\n",
       "\n",
       "       [[0.25035401, 0.06513735, 0.55451713, ..., 0.49221184,\n",
       "         0.48994619, 0.53044463]],\n",
       "\n",
       "       [[0.06513735, 0.55451713, 0.23789295, ..., 0.48994619,\n",
       "         0.53044463, 0.72302464]],\n",
       "\n",
       "       [[0.55451713, 0.23789295, 0.10676862, ..., 0.53044463,\n",
       "         0.72302464, 0.56046446]]])"
      ]
     },
     "execution_count": 42,
     "metadata": {},
     "output_type": "execute_result"
    }
   ],
   "source": [
    "X_train"
   ]
  },
  {
   "cell_type": "code",
   "execution_count": 43,
   "metadata": {},
   "outputs": [
    {
     "data": {
      "text/plain": [
       "(448, 1, 120)"
      ]
     },
     "execution_count": 43,
     "metadata": {},
     "output_type": "execute_result"
    }
   ],
   "source": [
    "X_train.shape"
   ]
  },
  {
   "cell_type": "code",
   "execution_count": 44,
   "metadata": {},
   "outputs": [],
   "source": [
    "# Test (unseen) predictions\n",
    "Xnew = np.array([tseries.iloc[592:712],tseries.iloc[593:713],tseries.iloc[594:714],tseries.iloc[595:715],tseries.iloc[596:716],tseries.iloc[597:717],tseries.iloc[598:718],tseries.iloc[599:719],tseries.iloc[600:720],tseries.iloc[601:721]])"
   ]
  },
  {
   "cell_type": "code",
   "execution_count": 45,
   "metadata": {},
   "outputs": [
    {
     "data": {
      "text/plain": [
       "array([[123.1, 110.8, 128.8, ..., 189.1, 139.1, 107.9],\n",
       "       [110.8, 128.8,  67.5, ..., 139.1, 107.9, 227.3],\n",
       "       [128.8,  67.5, 243.8, ..., 107.9, 227.3,  92.6],\n",
       "       ...,\n",
       "       [132.3, 322.6, 133.8, ...,  84.1, 221.9, 166.3],\n",
       "       [322.6, 133.8,  86. , ..., 221.9, 166.3, 152. ],\n",
       "       [133.8,  86. ,  69.1, ..., 166.3, 152. , 142.5]])"
      ]
     },
     "execution_count": 45,
     "metadata": {},
     "output_type": "execute_result"
    }
   ],
   "source": [
    "Xnew"
   ]
  },
  {
   "cell_type": "code",
   "execution_count": 46,
   "metadata": {},
   "outputs": [],
   "source": [
    "Xnew = scaler.fit_transform(Xnew)\n",
    "Xnew\n",
    "Xnewformat = np.reshape(Xnew, (Xnew.shape[0], 1, Xnew.shape[1]))\n",
    "ynew=model.predict(Xnewformat)"
   ]
  },
  {
   "cell_type": "code",
   "execution_count": 47,
   "metadata": {},
   "outputs": [
    {
     "data": {
      "text/plain": [
       "(10, 120)"
      ]
     },
     "execution_count": 47,
     "metadata": {},
     "output_type": "execute_result"
    }
   ],
   "source": [
    "Xnew.shape"
   ]
  },
  {
   "cell_type": "code",
   "execution_count": 48,
   "metadata": {},
   "outputs": [
    {
     "data": {
      "text/plain": [
       "array([[0.29402345],\n",
       "       [0.21744524],\n",
       "       [0.23082507],\n",
       "       [0.282586  ],\n",
       "       [0.4599925 ],\n",
       "       [0.49710932],\n",
       "       [0.5570562 ],\n",
       "       [0.47547498],\n",
       "       [0.48823142],\n",
       "       [0.6277239 ]], dtype=float32)"
      ]
     },
     "execution_count": 48,
     "metadata": {},
     "output_type": "execute_result"
    }
   ],
   "source": [
    "ynew"
   ]
  },
  {
   "cell_type": "code",
   "execution_count": 49,
   "metadata": {},
   "outputs": [
    {
     "data": {
      "text/plain": [
       "numpy.ndarray"
      ]
     },
     "execution_count": 49,
     "metadata": {},
     "output_type": "execute_result"
    }
   ],
   "source": [
    "type(ynew)"
   ]
  },
  {
   "cell_type": "code",
   "execution_count": 50,
   "metadata": {},
   "outputs": [
    {
     "data": {
      "text/plain": [
       "(10, 1)"
      ]
     },
     "execution_count": 50,
     "metadata": {},
     "output_type": "execute_result"
    }
   ],
   "source": [
    "ynew.shape"
   ]
  },
  {
   "cell_type": "code",
   "execution_count": 51,
   "metadata": {},
   "outputs": [
    {
     "data": {
      "text/plain": [
       "712    227.3\n",
       "713     92.6\n",
       "714    110.5\n",
       "715     74.8\n",
       "716     84.1\n",
       "717    221.9\n",
       "718    166.3\n",
       "719    152.0\n",
       "720    142.5\n",
       "721    217.3\n",
       "Name: rain, dtype: float64"
      ]
     },
     "execution_count": 51,
     "metadata": {},
     "output_type": "execute_result"
    }
   ],
   "source": [
    "actual=tseries.iloc[712:722]\n",
    "actual"
   ]
  },
  {
   "cell_type": "code",
   "execution_count": 52,
   "metadata": {},
   "outputs": [
    {
     "data": {
      "text/plain": [
       "pandas.core.series.Series"
      ]
     },
     "execution_count": 52,
     "metadata": {},
     "output_type": "execute_result"
    }
   ],
   "source": [
    "type(actual)"
   ]
  },
  {
   "cell_type": "code",
   "execution_count": 53,
   "metadata": {},
   "outputs": [
    {
     "data": {
      "text/plain": [
       "array([227.3,  92.6, 110.5,  74.8,  84.1, 221.9, 166.3, 152. , 142.5,\n",
       "       217.3])"
      ]
     },
     "execution_count": 53,
     "metadata": {},
     "output_type": "execute_result"
    }
   ],
   "source": [
    "actual = np.array(actual)\n",
    "actual"
   ]
  },
  {
   "cell_type": "code",
   "execution_count": 54,
   "metadata": {},
   "outputs": [
    {
     "data": {
      "text/plain": [
       "(10, 1)"
      ]
     },
     "execution_count": 54,
     "metadata": {},
     "output_type": "execute_result"
    }
   ],
   "source": [
    "actual=actual.reshape(10,-1)\n",
    "actual.shape"
   ]
  },
  {
   "cell_type": "code",
   "execution_count": 55,
   "metadata": {},
   "outputs": [
    {
     "data": {
      "text/plain": [
       "array([[227.3],\n",
       "       [ 92.6],\n",
       "       [110.5],\n",
       "       [ 74.8],\n",
       "       [ 84.1],\n",
       "       [221.9],\n",
       "       [166.3],\n",
       "       [152. ],\n",
       "       [142.5],\n",
       "       [217.3]])"
      ]
     },
     "execution_count": 55,
     "metadata": {},
     "output_type": "execute_result"
    }
   ],
   "source": [
    "actual"
   ]
  },
  {
   "cell_type": "code",
   "execution_count": 56,
   "metadata": {},
   "outputs": [],
   "source": [
    "ynew=ynew.reshape(-1)\n",
    "actual=actual.reshape(-1)\n",
    "actualpd=pd.Series(actual)"
   ]
  },
  {
   "cell_type": "code",
   "execution_count": 57,
   "metadata": {},
   "outputs": [
    {
     "data": {
      "text/plain": [
       "0.0"
      ]
     },
     "execution_count": 57,
     "metadata": {},
     "output_type": "execute_result"
    }
   ],
   "source": [
    "np.min(df)"
   ]
  },
  {
   "cell_type": "code",
   "execution_count": 58,
   "metadata": {},
   "outputs": [
    {
     "data": {
      "text/plain": [
       "array([0.29402345, 0.21744524, 0.23082507, 0.282586  , 0.4599925 ,\n",
       "       0.49710932, 0.5570562 , 0.47547498, 0.48823142, 0.6277239 ],\n",
       "      dtype=float32)"
      ]
     },
     "execution_count": 58,
     "metadata": {},
     "output_type": "execute_result"
    }
   ],
   "source": [
    "ynew"
   ]
  },
  {
   "cell_type": "code",
   "execution_count": 59,
   "metadata": {},
   "outputs": [],
   "source": [
    "maxt=np.max(tseries)"
   ]
  },
  {
   "cell_type": "code",
   "execution_count": 60,
   "metadata": {},
   "outputs": [],
   "source": [
    "mint=np.min(tseries)"
   ]
  },
  {
   "cell_type": "code",
   "execution_count": 61,
   "metadata": {},
   "outputs": [],
   "source": [
    "ynew = ynew * np.abs(maxt-mint) + np.min(tseries)\n",
    "ynewpd=pd.Series(ynew)"
   ]
  },
  {
   "cell_type": "code",
   "execution_count": 62,
   "metadata": {},
   "outputs": [
    {
     "data": {
      "text/plain": [
       "0    227.3\n",
       "1     92.6\n",
       "2    110.5\n",
       "3     74.8\n",
       "4     84.1\n",
       "5    221.9\n",
       "6    166.3\n",
       "7    152.0\n",
       "8    142.5\n",
       "9    217.3\n",
       "dtype: float64"
      ]
     },
     "execution_count": 62,
     "metadata": {},
     "output_type": "execute_result"
    }
   ],
   "source": [
    "actualpd"
   ]
  },
  {
   "cell_type": "code",
   "execution_count": 63,
   "metadata": {},
   "outputs": [
    {
     "data": {
      "text/plain": [
       "0    108.819687\n",
       "1     81.779915\n",
       "2     86.504333\n",
       "3    104.781120\n",
       "4    167.423355\n",
       "5    180.529312\n",
       "6    201.696548\n",
       "7    172.890213\n",
       "8    177.394516\n",
       "9    226.649307\n",
       "dtype: float32"
      ]
     },
     "execution_count": 63,
     "metadata": {},
     "output_type": "execute_result"
    }
   ],
   "source": [
    "ynewpd"
   ]
  },
  {
   "cell_type": "code",
   "execution_count": 64,
   "metadata": {},
   "outputs": [
    {
     "data": {
      "text/plain": [
       "0.8"
      ]
     },
     "execution_count": 64,
     "metadata": {},
     "output_type": "execute_result"
    }
   ],
   "source": [
    "mda(actualpd, ynewpd)"
   ]
  },
  {
   "cell_type": "code",
   "execution_count": 65,
   "metadata": {},
   "outputs": [
    {
     "name": "stdout",
     "output_type": "stream",
     "text": [
      "RMSE: 52.228333\n"
     ]
    }
   ],
   "source": [
    "mse = mean_squared_error(actualpd, ynewpd)\n",
    "rmse = sqrt(mse)\n",
    "print('RMSE: %f' % rmse)"
   ]
  },
  {
   "cell_type": "code",
   "execution_count": 66,
   "metadata": {},
   "outputs": [
    {
     "data": {
      "text/plain": [
       "0   -118.480313\n",
       "1    -10.820085\n",
       "2    -23.995667\n",
       "3     29.981120\n",
       "4     83.323355\n",
       "5    -41.370688\n",
       "6     35.396548\n",
       "7     20.890213\n",
       "8     34.894516\n",
       "9      9.349307\n",
       "dtype: float64"
      ]
     },
     "execution_count": 66,
     "metadata": {},
     "output_type": "execute_result"
    }
   ],
   "source": [
    "forecast_error = (ynewpd-actualpd)\n",
    "forecast_error"
   ]
  },
  {
   "cell_type": "code",
   "execution_count": 67,
   "metadata": {},
   "outputs": [
    {
     "data": {
      "text/plain": [
       "1.9168307495117163"
      ]
     },
     "execution_count": 67,
     "metadata": {},
     "output_type": "execute_result"
    }
   ],
   "source": [
    "mean_forecast_error = np.mean(forecast_error)\n",
    "mean_forecast_error"
   ]
  },
  {
   "cell_type": "code",
   "execution_count": 68,
   "metadata": {},
   "outputs": [
    {
     "data": {
      "image/png": "[encoded data removed]",
      "text/plain": [
       "<Figure size 432x288 with 1 Axes>"
      ]
     },
     "metadata": {
      "needs_background": "light"
     },
     "output_type": "display_data"
    }
   ],
   "source": [
    "predictons, =plt.plot(ynewpd, label='Predictions')\n",
    "actual, =plt.plot(actualpd, label='Actual')\n",
    "plt.xlabel('Days')\n",
    "plt.ylabel('Rainfall')\n",
    "plt.title(\"Predicted vs. Actual Rainfall\")\n",
    "plt.legend(loc = 'upper center')\n",
    "plt.show()"
   ]
  },
  {
   "cell_type": "code",
   "execution_count": null,
   "metadata": {},
   "outputs": [],
   "source": []
  }
 ],
 "metadata": {
  "kernelspec": {
   "display_name": "Python 3",
   "language": "python",
   "name": "python3"
  },
  "language_info": {
   "codemirror_mode": {
    "name": "ipython",
    "version": 3
   },
   "file_extension": ".py",
   "mimetype": "text/x-python",
   "name": "python",
   "nbconvert_exporter": "python",
   "pygments_lexer": "ipython3",
   "version": "3.6.5"
  }
 },
 "nbformat": 4,
 "nbformat_minor": 2
}
