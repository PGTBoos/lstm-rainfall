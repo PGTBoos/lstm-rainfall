{
 "cells": [
  {
   "cell_type": "code",
   "execution_count": 1,
   "metadata": {},
   "outputs": [
    {
     "name": "stderr",
     "output_type": "stream",
     "text": [
      "/home/michael/anaconda3/lib/python3.6/site-packages/statsmodels/tools/_testing.py:19: FutureWarning: pandas.util.testing is deprecated. Use the functions in the public API at pandas.testing instead.\n",
      "  import pandas.util.testing as tm\n"
     ]
    }
   ],
   "source": [
    "import os\n",
    "import csv\n",
    "import random\n",
    "import statsmodels.api as sm\n",
    "import statsmodels.formula.api as smf\n",
    "import numpy as np\n",
    "import pandas as pd\n",
    "from sklearn.model_selection import train_test_split\n",
    "from sklearn.linear_model import LogisticRegression\n",
    "from sklearn.ensemble import ExtraTreesClassifier\n",
    "from sklearn.preprocessing import MinMaxScaler"
   ]
  },
  {
   "cell_type": "code",
   "execution_count": 2,
   "metadata": {},
   "outputs": [
    {
     "data": {
      "text/html": [
       "<div>\n",
       "<style scoped>\n",
       "    .dataframe tbody tr th:only-of-type {\n",
       "        vertical-align: middle;\n",
       "    }\n",
       "\n",
       "    .dataframe tbody tr th {\n",
       "        vertical-align: top;\n",
       "    }\n",
       "\n",
       "    .dataframe thead th {\n",
       "        text-align: right;\n",
       "    }\n",
       "</style>\n",
       "<table border=\"1\" class=\"dataframe\">\n",
       "  <thead>\n",
       "    <tr style=\"text-align: right;\">\n",
       "      <th></th>\n",
       "      <th>year</th>\n",
       "      <th>month</th>\n",
       "      <th>rain</th>\n",
       "    </tr>\n",
       "  </thead>\n",
       "  <tbody>\n",
       "    <tr>\n",
       "      <th>0</th>\n",
       "      <td>1959</td>\n",
       "      <td>11</td>\n",
       "      <td>193.0</td>\n",
       "    </tr>\n",
       "    <tr>\n",
       "      <th>1</th>\n",
       "      <td>1959</td>\n",
       "      <td>12</td>\n",
       "      <td>295.4</td>\n",
       "    </tr>\n",
       "    <tr>\n",
       "      <th>2</th>\n",
       "      <td>1960</td>\n",
       "      <td>1</td>\n",
       "      <td>127.9</td>\n",
       "    </tr>\n",
       "    <tr>\n",
       "      <th>3</th>\n",
       "      <td>1960</td>\n",
       "      <td>2</td>\n",
       "      <td>106.1</td>\n",
       "    </tr>\n",
       "    <tr>\n",
       "      <th>4</th>\n",
       "      <td>1960</td>\n",
       "      <td>3</td>\n",
       "      <td>53.9</td>\n",
       "    </tr>\n",
       "    <tr>\n",
       "      <th>...</th>\n",
       "      <td>...</td>\n",
       "      <td>...</td>\n",
       "      <td>...</td>\n",
       "    </tr>\n",
       "    <tr>\n",
       "      <th>717</th>\n",
       "      <td>2019</td>\n",
       "      <td>8</td>\n",
       "      <td>221.9</td>\n",
       "    </tr>\n",
       "    <tr>\n",
       "      <th>718</th>\n",
       "      <td>2019</td>\n",
       "      <td>9</td>\n",
       "      <td>166.3</td>\n",
       "    </tr>\n",
       "    <tr>\n",
       "      <th>719</th>\n",
       "      <td>2019</td>\n",
       "      <td>10</td>\n",
       "      <td>152.0</td>\n",
       "    </tr>\n",
       "    <tr>\n",
       "      <th>720</th>\n",
       "      <td>2019</td>\n",
       "      <td>11</td>\n",
       "      <td>142.5</td>\n",
       "    </tr>\n",
       "    <tr>\n",
       "      <th>721</th>\n",
       "      <td>2019</td>\n",
       "      <td>12</td>\n",
       "      <td>217.3</td>\n",
       "    </tr>\n",
       "  </tbody>\n",
       "</table>\n",
       "<p>722 rows × 3 columns</p>\n",
       "</div>"
      ],
      "text/plain": [
       "     year  month   rain\n",
       "0    1959     11  193.0\n",
       "1    1959     12  295.4\n",
       "2    1960      1  127.9\n",
       "3    1960      2  106.1\n",
       "4    1960      3   53.9\n",
       "..    ...    ...    ...\n",
       "717  2019      8  221.9\n",
       "718  2019      9  166.3\n",
       "719  2019     10  152.0\n",
       "720  2019     11  142.5\n",
       "721  2019     12  217.3\n",
       "\n",
       "[722 rows x 3 columns]"
      ]
     },
     "execution_count": 2,
     "metadata": {},
     "output_type": "execute_result"
    }
   ],
   "source": [
    "mydata=pd.read_csv(\"mly833.csv\")\n",
    "mydata"
   ]
  },
  {
   "cell_type": "code",
   "execution_count": 3,
   "metadata": {},
   "outputs": [
    {
     "data": {
      "text/plain": [
       "0      193.0\n",
       "1      295.4\n",
       "2      127.9\n",
       "3      106.1\n",
       "4       53.9\n",
       "       ...  \n",
       "717    221.9\n",
       "718    166.3\n",
       "719    152.0\n",
       "720    142.5\n",
       "721    217.3\n",
       "Name: rain, Length: 722, dtype: float64"
      ]
     },
     "execution_count": 3,
     "metadata": {},
     "output_type": "execute_result"
    }
   ],
   "source": [
    "tseries=mydata['rain']\n",
    "tseries"
   ]
  },
  {
   "cell_type": "code",
   "execution_count": 4,
   "metadata": {},
   "outputs": [
    {
     "data": {
      "text/plain": [
       "pandas.core.series.Series"
      ]
     },
     "execution_count": 4,
     "metadata": {},
     "output_type": "execute_result"
    }
   ],
   "source": [
    "type(tseries)"
   ]
  },
  {
   "cell_type": "code",
   "execution_count": 5,
   "metadata": {},
   "outputs": [
    {
     "data": {
      "text/plain": [
       "(array([78.09028704]), array([1.18734005e-12]))"
      ]
     },
     "execution_count": 5,
     "metadata": {},
     "output_type": "execute_result"
    }
   ],
   "source": [
    "# https://www.statsmodels.org/stable/generated/statsmodels.stats.diagnostic.acorr_ljungbox.html\n",
    "res = sm.tsa.ARMA(tseries, (1,1)).fit(disp=-1)\n",
    "sm.stats.acorr_ljungbox(res.resid, lags=[10])"
   ]
  },
  {
   "cell_type": "code",
   "execution_count": 6,
   "metadata": {},
   "outputs": [
    {
     "name": "stdout",
     "output_type": "stream",
     "text": [
      "ADF Statistic: -5.927739\n",
      "p-value: 0.000000\n",
      "Critical Values:\n",
      "\t1%: -3.440\n",
      "\t5%: -2.866\n",
      "\t10%: -2.569\n"
     ]
    }
   ],
   "source": [
    "from statsmodels.tsa.stattools import adfuller\n",
    "result = adfuller(tseries)\n",
    "print('ADF Statistic: %f' % result[0])\n",
    "print('p-value: %f' % result[1])\n",
    "print('Critical Values:')\n",
    "for key, value in result[4].items():\n",
    "    print('\\t%s: %.3f' % (key, value))"
   ]
  },
  {
   "cell_type": "code",
   "execution_count": 7,
   "metadata": {},
   "outputs": [
    {
     "data": {
      "image/png": "[encoded data removed]",
      "text/plain": [
       "<Figure size 432x288 with 1 Axes>"
      ]
     },
     "metadata": {
      "needs_background": "light"
     },
     "output_type": "display_data"
    }
   ],
   "source": [
    "import matplotlib.pyplot as plt\n",
    "plt.plot(tseries)\n",
    "plt.tick_params(\n",
    "    axis='x',          # changes apply to the x-axis\n",
    "    which='both',      # both major and minor ticks are affected\n",
    "    bottom=False,      # ticks along the bottom edge are off\n",
    "    top=False,         # ticks along the top edge are off\n",
    "    labelbottom=False) # labels along the bottom edge are off\n",
    "plt.ylabel('Rainfall')\n",
    "plt.title(\"Rainfall\")\n",
    "plt.show()"
   ]
  },
  {
   "cell_type": "code",
   "execution_count": 8,
   "metadata": {},
   "outputs": [
    {
     "data": {
      "text/html": [
       "<div>\n",
       "<style scoped>\n",
       "    .dataframe tbody tr th:only-of-type {\n",
       "        vertical-align: middle;\n",
       "    }\n",
       "\n",
       "    .dataframe tbody tr th {\n",
       "        vertical-align: top;\n",
       "    }\n",
       "\n",
       "    .dataframe thead th {\n",
       "        text-align: right;\n",
       "    }\n",
       "</style>\n",
       "<table border=\"1\" class=\"dataframe\">\n",
       "  <thead>\n",
       "    <tr style=\"text-align: right;\">\n",
       "      <th></th>\n",
       "      <th>rain</th>\n",
       "    </tr>\n",
       "  </thead>\n",
       "  <tbody>\n",
       "    <tr>\n",
       "      <th>0</th>\n",
       "      <td>193.0</td>\n",
       "    </tr>\n",
       "    <tr>\n",
       "      <th>1</th>\n",
       "      <td>295.4</td>\n",
       "    </tr>\n",
       "    <tr>\n",
       "      <th>2</th>\n",
       "      <td>127.9</td>\n",
       "    </tr>\n",
       "    <tr>\n",
       "      <th>3</th>\n",
       "      <td>106.1</td>\n",
       "    </tr>\n",
       "    <tr>\n",
       "      <th>4</th>\n",
       "      <td>53.9</td>\n",
       "    </tr>\n",
       "    <tr>\n",
       "      <th>...</th>\n",
       "      <td>...</td>\n",
       "    </tr>\n",
       "    <tr>\n",
       "      <th>717</th>\n",
       "      <td>221.9</td>\n",
       "    </tr>\n",
       "    <tr>\n",
       "      <th>718</th>\n",
       "      <td>166.3</td>\n",
       "    </tr>\n",
       "    <tr>\n",
       "      <th>719</th>\n",
       "      <td>152.0</td>\n",
       "    </tr>\n",
       "    <tr>\n",
       "      <th>720</th>\n",
       "      <td>142.5</td>\n",
       "    </tr>\n",
       "    <tr>\n",
       "      <th>721</th>\n",
       "      <td>217.3</td>\n",
       "    </tr>\n",
       "  </tbody>\n",
       "</table>\n",
       "<p>722 rows × 1 columns</p>\n",
       "</div>"
      ],
      "text/plain": [
       "      rain\n",
       "0    193.0\n",
       "1    295.4\n",
       "2    127.9\n",
       "3    106.1\n",
       "4     53.9\n",
       "..     ...\n",
       "717  221.9\n",
       "718  166.3\n",
       "719  152.0\n",
       "720  142.5\n",
       "721  217.3\n",
       "\n",
       "[722 rows x 1 columns]"
      ]
     },
     "execution_count": 8,
     "metadata": {},
     "output_type": "execute_result"
    }
   ],
   "source": [
    "df=pd.DataFrame(tseries)\n",
    "df"
   ]
  },
  {
   "cell_type": "code",
   "execution_count": 9,
   "metadata": {},
   "outputs": [],
   "source": [
    "df = df[:712]"
   ]
  },
  {
   "cell_type": "code",
   "execution_count": 10,
   "metadata": {},
   "outputs": [
    {
     "data": {
      "text/html": [
       "<div>\n",
       "<style scoped>\n",
       "    .dataframe tbody tr th:only-of-type {\n",
       "        vertical-align: middle;\n",
       "    }\n",
       "\n",
       "    .dataframe tbody tr th {\n",
       "        vertical-align: top;\n",
       "    }\n",
       "\n",
       "    .dataframe thead th {\n",
       "        text-align: right;\n",
       "    }\n",
       "</style>\n",
       "<table border=\"1\" class=\"dataframe\">\n",
       "  <thead>\n",
       "    <tr style=\"text-align: right;\">\n",
       "      <th></th>\n",
       "      <th>rain</th>\n",
       "    </tr>\n",
       "  </thead>\n",
       "  <tbody>\n",
       "    <tr>\n",
       "      <th>0</th>\n",
       "      <td>193.0</td>\n",
       "    </tr>\n",
       "    <tr>\n",
       "      <th>1</th>\n",
       "      <td>295.4</td>\n",
       "    </tr>\n",
       "    <tr>\n",
       "      <th>2</th>\n",
       "      <td>127.9</td>\n",
       "    </tr>\n",
       "    <tr>\n",
       "      <th>3</th>\n",
       "      <td>106.1</td>\n",
       "    </tr>\n",
       "    <tr>\n",
       "      <th>4</th>\n",
       "      <td>53.9</td>\n",
       "    </tr>\n",
       "    <tr>\n",
       "      <th>...</th>\n",
       "      <td>...</td>\n",
       "    </tr>\n",
       "    <tr>\n",
       "      <th>707</th>\n",
       "      <td>131.2</td>\n",
       "    </tr>\n",
       "    <tr>\n",
       "      <th>708</th>\n",
       "      <td>150.6</td>\n",
       "    </tr>\n",
       "    <tr>\n",
       "      <th>709</th>\n",
       "      <td>189.1</td>\n",
       "    </tr>\n",
       "    <tr>\n",
       "      <th>710</th>\n",
       "      <td>139.1</td>\n",
       "    </tr>\n",
       "    <tr>\n",
       "      <th>711</th>\n",
       "      <td>107.9</td>\n",
       "    </tr>\n",
       "  </tbody>\n",
       "</table>\n",
       "<p>712 rows × 1 columns</p>\n",
       "</div>"
      ],
      "text/plain": [
       "      rain\n",
       "0    193.0\n",
       "1    295.4\n",
       "2    127.9\n",
       "3    106.1\n",
       "4     53.9\n",
       "..     ...\n",
       "707  131.2\n",
       "708  150.6\n",
       "709  189.1\n",
       "710  139.1\n",
       "711  107.9\n",
       "\n",
       "[712 rows x 1 columns]"
      ]
     },
     "execution_count": 10,
     "metadata": {},
     "output_type": "execute_result"
    }
   ],
   "source": [
    "df"
   ]
  },
  {
   "cell_type": "code",
   "execution_count": 11,
   "metadata": {},
   "outputs": [],
   "source": [
    "# Form dataset matrix\n",
    "def create_dataset(df, previous=1):\n",
    "    dataX, dataY = [], []\n",
    "    for i in range(len(df)-previous-1):\n",
    "        a = df[i:(i+previous), 0]\n",
    "        dataX.append(a)\n",
    "        dataY.append(df[i + previous, 0])\n",
    "    return np.array(dataX), np.array(dataY)"
   ]
  },
  {
   "cell_type": "code",
   "execution_count": 12,
   "metadata": {},
   "outputs": [
    {
     "data": {
      "text/html": [
       "<div>\n",
       "<style scoped>\n",
       "    .dataframe tbody tr th:only-of-type {\n",
       "        vertical-align: middle;\n",
       "    }\n",
       "\n",
       "    .dataframe tbody tr th {\n",
       "        vertical-align: top;\n",
       "    }\n",
       "\n",
       "    .dataframe thead th {\n",
       "        text-align: right;\n",
       "    }\n",
       "</style>\n",
       "<table border=\"1\" class=\"dataframe\">\n",
       "  <thead>\n",
       "    <tr style=\"text-align: right;\">\n",
       "      <th></th>\n",
       "      <th>rain</th>\n",
       "    </tr>\n",
       "  </thead>\n",
       "  <tbody>\n",
       "    <tr>\n",
       "      <th>0</th>\n",
       "      <td>193.0</td>\n",
       "    </tr>\n",
       "    <tr>\n",
       "      <th>1</th>\n",
       "      <td>295.4</td>\n",
       "    </tr>\n",
       "    <tr>\n",
       "      <th>2</th>\n",
       "      <td>127.9</td>\n",
       "    </tr>\n",
       "    <tr>\n",
       "      <th>3</th>\n",
       "      <td>106.1</td>\n",
       "    </tr>\n",
       "    <tr>\n",
       "      <th>4</th>\n",
       "      <td>53.9</td>\n",
       "    </tr>\n",
       "    <tr>\n",
       "      <th>...</th>\n",
       "      <td>...</td>\n",
       "    </tr>\n",
       "    <tr>\n",
       "      <th>707</th>\n",
       "      <td>131.2</td>\n",
       "    </tr>\n",
       "    <tr>\n",
       "      <th>708</th>\n",
       "      <td>150.6</td>\n",
       "    </tr>\n",
       "    <tr>\n",
       "      <th>709</th>\n",
       "      <td>189.1</td>\n",
       "    </tr>\n",
       "    <tr>\n",
       "      <th>710</th>\n",
       "      <td>139.1</td>\n",
       "    </tr>\n",
       "    <tr>\n",
       "      <th>711</th>\n",
       "      <td>107.9</td>\n",
       "    </tr>\n",
       "  </tbody>\n",
       "</table>\n",
       "<p>712 rows × 1 columns</p>\n",
       "</div>"
      ],
      "text/plain": [
       "      rain\n",
       "0    193.0\n",
       "1    295.4\n",
       "2    127.9\n",
       "3    106.1\n",
       "4     53.9\n",
       "..     ...\n",
       "707  131.2\n",
       "708  150.6\n",
       "709  189.1\n",
       "710  139.1\n",
       "711  107.9\n",
       "\n",
       "[712 rows x 1 columns]"
      ]
     },
     "execution_count": 12,
     "metadata": {},
     "output_type": "execute_result"
    }
   ],
   "source": [
    "df"
   ]
  },
  {
   "cell_type": "code",
   "execution_count": 13,
   "metadata": {},
   "outputs": [
    {
     "data": {
      "text/plain": [
       "array([[0.53242707],\n",
       "       [0.82242991],\n",
       "       [0.34806004],\n",
       "       [0.28632116],\n",
       "       [0.13848768],\n",
       "       [0.34494477],\n",
       "       [0.14811668],\n",
       "       [0.33050127],\n",
       "       [0.39139054],\n",
       "       [0.31067686],\n",
       "       [0.31634098],\n",
       "       [0.19003115],\n",
       "       [0.62390258],\n",
       "       [0.5865194 ],\n",
       "       [0.54007363],\n",
       "       [0.36731804],\n",
       "       [0.13055792],\n",
       "       [0.25828377],\n",
       "       [0.16737468],\n",
       "       [0.24468989],\n",
       "       [0.48937978],\n",
       "       [0.44038516],\n",
       "       [0.4709714 ],\n",
       "       [0.57320872],\n",
       "       [0.37751345],\n",
       "       [0.39025772],\n",
       "       [0.58850184],\n",
       "       [0.34211272],\n",
       "       [0.35032569],\n",
       "       [0.3268196 ],\n",
       "       [0.1922968 ],\n",
       "       [0.23760974],\n",
       "       [0.20504106],\n",
       "       [0.44916454],\n",
       "       [0.47352025],\n",
       "       [0.25403568],\n",
       "       [0.42367601],\n",
       "       [0.50438969],\n",
       "       [0.05947324],\n",
       "       [0.11894647],\n",
       "       [0.42877372],\n",
       "       [0.26649674],\n",
       "       [0.3367318 ],\n",
       "       [0.25630133],\n",
       "       [0.27131124],\n",
       "       [0.32427074],\n",
       "       [0.36731804],\n",
       "       [0.42962334],\n",
       "       [0.62956669],\n",
       "       [0.13622203],\n",
       "       [0.23647692],\n",
       "       [0.09742283],\n",
       "       [0.24214104],\n",
       "       [0.2163693 ],\n",
       "       [0.31804022],\n",
       "       [0.23251204],\n",
       "       [0.28745398],\n",
       "       [0.37751345],\n",
       "       [0.57377513],\n",
       "       [0.51203625],\n",
       "       [0.42622487],\n",
       "       [0.57094308],\n",
       "       [0.70943076],\n",
       "       [0.04672897],\n",
       "       [0.32540357],\n",
       "       [0.4372699 ],\n",
       "       [0.2452563 ],\n",
       "       [0.41857831],\n",
       "       [0.19484565],\n",
       "       [0.32455395],\n",
       "       [0.42537525],\n",
       "       [0.45341263],\n",
       "       [0.50297366],\n",
       "       [0.62560181],\n",
       "       [0.2883036 ],\n",
       "       [0.39790428],\n",
       "       [0.37156613],\n",
       "       [0.3171906 ],\n",
       "       [0.43500425],\n",
       "       [0.33814783],\n",
       "       [0.21580289],\n",
       "       [0.19342962],\n",
       "       [0.28462192],\n",
       "       [0.2931181 ],\n",
       "       [0.41716228],\n",
       "       [0.95497026],\n",
       "       [0.2931181 ],\n",
       "       [0.32936845],\n",
       "       [0.43642028],\n",
       "       [0.23421127],\n",
       "       [0.3171906 ],\n",
       "       [0.15802889],\n",
       "       [0.32115548],\n",
       "       [0.27329368],\n",
       "       [0.51090343],\n",
       "       [0.71990937],\n",
       "       [0.43302181],\n",
       "       [0.38232795],\n",
       "       [0.60379496],\n",
       "       [0.12800906],\n",
       "       [0.36788445],\n",
       "       [0.16765789],\n",
       "       [0.23449448],\n",
       "       [0.17133956],\n",
       "       [0.13055792],\n",
       "       [0.44066837],\n",
       "       [0.45284622],\n",
       "       [0.50580572],\n",
       "       [0.45001416],\n",
       "       [0.40894931],\n",
       "       [0.46049278],\n",
       "       [0.26508071],\n",
       "       [0.1634098 ],\n",
       "       [0.22571509],\n",
       "       [0.15038233],\n",
       "       [0.29849901],\n",
       "       [0.10818465],\n",
       "       [0.21042198],\n",
       "       [0.16765789],\n",
       "       [0.28518833],\n",
       "       [0.51713396],\n",
       "       [0.49079581],\n",
       "       [0.18606627],\n",
       "       [0.74199943],\n",
       "       [0.38770886],\n",
       "       [0.41121495],\n",
       "       [0.1107335 ],\n",
       "       [0.14811668],\n",
       "       [0.34862645],\n",
       "       [0.31464174],\n",
       "       [0.48314925],\n",
       "       [0.62475219],\n",
       "       [0.55168508],\n",
       "       [0.21835174],\n",
       "       [0.35542339],\n",
       "       [0.36618522],\n",
       "       [0.24072501],\n",
       "       [0.0815633 ],\n",
       "       [0.15463042],\n",
       "       [0.31067686],\n",
       "       [0.13084112],\n",
       "       [0.20419145],\n",
       "       [0.23024639],\n",
       "       [0.30331351],\n",
       "       [0.58595299],\n",
       "       [0.19314642],\n",
       "       [0.29651657],\n",
       "       [0.2645143 ],\n",
       "       [0.38176154],\n",
       "       [0.3845936 ],\n",
       "       [0.38572642],\n",
       "       [0.24752195],\n",
       "       [0.12687624],\n",
       "       [0.18210139],\n",
       "       [0.02237327],\n",
       "       [0.15491362],\n",
       "       [0.52931181],\n",
       "       [0.46587369],\n",
       "       [0.46304163],\n",
       "       [0.41036534],\n",
       "       [0.21750212],\n",
       "       [0.20589068],\n",
       "       [0.31407533],\n",
       "       [0.17558765],\n",
       "       [0.16907392],\n",
       "       [0.44463325],\n",
       "       [0.25290286],\n",
       "       [0.29085245],\n",
       "       [0.66581705],\n",
       "       [0.40611725],\n",
       "       [0.62588502],\n",
       "       [0.3990371 ],\n",
       "       [0.23845936],\n",
       "       [0.03993203],\n",
       "       [0.19088077],\n",
       "       [0.17417162],\n",
       "       [0.35287454],\n",
       "       [0.38572642],\n",
       "       [0.52081563],\n",
       "       [0.30048145],\n",
       "       [0.51600113],\n",
       "       [0.55848202],\n",
       "       [0.72387426],\n",
       "       [0.07080147],\n",
       "       [0.1874823 ],\n",
       "       [0.29679977],\n",
       "       [0.03625035],\n",
       "       [0.12064571],\n",
       "       [0.4613424 ],\n",
       "       [0.24129142],\n",
       "       [0.33050127],\n",
       "       [0.40073634],\n",
       "       [0.42764089],\n",
       "       [0.21495327],\n",
       "       [0.62730105],\n",
       "       [0.19088077],\n",
       "       [0.33616539],\n",
       "       [0.15774568],\n",
       "       [0.36222033],\n",
       "       [0.16737468],\n",
       "       [0.15746248],\n",
       "       [0.00226565],\n",
       "       [0.24412348],\n",
       "       [0.37864628],\n",
       "       [0.38742566],\n",
       "       [0.40583404],\n",
       "       [0.31804022],\n",
       "       [0.34381195],\n",
       "       [0.41687907],\n",
       "       [0.40611725],\n",
       "       [0.09175871],\n",
       "       [0.25545171],\n",
       "       [0.20447465],\n",
       "       [0.26649674],\n",
       "       [0.3608043 ],\n",
       "       [0.55451713],\n",
       "       [0.6828094 ],\n",
       "       [0.38147833],\n",
       "       [0.63891249],\n",
       "       [0.2546021 ],\n",
       "       [0.7114132 ],\n",
       "       [0.0911923 ],\n",
       "       [0.07958086],\n",
       "       [0.21013877],\n",
       "       [0.19824412],\n",
       "       [0.30104786],\n",
       "       [0.68960634],\n",
       "       [0.18804871],\n",
       "       [0.5046729 ],\n",
       "       [0.49107901],\n",
       "       [0.37609742],\n",
       "       [0.15293118],\n",
       "       [0.51373549],\n",
       "       [0.30812801],\n",
       "       [0.38034551],\n",
       "       [0.12715944],\n",
       "       [0.17672048],\n",
       "       [0.50920419],\n",
       "       [0.39393939],\n",
       "       [0.39365619],\n",
       "       [0.60379496],\n",
       "       [0.57802322],\n",
       "       [0.36420278],\n",
       "       [0.31379213],\n",
       "       [0.35174172],\n",
       "       [0.03540074],\n",
       "       [0.05720759],\n",
       "       [0.46700651],\n",
       "       [0.42395922],\n",
       "       [0.27470971],\n",
       "       [0.72274143],\n",
       "       [0.51231946],\n",
       "       [0.53214387],\n",
       "       [0.82101388],\n",
       "       [0.43642028],\n",
       "       [0.28632116],\n",
       "       [0.48456528],\n",
       "       [0.12546021],\n",
       "       [0.42650807],\n",
       "       [0.23137921],\n",
       "       [0.29934863],\n",
       "       [0.27159445],\n",
       "       [0.6828094 ],\n",
       "       [0.58057208],\n",
       "       [0.33389975],\n",
       "       [0.33503257],\n",
       "       [0.3797791 ],\n",
       "       [0.32370433],\n",
       "       [0.49164543],\n",
       "       [0.07278391],\n",
       "       [0.23902577],\n",
       "       [0.32625319],\n",
       "       [0.05664118],\n",
       "       [0.36930048],\n",
       "       [0.31039366],\n",
       "       [0.42905692],\n",
       "       [0.57037666],\n",
       "       [0.83092608],\n",
       "       [0.56414613],\n",
       "       [0.24100821],\n",
       "       [0.55621637],\n",
       "       [0.24950439],\n",
       "       [0.24384027],\n",
       "       [0.10846786],\n",
       "       [0.10308694],\n",
       "       [0.11271594],\n",
       "       [0.48428207],\n",
       "       [0.72302464],\n",
       "       [0.21920136],\n",
       "       [0.47720193],\n",
       "       [0.82271311],\n",
       "       [0.36873407],\n",
       "       [0.19484565],\n",
       "       [0.18549986],\n",
       "       [0.07448315],\n",
       "       [0.20560748],\n",
       "       [0.11129992],\n",
       "       [0.2019258 ],\n",
       "       [0.44746531],\n",
       "       [0.68875673],\n",
       "       [0.44661569],\n",
       "       [0.49079581],\n",
       "       [0.3027471 ],\n",
       "       [0.14556783],\n",
       "       [0.46077598],\n",
       "       [0.27216086],\n",
       "       [0.36420278],\n",
       "       [0.21948457],\n",
       "       [0.29113566],\n",
       "       [0.72160861],\n",
       "       [0.6779949 ],\n",
       "       [0.21325404],\n",
       "       [0.19852733],\n",
       "       [0.44888134],\n",
       "       [0.60294534],\n",
       "       [0.        ],\n",
       "       [0.59190031],\n",
       "       [0.38374398],\n",
       "       [0.56669499],\n",
       "       [0.27470971],\n",
       "       [0.26168224],\n",
       "       [0.43953554],\n",
       "       [0.05664118],\n",
       "       [0.60436137],\n",
       "       [0.62305296],\n",
       "       [0.75672614],\n",
       "       [0.21523648],\n",
       "       [0.2642311 ],\n",
       "       [0.42650807],\n",
       "       [0.14330218],\n",
       "       [0.17926933],\n",
       "       [0.22288304],\n",
       "       [0.28094024],\n",
       "       [0.38402719],\n",
       "       [0.40441801],\n",
       "       [0.4998584 ],\n",
       "       [0.44095157],\n",
       "       [0.28547154],\n",
       "       [0.72670632],\n",
       "       [0.39365619],\n",
       "       [0.64259417],\n",
       "       [0.13877089],\n",
       "       [0.17983574],\n",
       "       [0.13622203],\n",
       "       [0.44123478],\n",
       "       [0.5046729 ],\n",
       "       [0.48031719],\n",
       "       [0.48881337],\n",
       "       [0.24157462],\n",
       "       [0.31152648],\n",
       "       [0.37354857],\n",
       "       [0.48711413],\n",
       "       [0.47153781],\n",
       "       [0.20475786],\n",
       "       [0.11271594],\n",
       "       [0.27584254],\n",
       "       [0.09260833],\n",
       "       [0.53242707],\n",
       "       [0.19937695],\n",
       "       [0.86094591],\n",
       "       [0.30472954],\n",
       "       [0.36930048],\n",
       "       [0.64684225],\n",
       "       [0.73803455],\n",
       "       [0.30019824],\n",
       "       [0.35004248],\n",
       "       [0.04502974],\n",
       "       [0.31520816],\n",
       "       [0.21495327],\n",
       "       [0.25828377],\n",
       "       [0.20589068],\n",
       "       [0.75700935],\n",
       "       [0.41886151],\n",
       "       [0.69413764],\n",
       "       [0.41263098],\n",
       "       [0.27074483],\n",
       "       [0.33899745],\n",
       "       [0.58878505],\n",
       "       [0.06428774],\n",
       "       [0.31464174],\n",
       "       [0.32257151],\n",
       "       [0.24129142],\n",
       "       [0.2594166 ],\n",
       "       [0.38855848],\n",
       "       [0.56301331],\n",
       "       [0.45567828],\n",
       "       [0.2885868 ],\n",
       "       [0.38176154],\n",
       "       [0.54743699],\n",
       "       [0.38685925],\n",
       "       [0.26593033],\n",
       "       [0.13112433],\n",
       "       [0.35825545],\n",
       "       [0.57490796],\n",
       "       [0.38431039],\n",
       "       [0.45426225],\n",
       "       [0.68649108],\n",
       "       [0.38600963],\n",
       "       [0.60945908],\n",
       "       [0.1682243 ],\n",
       "       [0.23987539],\n",
       "       [0.34466157],\n",
       "       [0.42509204],\n",
       "       [0.29623336],\n",
       "       [0.32823563],\n",
       "       [0.22684792],\n",
       "       [0.27159445],\n",
       "       [0.13792127],\n",
       "       [0.22090059],\n",
       "       [0.94165959],\n",
       "       [0.68111017],\n",
       "       [0.30671198],\n",
       "       [0.74341546],\n",
       "       [0.4519966 ],\n",
       "       [0.23591051],\n",
       "       [0.32455395],\n",
       "       [0.23336165],\n",
       "       [0.2500708 ],\n",
       "       [0.20702351],\n",
       "       [0.24157462],\n",
       "       [0.37269895],\n",
       "       [0.69385443],\n",
       "       [0.61144152],\n",
       "       [0.44973095],\n",
       "       [0.50184084],\n",
       "       [0.16595865],\n",
       "       [0.22429907],\n",
       "       [0.08382894],\n",
       "       [0.35514019],\n",
       "       [0.01614274],\n",
       "       [0.27669216],\n",
       "       [0.4905126 ],\n",
       "       [0.37298216],\n",
       "       [0.16964033],\n",
       "       [0.18408383],\n",
       "       [0.51543472],\n",
       "       [0.20249221],\n",
       "       [0.23817615],\n",
       "       [0.2452563 ],\n",
       "       [0.14500142],\n",
       "       [0.26564713],\n",
       "       [0.29396771],\n",
       "       [0.18946474],\n",
       "       [0.58085528],\n",
       "       [0.51175304],\n",
       "       [0.25035401],\n",
       "       [0.06513735],\n",
       "       [0.55451713],\n",
       "       [0.23789295],\n",
       "       [0.10676862],\n",
       "       [0.26876239],\n",
       "       [0.21240442],\n",
       "       [0.33786463],\n",
       "       [0.28802039],\n",
       "       [0.3364486 ],\n",
       "       [0.26026621],\n",
       "       [0.35627301],\n",
       "       [0.63523081],\n",
       "       [0.45482866],\n",
       "       [0.36222033],\n",
       "       [0.33135089],\n",
       "       [0.26054942],\n",
       "       [0.17417162],\n",
       "       [0.41404701],\n",
       "       [0.39705466],\n",
       "       [0.66241858],\n",
       "       [0.25771736],\n",
       "       [0.67346361],\n",
       "       [0.5001416 ],\n",
       "       [0.54856981],\n",
       "       [0.64485981],\n",
       "       [0.46474087],\n",
       "       [0.30529595],\n",
       "       [0.40498442],\n",
       "       [0.22175021],\n",
       "       [0.21070518],\n",
       "       [0.2500708 ],\n",
       "       [0.38232795],\n",
       "       [0.51146984],\n",
       "       [0.3078448 ],\n",
       "       [0.58991787],\n",
       "       [1.        ],\n",
       "       [0.36306995],\n",
       "       [0.61908808],\n",
       "       [0.33474936],\n",
       "       [0.31407533],\n",
       "       [0.21297083],\n",
       "       [0.23336165],\n",
       "       [0.14613424],\n",
       "       [0.53214387],\n",
       "       [0.41064854],\n",
       "       [0.85188332],\n",
       "       [0.63211555],\n",
       "       [0.48343246],\n",
       "       [0.21467007],\n",
       "       [0.24468989],\n",
       "       [0.26054942],\n",
       "       [0.2546021 ],\n",
       "       [0.13905409],\n",
       "       [0.30246389],\n",
       "       [0.25885018],\n",
       "       [0.48258284],\n",
       "       [0.18096856],\n",
       "       [0.38714245],\n",
       "       [0.48513169],\n",
       "       [0.26338148],\n",
       "       [0.38714245],\n",
       "       [0.72557349],\n",
       "       [0.26168224],\n",
       "       [0.30161427],\n",
       "       [0.32257151],\n",
       "       [0.41631266],\n",
       "       [0.20815633],\n",
       "       [0.31379213],\n",
       "       [0.09515718],\n",
       "       [0.56329652],\n",
       "       [0.63806287],\n",
       "       [0.3653356 ],\n",
       "       [0.3701501 ],\n",
       "       [0.23789295],\n",
       "       [0.24129142],\n",
       "       [0.17332201],\n",
       "       [0.54885302],\n",
       "       [0.17983574],\n",
       "       [0.27442651],\n",
       "       [0.13735486],\n",
       "       [0.2594166 ],\n",
       "       [0.29934863],\n",
       "       [0.53752478],\n",
       "       [0.40101954],\n",
       "       [0.51486831],\n",
       "       [0.18946474],\n",
       "       [0.3364486 ],\n",
       "       [0.3174738 ],\n",
       "       [0.21806854],\n",
       "       [0.30104786],\n",
       "       [0.28037383],\n",
       "       [0.27640895],\n",
       "       [0.5482866 ],\n",
       "       [0.53186066],\n",
       "       [0.30926083],\n",
       "       [0.65477202],\n",
       "       [0.79637496],\n",
       "       [0.28178986],\n",
       "       [0.20334183],\n",
       "       [0.33928066],\n",
       "       [0.38232795],\n",
       "       [0.26083263],\n",
       "       [0.1104503 ],\n",
       "       [0.3605211 ],\n",
       "       [0.33588219],\n",
       "       [0.3653356 ],\n",
       "       [0.52761257],\n",
       "       [0.4471821 ],\n",
       "       [0.25743415],\n",
       "       [0.26819598],\n",
       "       [0.36760125],\n",
       "       [0.28178986],\n",
       "       [0.36986689],\n",
       "       [0.09289153],\n",
       "       [0.15264798],\n",
       "       [0.18125177],\n",
       "       [0.49221184],\n",
       "       [0.48994619],\n",
       "       [0.53044463],\n",
       "       [0.72302464],\n",
       "       [0.56046446],\n",
       "       [0.31605777],\n",
       "       [0.30727839],\n",
       "       [0.14358539],\n",
       "       [0.33021807],\n",
       "       [0.32880204],\n",
       "       [0.5287454 ],\n",
       "       [0.23336165],\n",
       "       [0.3268196 ],\n",
       "       [0.24638912],\n",
       "       [0.35910507],\n",
       "       [0.56782781],\n",
       "       [0.62871708],\n",
       "       [0.37524781],\n",
       "       [0.63777967],\n",
       "       [0.17728689],\n",
       "       [0.06825262],\n",
       "       [0.3463608 ],\n",
       "       [0.16142736],\n",
       "       [0.6057774 ],\n",
       "       [0.49249504],\n",
       "       [0.6921552 ],\n",
       "       [0.49362787],\n",
       "       [0.35202492],\n",
       "       [0.39308978],\n",
       "       [0.16086095],\n",
       "       [0.33446616],\n",
       "       [0.29963183],\n",
       "       [0.35060889],\n",
       "       [0.17700368],\n",
       "       [0.67629567],\n",
       "       [0.70716511],\n",
       "       [0.23251204],\n",
       "       [0.3605211 ],\n",
       "       [0.89946191],\n",
       "       [0.36476919],\n",
       "       [0.22939677],\n",
       "       [0.18153498],\n",
       "       [0.21948457],\n",
       "       [0.12404418],\n",
       "       [0.12234494],\n",
       "       [0.11129992],\n",
       "       [0.35202492],\n",
       "       [0.26961201],\n",
       "       [0.72897196],\n",
       "       [0.34239592],\n",
       "       [0.66581705],\n",
       "       [0.18351742],\n",
       "       [0.23619371],\n",
       "       [0.53157746],\n",
       "       [0.21976777],\n",
       "       [0.23845936],\n",
       "       [0.4420844 ],\n",
       "       [0.25800057],\n",
       "       [0.18210139],\n",
       "       [0.36845086],\n",
       "       [0.54970263],\n",
       "       [0.7694704 ],\n",
       "       [0.45879354],\n",
       "       [0.81676579],\n",
       "       [0.51260266],\n",
       "       [0.46445766],\n",
       "       [0.18606627],\n",
       "       [0.2308128 ],\n",
       "       [0.2067403 ],\n",
       "       [0.49192863],\n",
       "       [0.30048145],\n",
       "       [0.27782498],\n",
       "       [0.54007363],\n",
       "       [0.32115548],\n",
       "       [0.48343246],\n",
       "       [0.51600113],\n",
       "       [0.5961484 ],\n",
       "       [0.25290286],\n",
       "       [0.15689606],\n",
       "       [0.34324554],\n",
       "       [0.4372699 ],\n",
       "       [0.16935712],\n",
       "       [0.25375248],\n",
       "       [0.27357689],\n",
       "       [0.25120363],\n",
       "       [0.30104786],\n",
       "       [0.32427074],\n",
       "       [0.5386576 ],\n",
       "       [0.82384594],\n",
       "       [0.70150099],\n",
       "       [0.34069669],\n",
       "       [0.13140753],\n",
       "       [0.35882186],\n",
       "       [0.20928915],\n",
       "       [0.23421127],\n",
       "       [0.31435854],\n",
       "       [0.02917021],\n",
       "       [0.43557066],\n",
       "       [0.36703483],\n",
       "       [0.78646276],\n",
       "       [0.71481167],\n",
       "       [0.40753328],\n",
       "       [0.41064854],\n",
       "       [0.32965166],\n",
       "       [0.4420844 ],\n",
       "       [0.12687624],\n",
       "       [0.41716228],\n",
       "       [0.30869442],\n",
       "       [0.42707448],\n",
       "       [0.22741433],\n",
       "       [0.93571226],\n",
       "       [0.77428491],\n",
       "       [0.51316907],\n",
       "       [0.68139337],\n",
       "       [0.38091192],\n",
       "       [0.25913339],\n",
       "       [0.13055792],\n",
       "       [0.34692722],\n",
       "       [0.27782498],\n",
       "       [0.35967148],\n",
       "       [0.54120646],\n",
       "       [0.10280374],\n",
       "       [0.43896913],\n",
       "       [0.25856698],\n",
       "       [0.24695554],\n",
       "       [0.38714245],\n",
       "       [0.62531861],\n",
       "       [0.0574908 ],\n",
       "       [0.16425942],\n",
       "       [0.26564713],\n",
       "       [0.50184084],\n",
       "       [0.51316907],\n",
       "       [0.40158595],\n",
       "       [0.48768054],\n",
       "       [0.5720759 ],\n",
       "       [0.49929199],\n",
       "       [0.74964599],\n",
       "       [0.42480884],\n",
       "       [0.23307845],\n",
       "       [0.22996318],\n",
       "       [0.16624186],\n",
       "       [0.15972812],\n",
       "       [0.14273577],\n",
       "       [0.48116681],\n",
       "       [0.38855848],\n",
       "       [0.35740583],\n",
       "       [0.41234778],\n",
       "       [0.52138204],\n",
       "       [0.3797791 ],\n",
       "       [0.29141886]])"
      ]
     },
     "execution_count": 13,
     "metadata": {},
     "output_type": "execute_result"
    }
   ],
   "source": [
    "# normalize dataset with MinMaxScaler\n",
    "scaler = MinMaxScaler(feature_range=(0, 1))\n",
    "df = scaler.fit_transform(df)\n",
    "df"
   ]
  },
  {
   "cell_type": "code",
   "execution_count": 14,
   "metadata": {},
   "outputs": [
    {
     "name": "stderr",
     "output_type": "stream",
     "text": [
      "/home/michael/anaconda3/lib/python3.6/site-packages/tensorflow/python/framework/dtypes.py:523: FutureWarning: Passing (type, 1) or '1type' as a synonym of type is deprecated; in a future version of numpy, it will be understood as (type, (1,)) / '(1,)type'.\n",
      "  _np_qint8 = np.dtype([(\"qint8\", np.int8, 1)])\n",
      "/home/michael/anaconda3/lib/python3.6/site-packages/tensorflow/python/framework/dtypes.py:524: FutureWarning: Passing (type, 1) or '1type' as a synonym of type is deprecated; in a future version of numpy, it will be understood as (type, (1,)) / '(1,)type'.\n",
      "  _np_quint8 = np.dtype([(\"quint8\", np.uint8, 1)])\n",
      "/home/michael/anaconda3/lib/python3.6/site-packages/tensorflow/python/framework/dtypes.py:525: FutureWarning: Passing (type, 1) or '1type' as a synonym of type is deprecated; in a future version of numpy, it will be understood as (type, (1,)) / '(1,)type'.\n",
      "  _np_qint16 = np.dtype([(\"qint16\", np.int16, 1)])\n",
      "/home/michael/anaconda3/lib/python3.6/site-packages/tensorflow/python/framework/dtypes.py:526: FutureWarning: Passing (type, 1) or '1type' as a synonym of type is deprecated; in a future version of numpy, it will be understood as (type, (1,)) / '(1,)type'.\n",
      "  _np_quint16 = np.dtype([(\"quint16\", np.uint16, 1)])\n",
      "/home/michael/anaconda3/lib/python3.6/site-packages/tensorflow/python/framework/dtypes.py:527: FutureWarning: Passing (type, 1) or '1type' as a synonym of type is deprecated; in a future version of numpy, it will be understood as (type, (1,)) / '(1,)type'.\n",
      "  _np_qint32 = np.dtype([(\"qint32\", np.int32, 1)])\n",
      "/home/michael/anaconda3/lib/python3.6/site-packages/tensorflow/python/framework/dtypes.py:532: FutureWarning: Passing (type, 1) or '1type' as a synonym of type is deprecated; in a future version of numpy, it will be understood as (type, (1,)) / '(1,)type'.\n",
      "  np_resource = np.dtype([(\"resource\", np.ubyte, 1)])\n",
      "/home/michael/anaconda3/lib/python3.6/site-packages/tensorboard/compat/tensorflow_stub/dtypes.py:541: FutureWarning: Passing (type, 1) or '1type' as a synonym of type is deprecated; in a future version of numpy, it will be understood as (type, (1,)) / '(1,)type'.\n",
      "  _np_qint8 = np.dtype([(\"qint8\", np.int8, 1)])\n",
      "/home/michael/anaconda3/lib/python3.6/site-packages/tensorboard/compat/tensorflow_stub/dtypes.py:542: FutureWarning: Passing (type, 1) or '1type' as a synonym of type is deprecated; in a future version of numpy, it will be understood as (type, (1,)) / '(1,)type'.\n",
      "  _np_quint8 = np.dtype([(\"quint8\", np.uint8, 1)])\n",
      "/home/michael/anaconda3/lib/python3.6/site-packages/tensorboard/compat/tensorflow_stub/dtypes.py:543: FutureWarning: Passing (type, 1) or '1type' as a synonym of type is deprecated; in a future version of numpy, it will be understood as (type, (1,)) / '(1,)type'.\n",
      "  _np_qint16 = np.dtype([(\"qint16\", np.int16, 1)])\n",
      "/home/michael/anaconda3/lib/python3.6/site-packages/tensorboard/compat/tensorflow_stub/dtypes.py:544: FutureWarning: Passing (type, 1) or '1type' as a synonym of type is deprecated; in a future version of numpy, it will be understood as (type, (1,)) / '(1,)type'.\n",
      "  _np_quint16 = np.dtype([(\"quint16\", np.uint16, 1)])\n",
      "/home/michael/anaconda3/lib/python3.6/site-packages/tensorboard/compat/tensorflow_stub/dtypes.py:545: FutureWarning: Passing (type, 1) or '1type' as a synonym of type is deprecated; in a future version of numpy, it will be understood as (type, (1,)) / '(1,)type'.\n",
      "  _np_qint32 = np.dtype([(\"qint32\", np.int32, 1)])\n",
      "/home/michael/anaconda3/lib/python3.6/site-packages/tensorboard/compat/tensorflow_stub/dtypes.py:550: FutureWarning: Passing (type, 1) or '1type' as a synonym of type is deprecated; in a future version of numpy, it will be understood as (type, (1,)) / '(1,)type'.\n",
      "  np_resource = np.dtype([(\"resource\", np.ubyte, 1)])\n"
     ]
    }
   ],
   "source": [
    "import tensorflow as tf\n",
    "from tensorflow.keras import layers\n",
    "from tensorflow.keras.layers import Dense\n",
    "from tensorflow.keras.layers import LSTM\n",
    "\n",
    "# Training and Validation data partition\n",
    "train_size = int(len(df) * 0.8)\n",
    "val_size = len(df) - train_size\n",
    "train, val = df[0:train_size,:], df[train_size:len(df),:]\n",
    "\n",
    "# Number of previous\n",
    "previous = 120\n",
    "X_train, Y_train = create_dataset(train, previous)\n",
    "X_val, Y_val = create_dataset(val, previous)"
   ]
  },
  {
   "cell_type": "code",
   "execution_count": 15,
   "metadata": {},
   "outputs": [
    {
     "data": {
      "text/plain": [
       "array([[0.53242707, 0.82242991, 0.34806004, ..., 0.21042198, 0.16765789,\n",
       "        0.28518833],\n",
       "       [0.82242991, 0.34806004, 0.28632116, ..., 0.16765789, 0.28518833,\n",
       "        0.51713396],\n",
       "       [0.34806004, 0.28632116, 0.13848768, ..., 0.28518833, 0.51713396,\n",
       "        0.49079581],\n",
       "       ...,\n",
       "       [0.25035401, 0.06513735, 0.55451713, ..., 0.49221184, 0.48994619,\n",
       "        0.53044463],\n",
       "       [0.06513735, 0.55451713, 0.23789295, ..., 0.48994619, 0.53044463,\n",
       "        0.72302464],\n",
       "       [0.55451713, 0.23789295, 0.10676862, ..., 0.53044463, 0.72302464,\n",
       "        0.56046446]])"
      ]
     },
     "execution_count": 15,
     "metadata": {},
     "output_type": "execute_result"
    }
   ],
   "source": [
    "X_train"
   ]
  },
  {
   "cell_type": "code",
   "execution_count": 16,
   "metadata": {},
   "outputs": [
    {
     "data": {
      "text/plain": [
       "array([0.51713396, 0.49079581, 0.18606627, 0.74199943, 0.38770886,\n",
       "       0.41121495, 0.1107335 , 0.14811668, 0.34862645, 0.31464174,\n",
       "       0.48314925, 0.62475219, 0.55168508, 0.21835174, 0.35542339,\n",
       "       0.36618522, 0.24072501, 0.0815633 , 0.15463042, 0.31067686,\n",
       "       0.13084112, 0.20419145, 0.23024639, 0.30331351, 0.58595299,\n",
       "       0.19314642, 0.29651657, 0.2645143 , 0.38176154, 0.3845936 ,\n",
       "       0.38572642, 0.24752195, 0.12687624, 0.18210139, 0.02237327,\n",
       "       0.15491362, 0.52931181, 0.46587369, 0.46304163, 0.41036534,\n",
       "       0.21750212, 0.20589068, 0.31407533, 0.17558765, 0.16907392,\n",
       "       0.44463325, 0.25290286, 0.29085245, 0.66581705, 0.40611725,\n",
       "       0.62588502, 0.3990371 , 0.23845936, 0.03993203, 0.19088077,\n",
       "       0.17417162, 0.35287454, 0.38572642, 0.52081563, 0.30048145,\n",
       "       0.51600113, 0.55848202, 0.72387426, 0.07080147, 0.1874823 ,\n",
       "       0.29679977, 0.03625035, 0.12064571, 0.4613424 , 0.24129142,\n",
       "       0.33050127, 0.40073634, 0.42764089, 0.21495327, 0.62730105,\n",
       "       0.19088077, 0.33616539, 0.15774568, 0.36222033, 0.16737468,\n",
       "       0.15746248, 0.00226565, 0.24412348, 0.37864628, 0.38742566,\n",
       "       0.40583404, 0.31804022, 0.34381195, 0.41687907, 0.40611725,\n",
       "       0.09175871, 0.25545171, 0.20447465, 0.26649674, 0.3608043 ,\n",
       "       0.55451713, 0.6828094 , 0.38147833, 0.63891249, 0.2546021 ,\n",
       "       0.7114132 , 0.0911923 , 0.07958086, 0.21013877, 0.19824412,\n",
       "       0.30104786, 0.68960634, 0.18804871, 0.5046729 , 0.49107901,\n",
       "       0.37609742, 0.15293118, 0.51373549, 0.30812801, 0.38034551,\n",
       "       0.12715944, 0.17672048, 0.50920419, 0.39393939, 0.39365619,\n",
       "       0.60379496, 0.57802322, 0.36420278, 0.31379213, 0.35174172,\n",
       "       0.03540074, 0.05720759, 0.46700651, 0.42395922, 0.27470971,\n",
       "       0.72274143, 0.51231946, 0.53214387, 0.82101388, 0.43642028,\n",
       "       0.28632116, 0.48456528, 0.12546021, 0.42650807, 0.23137921,\n",
       "       0.29934863, 0.27159445, 0.6828094 , 0.58057208, 0.33389975,\n",
       "       0.33503257, 0.3797791 , 0.32370433, 0.49164543, 0.07278391,\n",
       "       0.23902577, 0.32625319, 0.05664118, 0.36930048, 0.31039366,\n",
       "       0.42905692, 0.57037666, 0.83092608, 0.56414613, 0.24100821,\n",
       "       0.55621637, 0.24950439, 0.24384027, 0.10846786, 0.10308694,\n",
       "       0.11271594, 0.48428207, 0.72302464, 0.21920136, 0.47720193,\n",
       "       0.82271311, 0.36873407, 0.19484565, 0.18549986, 0.07448315,\n",
       "       0.20560748, 0.11129992, 0.2019258 , 0.44746531, 0.68875673,\n",
       "       0.44661569, 0.49079581, 0.3027471 , 0.14556783, 0.46077598,\n",
       "       0.27216086, 0.36420278, 0.21948457, 0.29113566, 0.72160861,\n",
       "       0.6779949 , 0.21325404, 0.19852733, 0.44888134, 0.60294534,\n",
       "       0.        , 0.59190031, 0.38374398, 0.56669499, 0.27470971,\n",
       "       0.26168224, 0.43953554, 0.05664118, 0.60436137, 0.62305296,\n",
       "       0.75672614, 0.21523648, 0.2642311 , 0.42650807, 0.14330218,\n",
       "       0.17926933, 0.22288304, 0.28094024, 0.38402719, 0.40441801,\n",
       "       0.4998584 , 0.44095157, 0.28547154, 0.72670632, 0.39365619,\n",
       "       0.64259417, 0.13877089, 0.17983574, 0.13622203, 0.44123478,\n",
       "       0.5046729 , 0.48031719, 0.48881337, 0.24157462, 0.31152648,\n",
       "       0.37354857, 0.48711413, 0.47153781, 0.20475786, 0.11271594,\n",
       "       0.27584254, 0.09260833, 0.53242707, 0.19937695, 0.86094591,\n",
       "       0.30472954, 0.36930048, 0.64684225, 0.73803455, 0.30019824,\n",
       "       0.35004248, 0.04502974, 0.31520816, 0.21495327, 0.25828377,\n",
       "       0.20589068, 0.75700935, 0.41886151, 0.69413764, 0.41263098,\n",
       "       0.27074483, 0.33899745, 0.58878505, 0.06428774, 0.31464174,\n",
       "       0.32257151, 0.24129142, 0.2594166 , 0.38855848, 0.56301331,\n",
       "       0.45567828, 0.2885868 , 0.38176154, 0.54743699, 0.38685925,\n",
       "       0.26593033, 0.13112433, 0.35825545, 0.57490796, 0.38431039,\n",
       "       0.45426225, 0.68649108, 0.38600963, 0.60945908, 0.1682243 ,\n",
       "       0.23987539, 0.34466157, 0.42509204, 0.29623336, 0.32823563,\n",
       "       0.22684792, 0.27159445, 0.13792127, 0.22090059, 0.94165959,\n",
       "       0.68111017, 0.30671198, 0.74341546, 0.4519966 , 0.23591051,\n",
       "       0.32455395, 0.23336165, 0.2500708 , 0.20702351, 0.24157462,\n",
       "       0.37269895, 0.69385443, 0.61144152, 0.44973095, 0.50184084,\n",
       "       0.16595865, 0.22429907, 0.08382894, 0.35514019, 0.01614274,\n",
       "       0.27669216, 0.4905126 , 0.37298216, 0.16964033, 0.18408383,\n",
       "       0.51543472, 0.20249221, 0.23817615, 0.2452563 , 0.14500142,\n",
       "       0.26564713, 0.29396771, 0.18946474, 0.58085528, 0.51175304,\n",
       "       0.25035401, 0.06513735, 0.55451713, 0.23789295, 0.10676862,\n",
       "       0.26876239, 0.21240442, 0.33786463, 0.28802039, 0.3364486 ,\n",
       "       0.26026621, 0.35627301, 0.63523081, 0.45482866, 0.36222033,\n",
       "       0.33135089, 0.26054942, 0.17417162, 0.41404701, 0.39705466,\n",
       "       0.66241858, 0.25771736, 0.67346361, 0.5001416 , 0.54856981,\n",
       "       0.64485981, 0.46474087, 0.30529595, 0.40498442, 0.22175021,\n",
       "       0.21070518, 0.2500708 , 0.38232795, 0.51146984, 0.3078448 ,\n",
       "       0.58991787, 1.        , 0.36306995, 0.61908808, 0.33474936,\n",
       "       0.31407533, 0.21297083, 0.23336165, 0.14613424, 0.53214387,\n",
       "       0.41064854, 0.85188332, 0.63211555, 0.48343246, 0.21467007,\n",
       "       0.24468989, 0.26054942, 0.2546021 , 0.13905409, 0.30246389,\n",
       "       0.25885018, 0.48258284, 0.18096856, 0.38714245, 0.48513169,\n",
       "       0.26338148, 0.38714245, 0.72557349, 0.26168224, 0.30161427,\n",
       "       0.32257151, 0.41631266, 0.20815633, 0.31379213, 0.09515718,\n",
       "       0.56329652, 0.63806287, 0.3653356 , 0.3701501 , 0.23789295,\n",
       "       0.24129142, 0.17332201, 0.54885302, 0.17983574, 0.27442651,\n",
       "       0.13735486, 0.2594166 , 0.29934863, 0.53752478, 0.40101954,\n",
       "       0.51486831, 0.18946474, 0.3364486 , 0.3174738 , 0.21806854,\n",
       "       0.30104786, 0.28037383, 0.27640895, 0.5482866 , 0.53186066,\n",
       "       0.30926083, 0.65477202, 0.79637496, 0.28178986, 0.20334183,\n",
       "       0.33928066, 0.38232795, 0.26083263, 0.1104503 , 0.3605211 ,\n",
       "       0.33588219, 0.3653356 , 0.52761257, 0.4471821 , 0.25743415,\n",
       "       0.26819598, 0.36760125, 0.28178986, 0.36986689, 0.09289153,\n",
       "       0.15264798, 0.18125177, 0.49221184, 0.48994619, 0.53044463,\n",
       "       0.72302464, 0.56046446, 0.31605777])"
      ]
     },
     "execution_count": 16,
     "metadata": {},
     "output_type": "execute_result"
    }
   ],
   "source": [
    "Y_train"
   ]
  },
  {
   "cell_type": "code",
   "execution_count": 17,
   "metadata": {},
   "outputs": [
    {
     "name": "stdout",
     "output_type": "stream",
     "text": [
      "Train on 358 samples, validate on 90 samples\n",
      "Epoch 1/100\n",
      "358/358 - 0s - loss: 0.1882 - val_loss: 0.1623\n",
      "Epoch 2/100\n",
      "358/358 - 0s - loss: 0.1583 - val_loss: 0.1348\n",
      "Epoch 3/100\n",
      "358/358 - 0s - loss: 0.1326 - val_loss: 0.1113\n",
      "Epoch 4/100\n",
      "358/358 - 0s - loss: 0.1105 - val_loss: 0.0913\n",
      "Epoch 5/100\n",
      "358/358 - 0s - loss: 0.0917 - val_loss: 0.0745\n",
      "Epoch 6/100\n",
      "358/358 - 0s - loss: 0.0759 - val_loss: 0.0608\n",
      "Epoch 7/100\n",
      "358/358 - 0s - loss: 0.0629 - val_loss: 0.0499\n",
      "Epoch 8/100\n",
      "358/358 - 0s - loss: 0.0526 - val_loss: 0.0417\n",
      "Epoch 9/100\n",
      "358/358 - 0s - loss: 0.0448 - val_loss: 0.0359\n",
      "Epoch 10/100\n",
      "358/358 - 0s - loss: 0.0394 - val_loss: 0.0324\n",
      "Epoch 11/100\n",
      "358/358 - 0s - loss: 0.0360 - val_loss: 0.0308\n",
      "Epoch 12/100\n",
      "358/358 - 0s - loss: 0.0343 - val_loss: 0.0306\n",
      "Epoch 13/100\n",
      "358/358 - 0s - loss: 0.0341 - val_loss: 0.0314\n",
      "Epoch 14/100\n",
      "358/358 - 0s - loss: 0.0348 - val_loss: 0.0327\n",
      "Epoch 15/100\n",
      "358/358 - 0s - loss: 0.0359 - val_loss: 0.0341\n",
      "Epoch 16/100\n",
      "358/358 - 0s - loss: 0.0371 - val_loss: 0.0352\n",
      "Epoch 17/100\n",
      "358/358 - 0s - loss: 0.0382 - val_loss: 0.0359\n",
      "Epoch 18/100\n",
      "358/358 - 0s - loss: 0.0388 - val_loss: 0.0361\n",
      "Epoch 19/100\n",
      "358/358 - 0s - loss: 0.0390 - val_loss: 0.0359\n",
      "Epoch 20/100\n",
      "358/358 - 0s - loss: 0.0388 - val_loss: 0.0353\n",
      "Epoch 21/100\n",
      "358/358 - 0s - loss: 0.0382 - val_loss: 0.0344\n",
      "Epoch 22/100\n",
      "358/358 - 0s - loss: 0.0373 - val_loss: 0.0333\n",
      "Epoch 23/100\n",
      "358/358 - 0s - loss: 0.0363 - val_loss: 0.0322\n",
      "Epoch 24/100\n",
      "358/358 - 0s - loss: 0.0352 - val_loss: 0.0312\n",
      "Epoch 25/100\n",
      "358/358 - 0s - loss: 0.0341 - val_loss: 0.0302\n",
      "Epoch 26/100\n",
      "358/358 - 0s - loss: 0.0332 - val_loss: 0.0293\n",
      "Epoch 27/100\n",
      "358/358 - 0s - loss: 0.0323 - val_loss: 0.0287\n",
      "Epoch 28/100\n",
      "358/358 - 0s - loss: 0.0316 - val_loss: 0.0282\n",
      "Epoch 29/100\n",
      "358/358 - 0s - loss: 0.0311 - val_loss: 0.0279\n",
      "Epoch 30/100\n",
      "358/358 - 0s - loss: 0.0307 - val_loss: 0.0278\n",
      "Epoch 31/100\n",
      "358/358 - 0s - loss: 0.0305 - val_loss: 0.0278\n",
      "Epoch 32/100\n",
      "358/358 - 0s - loss: 0.0304 - val_loss: 0.0279\n",
      "Epoch 33/100\n",
      "358/358 - 0s - loss: 0.0304 - val_loss: 0.0280\n",
      "Epoch 34/100\n",
      "358/358 - 0s - loss: 0.0305 - val_loss: 0.0281\n",
      "Epoch 35/100\n",
      "358/358 - 0s - loss: 0.0305 - val_loss: 0.0283\n",
      "Epoch 36/100\n",
      "358/358 - 0s - loss: 0.0306 - val_loss: 0.0284\n",
      "Epoch 37/100\n",
      "358/358 - 0s - loss: 0.0307 - val_loss: 0.0285\n",
      "Epoch 38/100\n",
      "358/358 - 0s - loss: 0.0308 - val_loss: 0.0286\n",
      "Epoch 39/100\n",
      "358/358 - 0s - loss: 0.0308 - val_loss: 0.0286\n",
      "Epoch 40/100\n",
      "358/358 - 0s - loss: 0.0308 - val_loss: 0.0285\n",
      "Epoch 41/100\n",
      "358/358 - 0s - loss: 0.0307 - val_loss: 0.0284\n",
      "Epoch 42/100\n",
      "358/358 - 0s - loss: 0.0306 - val_loss: 0.0283\n",
      "Epoch 43/100\n",
      "358/358 - 0s - loss: 0.0304 - val_loss: 0.0281\n",
      "Epoch 44/100\n",
      "358/358 - 0s - loss: 0.0303 - val_loss: 0.0279\n",
      "Epoch 45/100\n",
      "358/358 - 0s - loss: 0.0301 - val_loss: 0.0277\n",
      "Epoch 46/100\n",
      "358/358 - 0s - loss: 0.0300 - val_loss: 0.0276\n",
      "Epoch 47/100\n",
      "358/358 - 0s - loss: 0.0298 - val_loss: 0.0274\n",
      "Epoch 48/100\n",
      "358/358 - 0s - loss: 0.0297 - val_loss: 0.0272\n",
      "Epoch 49/100\n",
      "358/358 - 0s - loss: 0.0295 - val_loss: 0.0271\n",
      "Epoch 50/100\n",
      "358/358 - 0s - loss: 0.0294 - val_loss: 0.0270\n",
      "Epoch 51/100\n",
      "358/358 - 0s - loss: 0.0294 - val_loss: 0.0269\n",
      "Epoch 52/100\n",
      "358/358 - 0s - loss: 0.0293 - val_loss: 0.0268\n",
      "Epoch 53/100\n",
      "358/358 - 0s - loss: 0.0292 - val_loss: 0.0268\n",
      "Epoch 54/100\n",
      "358/358 - 0s - loss: 0.0292 - val_loss: 0.0267\n",
      "Epoch 55/100\n",
      "358/358 - 0s - loss: 0.0292 - val_loss: 0.0267\n",
      "Epoch 56/100\n",
      "358/358 - 0s - loss: 0.0292 - val_loss: 0.0267\n",
      "Epoch 57/100\n",
      "358/358 - 0s - loss: 0.0291 - val_loss: 0.0266\n",
      "Epoch 58/100\n",
      "358/358 - 0s - loss: 0.0291 - val_loss: 0.0266\n",
      "Epoch 59/100\n",
      "358/358 - 0s - loss: 0.0291 - val_loss: 0.0266\n",
      "Epoch 60/100\n",
      "358/358 - 0s - loss: 0.0290 - val_loss: 0.0266\n",
      "Epoch 61/100\n",
      "358/358 - 0s - loss: 0.0290 - val_loss: 0.0265\n",
      "Epoch 62/100\n",
      "358/358 - 0s - loss: 0.0289 - val_loss: 0.0265\n",
      "Epoch 63/100\n",
      "358/358 - 0s - loss: 0.0289 - val_loss: 0.0264\n",
      "Epoch 64/100\n",
      "358/358 - 0s - loss: 0.0288 - val_loss: 0.0264\n",
      "Epoch 65/100\n",
      "358/358 - 0s - loss: 0.0288 - val_loss: 0.0264\n",
      "Epoch 66/100\n",
      "358/358 - 0s - loss: 0.0287 - val_loss: 0.0263\n",
      "Epoch 67/100\n",
      "358/358 - 0s - loss: 0.0286 - val_loss: 0.0263\n",
      "Epoch 68/100\n",
      "358/358 - 0s - loss: 0.0286 - val_loss: 0.0263\n",
      "Epoch 69/100\n",
      "358/358 - 0s - loss: 0.0285 - val_loss: 0.0262\n",
      "Epoch 70/100\n",
      "358/358 - 0s - loss: 0.0285 - val_loss: 0.0262\n",
      "Epoch 71/100\n",
      "358/358 - 0s - loss: 0.0285 - val_loss: 0.0262\n",
      "Epoch 72/100\n",
      "358/358 - 0s - loss: 0.0284 - val_loss: 0.0262\n",
      "Epoch 73/100\n",
      "358/358 - 0s - loss: 0.0284 - val_loss: 0.0262\n",
      "Epoch 74/100\n",
      "358/358 - 0s - loss: 0.0283 - val_loss: 0.0261\n",
      "Epoch 75/100\n",
      "358/358 - 0s - loss: 0.0283 - val_loss: 0.0261\n",
      "Epoch 76/100\n",
      "358/358 - 0s - loss: 0.0283 - val_loss: 0.0261\n",
      "Epoch 77/100\n",
      "358/358 - 0s - loss: 0.0282 - val_loss: 0.0261\n",
      "Epoch 78/100\n",
      "358/358 - 0s - loss: 0.0282 - val_loss: 0.0260\n",
      "Epoch 79/100\n",
      "358/358 - 0s - loss: 0.0282 - val_loss: 0.0260\n",
      "Epoch 80/100\n",
      "358/358 - 0s - loss: 0.0281 - val_loss: 0.0260\n",
      "Epoch 81/100\n",
      "358/358 - 0s - loss: 0.0281 - val_loss: 0.0259\n",
      "Epoch 82/100\n",
      "358/358 - 0s - loss: 0.0280 - val_loss: 0.0259\n",
      "Epoch 83/100\n",
      "358/358 - 0s - loss: 0.0280 - val_loss: 0.0259\n",
      "Epoch 84/100\n",
      "358/358 - 0s - loss: 0.0280 - val_loss: 0.0258\n",
      "Epoch 85/100\n",
      "358/358 - 0s - loss: 0.0279 - val_loss: 0.0258\n",
      "Epoch 86/100\n",
      "358/358 - 0s - loss: 0.0279 - val_loss: 0.0258\n",
      "Epoch 87/100\n",
      "358/358 - 0s - loss: 0.0278 - val_loss: 0.0257\n",
      "Epoch 88/100\n",
      "358/358 - 0s - loss: 0.0278 - val_loss: 0.0257\n",
      "Epoch 89/100\n",
      "358/358 - 0s - loss: 0.0278 - val_loss: 0.0257\n",
      "Epoch 90/100\n",
      "358/358 - 0s - loss: 0.0277 - val_loss: 0.0256\n",
      "Epoch 91/100\n",
      "358/358 - 0s - loss: 0.0277 - val_loss: 0.0256\n",
      "Epoch 92/100\n",
      "358/358 - 0s - loss: 0.0277 - val_loss: 0.0256\n",
      "Epoch 93/100\n",
      "358/358 - 0s - loss: 0.0276 - val_loss: 0.0255\n",
      "Epoch 94/100\n",
      "358/358 - 0s - loss: 0.0276 - val_loss: 0.0255\n",
      "Epoch 95/100\n",
      "358/358 - 0s - loss: 0.0276 - val_loss: 0.0255\n",
      "Epoch 96/100\n",
      "358/358 - 0s - loss: 0.0275 - val_loss: 0.0255\n",
      "Epoch 97/100\n",
      "358/358 - 0s - loss: 0.0275 - val_loss: 0.0254\n",
      "Epoch 98/100\n",
      "358/358 - 0s - loss: 0.0275 - val_loss: 0.0254\n",
      "Epoch 99/100\n",
      "358/358 - 0s - loss: 0.0274 - val_loss: 0.0254\n",
      "Epoch 100/100\n",
      "358/358 - 0s - loss: 0.0274 - val_loss: 0.0254\n",
      "dict_keys(['loss', 'val_loss'])\n"
     ]
    },
    {
     "data": {
      "image/png": "[encoded data removed]",
      "text/plain": [
       "<Figure size 432x288 with 1 Axes>"
      ]
     },
     "metadata": {
      "needs_background": "light"
     },
     "output_type": "display_data"
    }
   ],
   "source": [
    "# reshape input to be [samples, time steps, features]\n",
    "X_train = np.reshape(X_train, (X_train.shape[0], 1, X_train.shape[1]))\n",
    "X_val = np.reshape(X_val, (X_val.shape[0], 1, X_val.shape[1]))\n",
    "\n",
    "# Generate LSTM network\n",
    "model = tf.keras.Sequential()\n",
    "model.add(LSTM(4, input_shape=(1, previous)))\n",
    "model.add(Dense(1))\n",
    "model.compile(loss='mean_squared_error', optimizer='adam')\n",
    "history=model.fit(X_train, Y_train, validation_split=0.2, epochs=100, batch_size=712, verbose=2)\n",
    "\n",
    "\n",
    "# list all data in history\n",
    "print(history.history.keys())\n",
    "# summarize history for accuracy\n",
    "plt.plot(history.history['loss'])\n",
    "plt.plot(history.history['val_loss'])\n",
    "plt.title('model loss')\n",
    "plt.ylabel('loss')\n",
    "plt.xlabel('epoch')\n",
    "plt.legend(['train', 'val'], loc='upper left')\n",
    "plt.show()"
   ]
  },
  {
   "cell_type": "code",
   "execution_count": 18,
   "metadata": {},
   "outputs": [],
   "source": [
    "# Generate predictions\n",
    "trainpred = model.predict(X_train)\n",
    "valpred = model.predict(X_val)"
   ]
  },
  {
   "cell_type": "code",
   "execution_count": 19,
   "metadata": {},
   "outputs": [
    {
     "data": {
      "text/plain": [
       "array([[0.47190747],\n",
       "       [0.4363198 ],\n",
       "       [0.40470436],\n",
       "       [0.3515158 ],\n",
       "       [0.34373298],\n",
       "       [0.34716052],\n",
       "       [0.26489332],\n",
       "       [0.2953706 ],\n",
       "       [0.37710682],\n",
       "       [0.2902908 ],\n",
       "       [0.35334924],\n",
       "       [0.38115475],\n",
       "       [0.36616895],\n",
       "       [0.44368196],\n",
       "       [0.43561068],\n",
       "       [0.329181  ],\n",
       "       [0.34358683],\n",
       "       [0.22584492],\n",
       "       [0.2980596 ],\n",
       "       [0.19048186],\n",
       "       [0.27514544],\n",
       "       [0.39810458],\n",
       "       [0.3473999 ],\n",
       "       [0.4141417 ],\n",
       "       [0.44890973],\n",
       "       [0.44564942],\n",
       "       [0.3890836 ],\n",
       "       [0.28272098],\n",
       "       [0.3711721 ],\n",
       "       [0.20434716],\n",
       "       [0.28434348],\n",
       "       [0.3068048 ],\n",
       "       [0.29142764],\n",
       "       [0.43274418],\n",
       "       [0.30918598],\n",
       "       [0.39036235],\n",
       "       [0.40470698],\n",
       "       [0.385833  ],\n",
       "       [0.35956672],\n",
       "       [0.41750422],\n",
       "       [0.31572407],\n",
       "       [0.3116799 ],\n",
       "       [0.2659267 ],\n",
       "       [0.34225026],\n",
       "       [0.23828693],\n",
       "       [0.28906032],\n",
       "       [0.41635743],\n",
       "       [0.3485258 ],\n",
       "       [0.38090917],\n",
       "       [0.5008594 ],\n",
       "       [0.41762492],\n",
       "       [0.41182324],\n",
       "       [0.30237618],\n",
       "       [0.3785944 ],\n",
       "       [0.3128198 ],\n",
       "       [0.26362357],\n",
       "       [0.2655598 ],\n",
       "       [0.31472054],\n",
       "       [0.44891906],\n",
       "       [0.46422812],\n",
       "       [0.43974748],\n",
       "       [0.49674305],\n",
       "       [0.38059145],\n",
       "       [0.38290337],\n",
       "       [0.32140338],\n",
       "       [0.22746761],\n",
       "       [0.33795413],\n",
       "       [0.2504565 ],\n",
       "       [0.2954456 ],\n",
       "       [0.34928146],\n",
       "       [0.33295667],\n",
       "       [0.37058327],\n",
       "       [0.4381174 ],\n",
       "       [0.4576467 ],\n",
       "       [0.3579881 ],\n",
       "       [0.4247389 ],\n",
       "       [0.35422203],\n",
       "       [0.32317773],\n",
       "       [0.23663811],\n",
       "       [0.29309154],\n",
       "       [0.2441311 ],\n",
       "       [0.30531746],\n",
       "       [0.32181564],\n",
       "       [0.37082675],\n",
       "       [0.32460162],\n",
       "       [0.4207314 ],\n",
       "       [0.43668738],\n",
       "       [0.3653666 ],\n",
       "       [0.31742057],\n",
       "       [0.30674538],\n",
       "       [0.21384858],\n",
       "       [0.2975253 ],\n",
       "       [0.27128884],\n",
       "       [0.34513178],\n",
       "       [0.36023355],\n",
       "       [0.46391547],\n",
       "       [0.50131243],\n",
       "       [0.42013177],\n",
       "       [0.46918902],\n",
       "       [0.32950914],\n",
       "       [0.2795155 ],\n",
       "       [0.28178602],\n",
       "       [0.22284004],\n",
       "       [0.23584332],\n",
       "       [0.27023035],\n",
       "       [0.34075043],\n",
       "       [0.31999674],\n",
       "       [0.37706223],\n",
       "       [0.41176072],\n",
       "       [0.3884424 ],\n",
       "       [0.51004165],\n",
       "       [0.35980955],\n",
       "       [0.31157467],\n",
       "       [0.28604063],\n",
       "       [0.20365034],\n",
       "       [0.26018864],\n",
       "       [0.26882508],\n",
       "       [0.32105362],\n",
       "       [0.34194866],\n",
       "       [0.39003983],\n",
       "       [0.3945733 ],\n",
       "       [0.38369957],\n",
       "       [0.41398433],\n",
       "       [0.39800355],\n",
       "       [0.3592792 ],\n",
       "       [0.24038728],\n",
       "       [0.20585148],\n",
       "       [0.2826062 ],\n",
       "       [0.21155544],\n",
       "       [0.26386422],\n",
       "       [0.3603146 ],\n",
       "       [0.46177727],\n",
       "       [0.38848758],\n",
       "       [0.4319205 ],\n",
       "       [0.4487631 ],\n",
       "       [0.3406326 ],\n",
       "       [0.4128896 ],\n",
       "       [0.27678743],\n",
       "       [0.16258688],\n",
       "       [0.28653803],\n",
       "       [0.2606424 ],\n",
       "       [0.32265815],\n",
       "       [0.38148335],\n",
       "       [0.45803598],\n",
       "       [0.48779848],\n",
       "       [0.44238374],\n",
       "       [0.4406285 ],\n",
       "       [0.30825958],\n",
       "       [0.4108191 ],\n",
       "       [0.21066856],\n",
       "       [0.2560662 ],\n",
       "       [0.26429567],\n",
       "       [0.28675178],\n",
       "       [0.33601916],\n",
       "       [0.4157147 ],\n",
       "       [0.42341104],\n",
       "       [0.48631814],\n",
       "       [0.4222162 ],\n",
       "       [0.41202003],\n",
       "       [0.3199788 ],\n",
       "       [0.29057524],\n",
       "       [0.28570688],\n",
       "       [0.2738051 ],\n",
       "       [0.31246677],\n",
       "       [0.2749742 ],\n",
       "       [0.28484964],\n",
       "       [0.363161  ],\n",
       "       [0.48994246],\n",
       "       [0.4043925 ],\n",
       "       [0.4416487 ],\n",
       "       [0.44050208],\n",
       "       [0.29654637],\n",
       "       [0.31052628],\n",
       "       [0.30190966],\n",
       "       [0.20428617],\n",
       "       [0.20807303],\n",
       "       [0.26802036],\n",
       "       [0.3427764 ],\n",
       "       [0.38161692],\n",
       "       [0.5149105 ],\n",
       "       [0.46316108],\n",
       "       [0.47344378],\n",
       "       [0.45510423],\n",
       "       [0.3240351 ],\n",
       "       [0.33493987],\n",
       "       [0.2951868 ],\n",
       "       [0.27472296],\n",
       "       [0.1733516 ],\n",
       "       [0.32746866],\n",
       "       [0.29393873],\n",
       "       [0.3758022 ],\n",
       "       [0.53415304],\n",
       "       [0.37596604],\n",
       "       [0.44001123],\n",
       "       [0.44912657],\n",
       "       [0.24178699],\n",
       "       [0.34834117],\n",
       "       [0.28675172],\n",
       "       [0.230548  ],\n",
       "       [0.2616635 ],\n",
       "       [0.34555373],\n",
       "       [0.3972346 ],\n",
       "       [0.31245908],\n",
       "       [0.4563314 ],\n",
       "       [0.4494392 ],\n",
       "       [0.49125972],\n",
       "       [0.48778704],\n",
       "       [0.36475834],\n",
       "       [0.3372716 ],\n",
       "       [0.27081746],\n",
       "       [0.2530712 ],\n",
       "       [0.26503816],\n",
       "       [0.26813218],\n",
       "       [0.32910198],\n",
       "       [0.39493135],\n",
       "       [0.5154439 ],\n",
       "       [0.4886712 ],\n",
       "       [0.46600628],\n",
       "       [0.39021182],\n",
       "       [0.33073848],\n",
       "       [0.3468682 ],\n",
       "       [0.33700308],\n",
       "       [0.26236746],\n",
       "       [0.2979379 ],\n",
       "       [0.38784716],\n",
       "       [0.41671732],\n",
       "       [0.34491605],\n",
       "       [0.39593858],\n",
       "       [0.49192905],\n",
       "       [0.49102947],\n",
       "       [0.33747858],\n",
       "       [0.2897268 ],\n",
       "       [0.37379205],\n",
       "       [0.26290715],\n",
       "       [0.3168325 ],\n",
       "       [0.3336375 ],\n",
       "       [0.3942103 ],\n",
       "       [0.3351178 ],\n",
       "       [0.44555938],\n",
       "       [0.50626355],\n",
       "       [0.36089888],\n",
       "       [0.47143692],\n",
       "       [0.40403965],\n",
       "       [0.3829812 ],\n",
       "       [0.3735537 ],\n",
       "       [0.2420455 ],\n",
       "       [0.33634356],\n",
       "       [0.28332874],\n",
       "       [0.33951867],\n",
       "       [0.33776537],\n",
       "       [0.33541498],\n",
       "       [0.4216388 ],\n",
       "       [0.45513102],\n",
       "       [0.4580588 ],\n",
       "       [0.44212183],\n",
       "       [0.3771016 ],\n",
       "       [0.34716916],\n",
       "       [0.24459629],\n",
       "       [0.3258733 ],\n",
       "       [0.18458101],\n",
       "       [0.30010614],\n",
       "       [0.37959287],\n",
       "       [0.36500672],\n",
       "       [0.4730167 ],\n",
       "       [0.46508792],\n",
       "       [0.4367914 ],\n",
       "       [0.42381015],\n",
       "       [0.26438048],\n",
       "       [0.3821084 ],\n",
       "       [0.2981377 ],\n",
       "       [0.31385103],\n",
       "       [0.24138239],\n",
       "       [0.3384632 ],\n",
       "       [0.3721442 ],\n",
       "       [0.3710707 ],\n",
       "       [0.4570574 ],\n",
       "       [0.32364252],\n",
       "       [0.47722468],\n",
       "       [0.43923745],\n",
       "       [0.4019783 ],\n",
       "       [0.28963438],\n",
       "       [0.27795056],\n",
       "       [0.32096317],\n",
       "       [0.2603258 ],\n",
       "       [0.28356403],\n",
       "       [0.32440147],\n",
       "       [0.3145257 ],\n",
       "       [0.5445948 ],\n",
       "       [0.381977  ],\n",
       "       [0.46456608],\n",
       "       [0.44351503],\n",
       "       [0.45263755],\n",
       "       [0.32699966],\n",
       "       [0.323027  ],\n",
       "       [0.29160628],\n",
       "       [0.3157142 ],\n",
       "       [0.31504104],\n",
       "       [0.32290366],\n",
       "       [0.32641336],\n",
       "       [0.49977624],\n",
       "       [0.35647136],\n",
       "       [0.45195854],\n",
       "       [0.3873531 ],\n",
       "       [0.3527902 ],\n",
       "       [0.3887343 ],\n",
       "       [0.35628232],\n",
       "       [0.3912605 ],\n",
       "       [0.24219643],\n",
       "       [0.3058639 ],\n",
       "       [0.3175253 ],\n",
       "       [0.36916533],\n",
       "       [0.44753915],\n",
       "       [0.39212182],\n",
       "       [0.46084145],\n",
       "       [0.37868434],\n",
       "       [0.37074855],\n",
       "       [0.41315868],\n",
       "       [0.2684888 ],\n",
       "       [0.32140628],\n",
       "       [0.2963864 ],\n",
       "       [0.35536143],\n",
       "       [0.29862362],\n",
       "       [0.30897683],\n",
       "       [0.44484785],\n",
       "       [0.37111875],\n",
       "       [0.5339906 ],\n",
       "       [0.41911563],\n",
       "       [0.3975725 ],\n",
       "       [0.38355508],\n",
       "       [0.27007246],\n",
       "       [0.24522689],\n",
       "       [0.33504203],\n",
       "       [0.31749243],\n",
       "       [0.31345862],\n",
       "       [0.2549312 ],\n",
       "       [0.41964173],\n",
       "       [0.39377323],\n",
       "       [0.4518264 ],\n",
       "       [0.4677517 ],\n",
       "       [0.4458029 ],\n",
       "       [0.35353822],\n",
       "       [0.32247394],\n",
       "       [0.37928197],\n",
       "       [0.2631459 ],\n",
       "       [0.27330258],\n",
       "       [0.3151642 ],\n",
       "       [0.28557152],\n",
       "       [0.42780635],\n",
       "       [0.46298748],\n",
       "       [0.37915567],\n",
       "       [0.52892953],\n",
       "       [0.42764595],\n",
       "       [0.32580236],\n",
       "       [0.22498909],\n",
       "       [0.3569577 ],\n",
       "       [0.27156368],\n",
       "       [0.22229593],\n",
       "       [0.3015152 ],\n",
       "       [0.43781787],\n",
       "       [0.41887528],\n",
       "       [0.41189128],\n",
       "       [0.45883492],\n",
       "       [0.43122634],\n",
       "       [0.37060782],\n",
       "       [0.42831817],\n",
       "       [0.2610635 ],\n",
       "       [0.29487488],\n",
       "       [0.28401005],\n",
       "       [0.3468903 ],\n",
       "       [0.31924513],\n",
       "       [0.37756786],\n",
       "       [0.3799304 ],\n",
       "       [0.4099811 ],\n",
       "       [0.4325514 ],\n",
       "       [0.412288  ],\n",
       "       [0.42021796],\n",
       "       [0.39894107],\n",
       "       [0.28759095],\n",
       "       [0.2812883 ],\n",
       "       [0.22137277],\n",
       "       [0.35141045],\n",
       "       [0.3142371 ],\n",
       "       [0.3869498 ],\n",
       "       [0.5164898 ],\n",
       "       [0.48412135],\n",
       "       [0.49222967],\n",
       "       [0.4289609 ],\n",
       "       [0.40802243],\n",
       "       [0.34451643],\n",
       "       [0.28738126],\n",
       "       [0.31181356],\n",
       "       [0.2646914 ],\n",
       "       [0.31936836],\n",
       "       [0.293929  ],\n",
       "       [0.39234665],\n",
       "       [0.44694445],\n",
       "       [0.49357894],\n",
       "       [0.49336547],\n",
       "       [0.40929398],\n",
       "       [0.37597173],\n",
       "       [0.3506429 ],\n",
       "       [0.2856973 ],\n",
       "       [0.23899512],\n",
       "       [0.2561833 ],\n",
       "       [0.22186728],\n",
       "       [0.3157481 ],\n",
       "       [0.45571515],\n",
       "       [0.38668215],\n",
       "       [0.43746302],\n",
       "       [0.51039994],\n",
       "       [0.3605561 ],\n",
       "       [0.4554812 ],\n",
       "       [0.29962263],\n",
       "       [0.3042296 ],\n",
       "       [0.2508821 ],\n",
       "       [0.23066254],\n",
       "       [0.268358  ],\n",
       "       [0.3322104 ],\n",
       "       [0.374119  ],\n",
       "       [0.45528027],\n",
       "       [0.35933182],\n",
       "       [0.4026977 ],\n",
       "       [0.38545895],\n",
       "       [0.39924315],\n",
       "       [0.26100862],\n",
       "       [0.24442221],\n",
       "       [0.31312558],\n",
       "       [0.28131524],\n",
       "       [0.2644954 ],\n",
       "       [0.39568314],\n",
       "       [0.35958555],\n",
       "       [0.3992127 ],\n",
       "       [0.43123928],\n",
       "       [0.41349232],\n",
       "       [0.35236034],\n",
       "       [0.43685558],\n",
       "       [0.35255888],\n",
       "       [0.3155754 ],\n",
       "       [0.32981452],\n",
       "       [0.3396459 ],\n",
       "       [0.31017995],\n",
       "       [0.30346718],\n",
       "       [0.3579856 ],\n",
       "       [0.41548654],\n",
       "       [0.48451146],\n",
       "       [0.45836326],\n",
       "       [0.4573476 ],\n",
       "       [0.35203388]], dtype=float32)"
      ]
     },
     "execution_count": 19,
     "metadata": {},
     "output_type": "execute_result"
    }
   ],
   "source": [
    "trainpred"
   ]
  },
  {
   "cell_type": "code",
   "execution_count": 20,
   "metadata": {},
   "outputs": [
    {
     "data": {
      "text/plain": [
       "array([[0.31850278],\n",
       "       [0.3231347 ],\n",
       "       [0.34244248],\n",
       "       [0.27774125],\n",
       "       [0.34337446],\n",
       "       [0.34636348],\n",
       "       [0.37294778],\n",
       "       [0.43019903],\n",
       "       [0.45885113],\n",
       "       [0.4087421 ],\n",
       "       [0.42688605],\n",
       "       [0.38266006],\n",
       "       [0.2847139 ],\n",
       "       [0.28812072],\n",
       "       [0.307337  ],\n",
       "       [0.26798087],\n",
       "       [0.34358278],\n",
       "       [0.32424632],\n",
       "       [0.35594505],\n",
       "       [0.4912703 ],\n",
       "       [0.51642346],\n",
       "       [0.41943467]], dtype=float32)"
      ]
     },
     "execution_count": 20,
     "metadata": {},
     "output_type": "execute_result"
    }
   ],
   "source": [
    "valpred"
   ]
  },
  {
   "cell_type": "code",
   "execution_count": 21,
   "metadata": {},
   "outputs": [],
   "source": [
    "# Convert predictions back to normal values\n",
    "trainpred = scaler.inverse_transform(trainpred)\n",
    "Y_train = scaler.inverse_transform([Y_train])\n",
    "valpred = scaler.inverse_transform(valpred)\n",
    "Y_val = scaler.inverse_transform([Y_val])\n",
    "predictions = valpred"
   ]
  },
  {
   "cell_type": "code",
   "execution_count": 22,
   "metadata": {},
   "outputs": [
    {
     "data": {
      "text/plain": [
       "(1, 448)"
      ]
     },
     "execution_count": 22,
     "metadata": {},
     "output_type": "execute_result"
    }
   ],
   "source": [
    "Y_train.shape"
   ]
  },
  {
   "cell_type": "code",
   "execution_count": 23,
   "metadata": {},
   "outputs": [
    {
     "data": {
      "text/plain": [
       "(1, 22)"
      ]
     },
     "execution_count": 23,
     "metadata": {},
     "output_type": "execute_result"
    }
   ],
   "source": [
    "Y_val.shape"
   ]
  },
  {
   "cell_type": "code",
   "execution_count": 24,
   "metadata": {},
   "outputs": [
    {
     "data": {
      "text/plain": [
       "(448, 1, 120)"
      ]
     },
     "execution_count": 24,
     "metadata": {},
     "output_type": "execute_result"
    }
   ],
   "source": [
    "X_train.shape"
   ]
  },
  {
   "cell_type": "code",
   "execution_count": 25,
   "metadata": {},
   "outputs": [
    {
     "data": {
      "text/plain": [
       "(22, 1, 120)"
      ]
     },
     "execution_count": 25,
     "metadata": {},
     "output_type": "execute_result"
    }
   ],
   "source": [
    "X_val.shape"
   ]
  },
  {
   "cell_type": "code",
   "execution_count": 26,
   "metadata": {},
   "outputs": [
    {
     "data": {
      "text/plain": [
       "array([[187.6, 178.3,  70.7, 267. , 141.9, 150.2,  44.1,  57.3, 128.1,\n",
       "        116.1, 175.6, 225.6, 199.8,  82.1, 130.5, 134.3,  90. ,  33.8,\n",
       "         59.6, 114.7,  51.2,  77.1,  86.3, 112.1, 211.9,  73.2, 109.7,\n",
       "         98.4, 139.8, 140.8, 141.2,  92.4,  49.8,  69.3,  12.9,  59.7,\n",
       "        191.9, 169.5, 168.5, 149.9,  81.8,  77.7, 115.9,  67. ,  64.7,\n",
       "        162. ,  94.3, 107.7, 240.1, 148.4, 226. , 145.9,  89.2,  19.1,\n",
       "         72.4,  66.5, 129.6, 141.2, 188.9, 111.1, 187.2, 202.2, 260.6,\n",
       "         30. ,  71.2, 109.8,  17.8,  47.6, 167.9,  90.2, 121.7, 146.5,\n",
       "        156. ,  80.9, 226.5,  72.4, 123.7,  60.7, 132.9,  64.1,  60.6,\n",
       "          5.8,  91.2, 138.7, 141.8, 148.3, 117.3, 126.4, 152.2, 148.4,\n",
       "         37.4,  95.2,  77.2,  99.1, 132.4, 200.8, 246.1, 139.7, 230.6,\n",
       "         94.9, 256.2,  37.2,  33.1,  79.2,  75. , 111.3, 248.5,  71.4,\n",
       "        183.2, 178.4, 137.8,  59. , 186.4, 113.8, 139.3,  49.9,  67.4,\n",
       "        184.8, 144.1, 144. , 218.2, 209.1, 133.6, 115.8, 129.2,  17.5,\n",
       "         25.2, 169.9, 154.7, 102. , 260.2, 185.9, 192.9, 294.9, 159.1,\n",
       "        106.1, 176.1,  49.3, 155.6,  86.7, 110.7, 100.9, 246.1, 210. ,\n",
       "        122.9, 123.3, 139.1, 119.3, 178.6,  30.7,  89.4, 120.2,  25. ,\n",
       "        135.4, 114.6, 156.5, 206.4, 298.4, 204.2,  90.1, 201.4,  93.1,\n",
       "         91.1,  43.3,  41.4,  44.8, 176. , 260.3,  82.4, 173.5, 295.5,\n",
       "        135.2,  73.8,  70.5,  31.3,  77.6,  44.3,  76.3, 163. , 248.2,\n",
       "        162.7, 178.3, 111.9,  56.4, 167.7, 101.1, 133.6,  82.5, 107.8,\n",
       "        259.8, 244.4,  80.3,  75.1, 163.5, 217.9,   5. , 214. , 140.5,\n",
       "        205.1, 102. ,  97.4, 160.2,  25. , 218.4, 225. , 272.2,  81. ,\n",
       "         98.3, 155.6,  55.6,  68.3,  83.7, 104.2, 140.6, 147.8, 181.5,\n",
       "        160.7, 105.8, 261.6, 144. , 231.9,  54. ,  68.5,  53.1, 160.8,\n",
       "        183.2, 174.6, 177.6,  90.3, 115. , 136.9, 177. , 171.5,  77.3,\n",
       "         44.8, 102.4,  37.7, 193. ,  75.4, 309. , 112.6, 135.4, 233.4,\n",
       "        265.6, 111. , 128.6,  20.9, 116.3,  80.9,  96.2,  77.7, 272.3,\n",
       "        152.9, 250.1, 150.7, 100.6, 124.7, 212.9,  27.7, 116.1, 118.9,\n",
       "         90.2,  96.6, 142.2, 203.8, 165.9, 106.9, 139.8, 198.3, 141.6,\n",
       "         98.9,  51.3, 131.5, 208. , 140.7, 165.4, 247.4, 141.3, 220.2,\n",
       "         64.4,  89.7, 126.7, 155.1, 109.6, 120.9,  85.1, 100.9,  53.7,\n",
       "         83. , 337.5, 245.5, 113.3, 267.5, 164.6,  88.3, 119.6,  87.4,\n",
       "         93.3,  78.1,  90.3, 136.6, 250. , 220.9, 163.8, 182.2,  63.6,\n",
       "         84.2,  34.6, 130.4,  10.7, 102.7, 178.2, 136.7,  64.9,  70. ,\n",
       "        187. ,  76.5,  89.1,  91.6,  56.2,  98.8, 108.8,  71.9, 210.1,\n",
       "        185.7,  93.4,  28. , 200.8,  89. ,  42.7,  99.9,  80. , 124.3,\n",
       "        106.7, 123.8,  96.9, 130.8, 229.3, 165.6, 132.9, 122. ,  97. ,\n",
       "         66.5, 151.2, 145.2, 238.9,  96. , 242.8, 181.6, 198.7, 232.7,\n",
       "        169.1, 112.8, 148. ,  83.3,  79.4,  93.3, 140. , 185.6, 113.7,\n",
       "        213.3, 358.1, 133.2, 223.6, 123.2, 115.9,  80.2,  87.4,  56.6,\n",
       "        192.9, 150. , 305.8, 228.2, 175.7,  80.8,  91.4,  97. ,  94.9,\n",
       "         54.1, 111.8,  96.4, 175.4,  68.9, 141.7, 176.3,  98. , 141.7,\n",
       "        261.2,  97.4, 111.5, 118.9, 152. ,  78.5, 115.8,  38.6, 203.9,\n",
       "        230.3, 134. , 135.7,  89. ,  90.2,  66.2, 198.8,  68.5, 101.9,\n",
       "         53.5,  96.6, 110.7, 194.8, 146.6, 186.8,  71.9, 123.8, 117.1,\n",
       "         82. , 111.3, 104. , 102.6, 198.6, 192.8, 114.2, 236.2, 286.2,\n",
       "        104.5,  76.8, 124.8, 140. ,  97.1,  44. , 132.3, 123.6, 134. ,\n",
       "        191.3, 162.9,  95.9,  99.7, 134.8, 104.5, 135.6,  37.8,  58.9,\n",
       "         69. , 178.8, 178. , 192.3, 260.3, 202.9, 116.6]])"
      ]
     },
     "execution_count": 26,
     "metadata": {},
     "output_type": "execute_result"
    }
   ],
   "source": [
    "Y_train"
   ]
  },
  {
   "cell_type": "code",
   "execution_count": 27,
   "metadata": {},
   "outputs": [
    {
     "data": {
      "text/plain": [
       "array([[ 25.3,  63. ,  98.8, 182.2, 186.2, 146.8, 177.2, 207. , 181.3,\n",
       "        269.7, 155. ,  87.3,  86.2,  63.7,  61.4,  55.4, 174.9, 142.2,\n",
       "        131.2, 150.6, 189.1, 139.1]])"
      ]
     },
     "execution_count": 27,
     "metadata": {},
     "output_type": "execute_result"
    }
   ],
   "source": [
    "Y_val"
   ]
  },
  {
   "cell_type": "code",
   "execution_count": 28,
   "metadata": {},
   "outputs": [
    {
     "data": {
      "text/plain": [
       "array([[[0.53242707, 0.82242991, 0.34806004, ..., 0.21042198,\n",
       "         0.16765789, 0.28518833]],\n",
       "\n",
       "       [[0.82242991, 0.34806004, 0.28632116, ..., 0.16765789,\n",
       "         0.28518833, 0.51713396]],\n",
       "\n",
       "       [[0.34806004, 0.28632116, 0.13848768, ..., 0.28518833,\n",
       "         0.51713396, 0.49079581]],\n",
       "\n",
       "       ...,\n",
       "\n",
       "       [[0.25035401, 0.06513735, 0.55451713, ..., 0.49221184,\n",
       "         0.48994619, 0.53044463]],\n",
       "\n",
       "       [[0.06513735, 0.55451713, 0.23789295, ..., 0.48994619,\n",
       "         0.53044463, 0.72302464]],\n",
       "\n",
       "       [[0.55451713, 0.23789295, 0.10676862, ..., 0.53044463,\n",
       "         0.72302464, 0.56046446]]])"
      ]
     },
     "execution_count": 28,
     "metadata": {},
     "output_type": "execute_result"
    }
   ],
   "source": [
    "X_train"
   ]
  },
  {
   "cell_type": "code",
   "execution_count": 29,
   "metadata": {},
   "outputs": [
    {
     "data": {
      "text/plain": [
       "array([[[0.14358539, 0.33021807, 0.32880204, ..., 0.24695554,\n",
       "         0.38714245, 0.62531861]],\n",
       "\n",
       "       [[0.33021807, 0.32880204, 0.5287454 , ..., 0.38714245,\n",
       "         0.62531861, 0.0574908 ]],\n",
       "\n",
       "       [[0.32880204, 0.5287454 , 0.23336165, ..., 0.62531861,\n",
       "         0.0574908 , 0.16425942]],\n",
       "\n",
       "       ...,\n",
       "\n",
       "       [[0.49362787, 0.35202492, 0.39308978, ..., 0.48116681,\n",
       "         0.38855848, 0.35740583]],\n",
       "\n",
       "       [[0.35202492, 0.39308978, 0.16086095, ..., 0.38855848,\n",
       "         0.35740583, 0.41234778]],\n",
       "\n",
       "       [[0.39308978, 0.16086095, 0.33446616, ..., 0.35740583,\n",
       "         0.41234778, 0.52138204]]])"
      ]
     },
     "execution_count": 29,
     "metadata": {},
     "output_type": "execute_result"
    }
   ],
   "source": [
    "X_val"
   ]
  },
  {
   "cell_type": "code",
   "execution_count": 30,
   "metadata": {},
   "outputs": [
    {
     "name": "stdout",
     "output_type": "stream",
     "text": [
      "Train Score: 57.97 RMSE\n",
      "Validation Score: 50.00 RMSE\n"
     ]
    }
   ],
   "source": [
    "import math\n",
    "from sklearn.metrics import mean_squared_error\n",
    "\n",
    "# calculate RMSE\n",
    "trainScore = math.sqrt(mean_squared_error(Y_train[0], trainpred[:,0]))\n",
    "print('Train Score: %.2f RMSE' % (trainScore))\n",
    "valScore = math.sqrt(mean_squared_error(Y_val[0], valpred[:,0]))\n",
    "print('Validation Score: %.2f RMSE' % (valScore))"
   ]
  },
  {
   "cell_type": "code",
   "execution_count": 31,
   "metadata": {},
   "outputs": [],
   "source": [
    "# Train predictions\n",
    "trainpredPlot = np.empty_like(df)\n",
    "trainpredPlot[:, :] = np.nan\n",
    "trainpredPlot[previous:len(trainpred)+previous, :] = trainpred"
   ]
  },
  {
   "cell_type": "code",
   "execution_count": 32,
   "metadata": {},
   "outputs": [],
   "source": [
    "# Validation predictions\n",
    "valpredPlot = np.empty_like(df)\n",
    "valpredPlot[:, :] = np.nan\n",
    "valpredPlot[len(trainpred)+(previous*2)+1:len(df)-1, :] = valpred"
   ]
  },
  {
   "cell_type": "code",
   "execution_count": 33,
   "metadata": {},
   "outputs": [
    {
     "data": {
      "image/png": "[encoded data removed]",
      "text/plain": [
       "<Figure size 432x288 with 1 Axes>"
      ]
     },
     "metadata": {
      "needs_background": "light"
     },
     "output_type": "display_data"
    }
   ],
   "source": [
    "# Plot all predictions\n",
    "inversetransform, =plt.plot(scaler.inverse_transform(df))\n",
    "trainpred, =plt.plot(trainpredPlot)\n",
    "valpred, =plt.plot(valpredPlot)\n",
    "plt.xlabel('Days')\n",
    "plt.ylabel('Rainfall')\n",
    "plt.title(\"Predicted vs. Actual Rainfall\")\n",
    "plt.show()"
   ]
  },
  {
   "cell_type": "code",
   "execution_count": 34,
   "metadata": {},
   "outputs": [],
   "source": [
    "Y_val=Y_val.reshape(-1)\n",
    "Y_val.shape\n",
    "Y_val=pd.Series(Y_val)"
   ]
  },
  {
   "cell_type": "code",
   "execution_count": 35,
   "metadata": {},
   "outputs": [
    {
     "data": {
      "text/plain": [
       "0      25.3\n",
       "1      63.0\n",
       "2      98.8\n",
       "3     182.2\n",
       "4     186.2\n",
       "5     146.8\n",
       "6     177.2\n",
       "7     207.0\n",
       "8     181.3\n",
       "9     269.7\n",
       "10    155.0\n",
       "11     87.3\n",
       "12     86.2\n",
       "13     63.7\n",
       "14     61.4\n",
       "15     55.4\n",
       "16    174.9\n",
       "17    142.2\n",
       "18    131.2\n",
       "19    150.6\n",
       "20    189.1\n",
       "21    139.1\n",
       "dtype: float64"
      ]
     },
     "execution_count": 35,
     "metadata": {},
     "output_type": "execute_result"
    }
   ],
   "source": [
    "Y_val"
   ]
  },
  {
   "cell_type": "code",
   "execution_count": 36,
   "metadata": {},
   "outputs": [],
   "source": [
    "predictions=predictions.reshape(-1)\n",
    "predictions.shape\n",
    "predictions=pd.Series(predictions)"
   ]
  },
  {
   "cell_type": "code",
   "execution_count": 37,
   "metadata": {},
   "outputs": [
    {
     "data": {
      "text/plain": [
       "0     117.463333\n",
       "1     119.098862\n",
       "2     125.916443\n",
       "3     103.070442\n",
       "4     126.245529\n",
       "5     127.300949\n",
       "6     136.687866\n",
       "7     156.903275\n",
       "8     167.020340\n",
       "9     149.326843\n",
       "10    155.733475\n",
       "11    140.117264\n",
       "12    105.532478\n",
       "13    106.735428\n",
       "14    113.520691\n",
       "15     99.624054\n",
       "16    126.319084\n",
       "17    119.491379\n",
       "18    130.684204\n",
       "19    178.467545\n",
       "20    187.349121\n",
       "21    153.102386\n",
       "dtype: float32"
      ]
     },
     "execution_count": 37,
     "metadata": {},
     "output_type": "execute_result"
    }
   ],
   "source": [
    "predictions"
   ]
  },
  {
   "cell_type": "code",
   "execution_count": 38,
   "metadata": {},
   "outputs": [],
   "source": [
    "import numpy as np\n",
    "\n",
    "def mda(actual: np.ndarray, predicted: np.ndarray):\n",
    "    \"\"\" Mean Directional Accuracy \"\"\"\n",
    "    return np.mean((np.sign(actual[1:] - actual[:-1]) == np.sign(predicted[1:] - predicted[:-1])).astype(int))"
   ]
  },
  {
   "cell_type": "code",
   "execution_count": 39,
   "metadata": {},
   "outputs": [
    {
     "data": {
      "text/plain": [
       "0.9090909090909091"
      ]
     },
     "execution_count": 39,
     "metadata": {},
     "output_type": "execute_result"
    }
   ],
   "source": [
    "mda(Y_val, predictions)"
   ]
  },
  {
   "cell_type": "code",
   "execution_count": 40,
   "metadata": {},
   "outputs": [
    {
     "name": "stdout",
     "output_type": "stream",
     "text": [
      "RMSE: 49.998789\n"
     ]
    }
   ],
   "source": [
    "# https://machinelearningmastery.com/time-series-forecasting-performance-measures-with-python/\n",
    "\n",
    "from sklearn.metrics import mean_squared_error\n",
    "from math import sqrt\n",
    "mse = mean_squared_error(Y_val, predictions)\n",
    "rmse = sqrt(mse)\n",
    "print('RMSE: %f' % rmse)"
   ]
  },
  {
   "cell_type": "code",
   "execution_count": 41,
   "metadata": {},
   "outputs": [
    {
     "data": {
      "text/plain": [
       "0      92.163333\n",
       "1      56.098862\n",
       "2      27.116443\n",
       "3     -79.129558\n",
       "4     -59.954471\n",
       "5     -19.499051\n",
       "6     -40.512134\n",
       "7     -50.096725\n",
       "8     -14.279660\n",
       "9    -120.373157\n",
       "10      0.733475\n",
       "11     52.817264\n",
       "12     19.332478\n",
       "13     43.035428\n",
       "14     52.120691\n",
       "15     44.224054\n",
       "16    -48.580916\n",
       "17    -22.708621\n",
       "18     -0.515796\n",
       "19     27.867545\n",
       "20     -1.750879\n",
       "21     14.002386\n",
       "dtype: float64"
      ]
     },
     "execution_count": 41,
     "metadata": {},
     "output_type": "execute_result"
    }
   ],
   "source": [
    "forecast_error = (predictions-Y_val)\n",
    "forecast_error"
   ]
  },
  {
   "cell_type": "code",
   "execution_count": 42,
   "metadata": {},
   "outputs": [
    {
     "data": {
      "text/plain": [
       "-1.267682231556286"
      ]
     },
     "execution_count": 42,
     "metadata": {},
     "output_type": "execute_result"
    }
   ],
   "source": [
    "mean_forecast_error = np.mean(forecast_error)\n",
    "mean_forecast_error"
   ]
  },
  {
   "cell_type": "code",
   "execution_count": 43,
   "metadata": {},
   "outputs": [
    {
     "data": {
      "text/plain": [
       "array([[[0.53242707, 0.82242991, 0.34806004, ..., 0.21042198,\n",
       "         0.16765789, 0.28518833]],\n",
       "\n",
       "       [[0.82242991, 0.34806004, 0.28632116, ..., 0.16765789,\n",
       "         0.28518833, 0.51713396]],\n",
       "\n",
       "       [[0.34806004, 0.28632116, 0.13848768, ..., 0.28518833,\n",
       "         0.51713396, 0.49079581]],\n",
       "\n",
       "       ...,\n",
       "\n",
       "       [[0.25035401, 0.06513735, 0.55451713, ..., 0.49221184,\n",
       "         0.48994619, 0.53044463]],\n",
       "\n",
       "       [[0.06513735, 0.55451713, 0.23789295, ..., 0.48994619,\n",
       "         0.53044463, 0.72302464]],\n",
       "\n",
       "       [[0.55451713, 0.23789295, 0.10676862, ..., 0.53044463,\n",
       "         0.72302464, 0.56046446]]])"
      ]
     },
     "execution_count": 43,
     "metadata": {},
     "output_type": "execute_result"
    }
   ],
   "source": [
    "X_train"
   ]
  },
  {
   "cell_type": "code",
   "execution_count": 44,
   "metadata": {},
   "outputs": [
    {
     "data": {
      "text/plain": [
       "(448, 1, 120)"
      ]
     },
     "execution_count": 44,
     "metadata": {},
     "output_type": "execute_result"
    }
   ],
   "source": [
    "X_train.shape"
   ]
  },
  {
   "cell_type": "code",
   "execution_count": 45,
   "metadata": {},
   "outputs": [],
   "source": [
    "# Test (unseen) predictions\n",
    "Xnew = np.array([tseries.iloc[592:712],tseries.iloc[593:713],tseries.iloc[594:714],tseries.iloc[595:715],tseries.iloc[596:716],tseries.iloc[597:717],tseries.iloc[598:718],tseries.iloc[599:719],tseries.iloc[600:720],tseries.iloc[601:721]])"
   ]
  },
  {
   "cell_type": "code",
   "execution_count": 46,
   "metadata": {},
   "outputs": [
    {
     "data": {
      "text/plain": [
       "array([[123.1, 110.8, 128.8, ..., 189.1, 139.1, 107.9],\n",
       "       [110.8, 128.8,  67.5, ..., 139.1, 107.9, 227.3],\n",
       "       [128.8,  67.5, 243.8, ..., 107.9, 227.3,  92.6],\n",
       "       ...,\n",
       "       [132.3, 322.6, 133.8, ...,  84.1, 221.9, 166.3],\n",
       "       [322.6, 133.8,  86. , ..., 221.9, 166.3, 152. ],\n",
       "       [133.8,  86. ,  69.1, ..., 166.3, 152. , 142.5]])"
      ]
     },
     "execution_count": 46,
     "metadata": {},
     "output_type": "execute_result"
    }
   ],
   "source": [
    "Xnew"
   ]
  },
  {
   "cell_type": "code",
   "execution_count": 47,
   "metadata": {},
   "outputs": [],
   "source": [
    "Xnew = scaler.fit_transform(Xnew)\n",
    "Xnew\n",
    "Xnewformat = np.reshape(Xnew, (Xnew.shape[0], 1, Xnew.shape[1]))\n",
    "ynew=model.predict(Xnewformat)"
   ]
  },
  {
   "cell_type": "code",
   "execution_count": 48,
   "metadata": {},
   "outputs": [
    {
     "data": {
      "text/plain": [
       "(10, 120)"
      ]
     },
     "execution_count": 48,
     "metadata": {},
     "output_type": "execute_result"
    }
   ],
   "source": [
    "Xnew.shape"
   ]
  },
  {
   "cell_type": "code",
   "execution_count": 49,
   "metadata": {},
   "outputs": [
    {
     "data": {
      "text/plain": [
       "array([[0.402638  ],\n",
       "       [0.3522824 ],\n",
       "       [0.13839081],\n",
       "       [0.3158755 ],\n",
       "       [0.31704006],\n",
       "       [0.46124998],\n",
       "       [0.5571617 ],\n",
       "       [0.43296877],\n",
       "       [0.5010153 ],\n",
       "       [0.40076387]], dtype=float32)"
      ]
     },
     "execution_count": 49,
     "metadata": {},
     "output_type": "execute_result"
    }
   ],
   "source": [
    "ynew"
   ]
  },
  {
   "cell_type": "code",
   "execution_count": 50,
   "metadata": {},
   "outputs": [
    {
     "data": {
      "text/plain": [
       "numpy.ndarray"
      ]
     },
     "execution_count": 50,
     "metadata": {},
     "output_type": "execute_result"
    }
   ],
   "source": [
    "type(ynew)"
   ]
  },
  {
   "cell_type": "code",
   "execution_count": 51,
   "metadata": {},
   "outputs": [
    {
     "data": {
      "text/plain": [
       "(10, 1)"
      ]
     },
     "execution_count": 51,
     "metadata": {},
     "output_type": "execute_result"
    }
   ],
   "source": [
    "ynew.shape"
   ]
  },
  {
   "cell_type": "code",
   "execution_count": 52,
   "metadata": {},
   "outputs": [
    {
     "data": {
      "text/plain": [
       "712    227.3\n",
       "713     92.6\n",
       "714    110.5\n",
       "715     74.8\n",
       "716     84.1\n",
       "717    221.9\n",
       "718    166.3\n",
       "719    152.0\n",
       "720    142.5\n",
       "721    217.3\n",
       "Name: rain, dtype: float64"
      ]
     },
     "execution_count": 52,
     "metadata": {},
     "output_type": "execute_result"
    }
   ],
   "source": [
    "actual=tseries.iloc[712:722]\n",
    "actual"
   ]
  },
  {
   "cell_type": "code",
   "execution_count": 53,
   "metadata": {},
   "outputs": [
    {
     "data": {
      "text/plain": [
       "pandas.core.series.Series"
      ]
     },
     "execution_count": 53,
     "metadata": {},
     "output_type": "execute_result"
    }
   ],
   "source": [
    "type(actual)"
   ]
  },
  {
   "cell_type": "code",
   "execution_count": 54,
   "metadata": {},
   "outputs": [
    {
     "data": {
      "text/plain": [
       "array([227.3,  92.6, 110.5,  74.8,  84.1, 221.9, 166.3, 152. , 142.5,\n",
       "       217.3])"
      ]
     },
     "execution_count": 54,
     "metadata": {},
     "output_type": "execute_result"
    }
   ],
   "source": [
    "actual = np.array(actual)\n",
    "actual"
   ]
  },
  {
   "cell_type": "code",
   "execution_count": 55,
   "metadata": {},
   "outputs": [
    {
     "data": {
      "text/plain": [
       "(10, 1)"
      ]
     },
     "execution_count": 55,
     "metadata": {},
     "output_type": "execute_result"
    }
   ],
   "source": [
    "actual=actual.reshape(10,-1)\n",
    "actual.shape"
   ]
  },
  {
   "cell_type": "code",
   "execution_count": 56,
   "metadata": {},
   "outputs": [
    {
     "data": {
      "text/plain": [
       "array([[227.3],\n",
       "       [ 92.6],\n",
       "       [110.5],\n",
       "       [ 74.8],\n",
       "       [ 84.1],\n",
       "       [221.9],\n",
       "       [166.3],\n",
       "       [152. ],\n",
       "       [142.5],\n",
       "       [217.3]])"
      ]
     },
     "execution_count": 56,
     "metadata": {},
     "output_type": "execute_result"
    }
   ],
   "source": [
    "actual"
   ]
  },
  {
   "cell_type": "code",
   "execution_count": 57,
   "metadata": {},
   "outputs": [],
   "source": [
    "ynew=ynew.reshape(-1)\n",
    "actual=actual.reshape(-1)\n",
    "actualpd=pd.Series(actual)"
   ]
  },
  {
   "cell_type": "code",
   "execution_count": 58,
   "metadata": {},
   "outputs": [
    {
     "data": {
      "text/plain": [
       "0.0"
      ]
     },
     "execution_count": 58,
     "metadata": {},
     "output_type": "execute_result"
    }
   ],
   "source": [
    "np.min(df)"
   ]
  },
  {
   "cell_type": "code",
   "execution_count": 59,
   "metadata": {},
   "outputs": [
    {
     "data": {
      "text/plain": [
       "array([0.402638  , 0.3522824 , 0.13839081, 0.3158755 , 0.31704006,\n",
       "       0.46124998, 0.5571617 , 0.43296877, 0.5010153 , 0.40076387],\n",
       "      dtype=float32)"
      ]
     },
     "execution_count": 59,
     "metadata": {},
     "output_type": "execute_result"
    }
   ],
   "source": [
    "ynew"
   ]
  },
  {
   "cell_type": "code",
   "execution_count": 60,
   "metadata": {},
   "outputs": [],
   "source": [
    "maxt=np.max(tseries)"
   ]
  },
  {
   "cell_type": "code",
   "execution_count": 61,
   "metadata": {},
   "outputs": [],
   "source": [
    "mint=np.min(tseries)"
   ]
  },
  {
   "cell_type": "code",
   "execution_count": 62,
   "metadata": {},
   "outputs": [],
   "source": [
    "ynew = ynew * np.abs(maxt-mint) + np.min(tseries)\n",
    "ynewpd=pd.Series(ynew)"
   ]
  },
  {
   "cell_type": "code",
   "execution_count": 63,
   "metadata": {},
   "outputs": [
    {
     "data": {
      "text/plain": [
       "0    227.3\n",
       "1     92.6\n",
       "2    110.5\n",
       "3     74.8\n",
       "4     84.1\n",
       "5    221.9\n",
       "6    166.3\n",
       "7    152.0\n",
       "8    142.5\n",
       "9    217.3\n",
       "dtype: float64"
      ]
     },
     "execution_count": 63,
     "metadata": {},
     "output_type": "execute_result"
    }
   ],
   "source": [
    "actualpd"
   ]
  },
  {
   "cell_type": "code",
   "execution_count": 64,
   "metadata": {},
   "outputs": [
    {
     "data": {
      "text/plain": [
       "0    147.171478\n",
       "1    129.390930\n",
       "2     53.865795\n",
       "3    116.535645\n",
       "4    116.946846\n",
       "5    167.867371\n",
       "6    201.733795\n",
       "7    157.881271\n",
       "8    181.908508\n",
       "9    146.509720\n",
       "dtype: float32"
      ]
     },
     "execution_count": 64,
     "metadata": {},
     "output_type": "execute_result"
    }
   ],
   "source": [
    "ynewpd"
   ]
  },
  {
   "cell_type": "code",
   "execution_count": 65,
   "metadata": {},
   "outputs": [
    {
     "data": {
      "text/plain": [
       "0.8"
      ]
     },
     "execution_count": 65,
     "metadata": {},
     "output_type": "execute_result"
    }
   ],
   "source": [
    "mda(actualpd, ynewpd)"
   ]
  },
  {
   "cell_type": "code",
   "execution_count": 66,
   "metadata": {},
   "outputs": [
    {
     "name": "stdout",
     "output_type": "stream",
     "text": [
      "RMSE: 49.574517\n"
     ]
    }
   ],
   "source": [
    "mse = mean_squared_error(actualpd, ynewpd)\n",
    "rmse = sqrt(mse)\n",
    "print('RMSE: %f' % rmse)"
   ]
  },
  {
   "cell_type": "code",
   "execution_count": 67,
   "metadata": {},
   "outputs": [
    {
     "data": {
      "text/plain": [
       "0   -80.128522\n",
       "1    36.790930\n",
       "2   -56.634205\n",
       "3    41.735645\n",
       "4    32.846846\n",
       "5   -54.032629\n",
       "6    35.433795\n",
       "7     5.881271\n",
       "8    39.408508\n",
       "9   -70.790280\n",
       "dtype: float64"
      ]
     },
     "execution_count": 67,
     "metadata": {},
     "output_type": "execute_result"
    }
   ],
   "source": [
    "forecast_error = (ynewpd-actualpd)\n",
    "forecast_error"
   ]
  },
  {
   "cell_type": "code",
   "execution_count": 68,
   "metadata": {},
   "outputs": [
    {
     "data": {
      "text/plain": [
       "-6.948864059448245"
      ]
     },
     "execution_count": 68,
     "metadata": {},
     "output_type": "execute_result"
    }
   ],
   "source": [
    "mean_forecast_error = np.mean(forecast_error)\n",
    "mean_forecast_error"
   ]
  },
  {
   "cell_type": "code",
   "execution_count": 69,
   "metadata": {},
   "outputs": [
    {
     "data": {
      "image/png": "[encoded data removed]",
      "text/plain": [
       "<Figure size 432x288 with 1 Axes>"
      ]
     },
     "metadata": {
      "needs_background": "light"
     },
     "output_type": "display_data"
    }
   ],
   "source": [
    "predictons, =plt.plot(ynewpd, label='Predictions')\n",
    "actual, =plt.plot(actualpd, label='Actual')\n",
    "plt.xlabel('Days')\n",
    "plt.ylabel('Rainfall')\n",
    "plt.title(\"Predicted vs. Actual Rainfall\")\n",
    "plt.legend(loc = 'upper center')\n",
    "plt.show()"
   ]
  },
  {
   "cell_type": "code",
   "execution_count": null,
   "metadata": {},
   "outputs": [],
   "source": []
  }
 ],
 "metadata": {
  "kernelspec": {
   "display_name": "Python 3",
   "language": "python",
   "name": "python3"
  },
  "language_info": {
   "codemirror_mode": {
    "name": "ipython",
    "version": 3
   },
   "file_extension": ".py",
   "mimetype": "text/x-python",
   "name": "python",
   "nbconvert_exporter": "python",
   "pygments_lexer": "ipython3",
   "version": "3.6.5"
  }
 },
 "nbformat": 4,
 "nbformat_minor": 2
}
